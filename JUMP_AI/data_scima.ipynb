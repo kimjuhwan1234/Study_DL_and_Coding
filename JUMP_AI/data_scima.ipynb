{
 "cells": [
  {
   "cell_type": "code",
   "execution_count": 2,
   "id": "7f4d2ec9",
   "metadata": {},
   "outputs": [],
   "source": [
    "import pandas as pd\n",
    "import numpy as np\n",
    "from rdkit import Chem\n",
    "from rdkit.Chem import AllChem\n",
    "from rdkit.Chem import AllChem, DataStructs, Descriptors\n",
    "from sklearn.model_selection import train_test_split\n",
    "from sklearn.ensemble import RandomForestRegressor\n",
    "from sklearn.metrics import mean_squared_error\n",
    "from sklearn.preprocessing import StandardScaler\n",
    "import os\n",
    "import random"
   ]
  },
  {
   "cell_type": "code",
   "execution_count": 3,
   "id": "baad80a8",
   "metadata": {},
   "outputs": [],
   "source": [
    "CFG = {\n",
    "    'NBITS': 2048,\n",
    "    'SEED': 42\n",
    "}"
   ]
  },
  {
   "cell_type": "code",
   "execution_count": 4,
   "id": "ef88f13a",
   "metadata": {},
   "outputs": [],
   "source": [
    "def seed_everything(seed):\n",
    "    random.seed(seed)\n",
    "    os.environ['PYTHONHASHSEED'] = str(seed)\n",
    "    np.random.seed(seed)\n",
    "\n",
    "seed_everything(CFG['SEED'])"
   ]
  },
  {
   "cell_type": "code",
   "execution_count": 5,
   "id": "59af2b4f",
   "metadata": {},
   "outputs": [],
   "source": [
    "# SMILES 데이터를 분자 지문으로 변환\n",
    "def smiles_to_fingerprint(smiles):\n",
    "    mol = Chem.MolFromSmiles(smiles)\n",
    "    if mol is not None:\n",
    "        fp = AllChem.GetMorganFingerprintAsBitVect(mol, 2, nBits=CFG['NBITS'])\n",
    "        return np.array(fp)\n",
    "    else:\n",
    "        return np.zeros((CFG['NBITS'],))"
   ]
  },
  {
   "cell_type": "code",
   "execution_count": 6,
   "id": "e3f6605d",
   "metadata": {},
   "outputs": [],
   "source": [
    "def IC50_to_pIC50(ic50_nM):\n",
    "    ic50_nM = np.clip(ic50_nM, 1e-10, None)\n",
    "    return 9 - np.log10(ic50_nM)"
   ]
  },
  {
   "cell_type": "code",
   "execution_count": null,
   "id": "0c6a4763",
   "metadata": {},
   "outputs": [],
   "source": [
    "def pIC50_to_IC50(pIC50):\n",
    "    return 10 ** (9 - pIC50)"
   ]
  },
  {
   "cell_type": "code",
   "execution_count": 7,
   "id": "cb245634",
   "metadata": {},
   "outputs": [],
   "source": [
    "chembl = pd.read_csv(\"data/ChEMBL_ASK1(IC50).csv\", sep=';')\n",
    "pubchem = pd.read_csv(\"data/Pubchem_ASK1.csv\", low_memory=False)"
   ]
  },
  {
   "cell_type": "code",
   "execution_count": 9,
   "id": "3d02210a",
   "metadata": {},
   "outputs": [],
   "source": [
    "chembl.columns = chembl.columns.str.strip().str.replace('\"', '')\n",
    "chembl = chembl[chembl['Standard Type'] == 'IC50']\n",
    "chembl = chembl[['Smiles', 'Standard Value']].rename(columns={'Smiles': 'smiles', 'Standard Value': 'ic50_nM'}).dropna()\n",
    "chembl['ic50_nM'] = pd.to_numeric(chembl['ic50_nM'], errors='coerce')\n",
    "chembl['pIC50'] = IC50_to_pIC50(chembl['ic50_nM'])"
   ]
  },
  {
   "cell_type": "code",
   "execution_count": 10,
   "id": "ad6b8b0e",
   "metadata": {},
   "outputs": [],
   "source": [
    "pubchem = pubchem[['SMILES', 'Activity_Value']].rename(columns={'SMILES': 'smiles', 'Activity_Value': 'ic50_nM'}).dropna()\n",
    "pubchem['ic50_nM'] = pd.to_numeric(pubchem['ic50_nM'], errors='coerce')\n",
    "pubchem['pIC50'] = IC50_to_pIC50(pubchem['ic50_nM'])"
   ]
  },
  {
   "cell_type": "code",
   "execution_count": 12,
   "id": "d43c46b1",
   "metadata": {},
   "outputs": [],
   "source": [
    "total = pd.concat([chembl, pubchem], ignore_index=True)\n",
    "total = total.drop_duplicates(subset='smiles')\n",
    "total = total[total['ic50_nM'] > 0].dropna()"
   ]
  },
  {
   "cell_type": "code",
   "execution_count": null,
   "id": "37c2e5fe",
   "metadata": {},
   "outputs": [],
   "source": [
    "def calculate_rdkit_descriptors(smiles):\n",
    "    mol = Chem.MolFromSmiles(smiles)\n",
    "    if mol is None: return np.full((len(Descriptors._desc\n",
    "                                        List),), np.nan)\n",
    "    descriptors = [desc_func(mol) for _, desc_func in Descriptors._descList]\n",
    "    return np.array(descriptors)"
   ]
  },
  {
   "cell_type": "code",
   "execution_count": 31,
   "id": "83a7b405",
   "metadata": {},
   "outputs": [
    {
     "name": "stdout",
     "output_type": "stream",
     "text": [
      "\n",
      "--- Feature Engineering ---\n"
     ]
    }
   ],
   "source": [
    "total['pIC50'] = IC50_to_pIC50(total['ic50_nM'])\n",
    "print(\"\\n--- Feature Engineering ---\")\n",
    "total['fingerprint'] = total['smiles'].apply(smiles_to_fingerprint)\n",
    "total['descriptors'] = total['smiles'].apply(calculate_rdkit_descriptors)\n",
    "total.dropna(subset=['fingerprint', 'descriptors'], inplace=True)\n",
    "\n",
    "desc_stack = np.stack(total['descriptors'].values)\n",
    "desc_mean = np.nanmean(desc_stack, axis=0)\n",
    "desc_stack = np.nan_to_num(desc_stack, nan=desc_mean)\n",
    "\n",
    "scaler = StandardScaler()\n",
    "desc_scaled = scaler.fit_transform(desc_stack)\n",
    "fp_stack = np.stack(total['fingerprint'].values)\n",
    "X_train = np.hstack([fp_stack, desc_scaled])\n",
    "y_train = total['pIC50'].values"
   ]
  },
  {
   "cell_type": "code",
   "execution_count": 27,
   "id": "1162b6d8",
   "metadata": {},
   "outputs": [],
   "source": [
    "test = pd.read_csv(\"data/test.csv\") "
   ]
  },
  {
   "cell_type": "code",
   "execution_count": 33,
   "id": "2ff0e6bb",
   "metadata": {},
   "outputs": [],
   "source": [
    "test['Fingerprint'] = test['Smiles'].apply(smiles_to_fingerprint)\n",
    "test['descriptors'] = test['Smiles'].apply(calculate_rdkit_descriptors)\n",
    "test.dropna(subset=['Fingerprint', 'descriptors'], inplace=True)\n",
    "\n",
    "desc_stack = np.stack(test['descriptors'].values)\n",
    "desc_mean = np.nanmean(desc_stack, axis=0)\n",
    "desc_stack = np.nan_to_num(desc_stack, nan=desc_mean)\n",
    "\n",
    "\n",
    "desc_scaled = scaler.transform(desc_stack)\n",
    "fp_stack = np.stack(test['Fingerprint'].values)\n",
    "X_test = np.hstack([fp_stack, desc_scaled])"
   ]
  },
  {
   "cell_type": "code",
   "execution_count": null,
   "id": "4e9f3927",
   "metadata": {},
   "outputs": [],
   "source": [
    "np.save(\"X_train.npy\", X_train)\n",
    "np.save(\"y_train.npy\", y_train)\n",
    "np.save(\"X_test.npy\", X_test)"
   ]
  }
 ],
 "metadata": {
  "kernelspec": {
   "display_name": "etc",
   "language": "python",
   "name": "python3"
  },
  "language_info": {
   "codemirror_mode": {
    "name": "ipython",
    "version": 3
   },
   "file_extension": ".py",
   "mimetype": "text/x-python",
   "name": "python",
   "nbconvert_exporter": "python",
   "pygments_lexer": "ipython3",
   "version": "3.7.16"
  }
 },
 "nbformat": 4,
 "nbformat_minor": 5
}
