{
 "cells": [
  {
   "cell_type": "code",
   "execution_count": 1,
   "id": "5e7e429d",
   "metadata": {},
   "outputs": [
    {
     "data": {
      "text/plain": [
       "0"
      ]
     },
     "execution_count": 1,
     "metadata": {},
     "output_type": "execute_result"
    }
   ],
   "source": [
    "import gc\n",
    "import numpy as np\n",
    "import pandas as pd\n",
    "from tqdm import tqdm\n",
    "import pandas as pd\n",
    "import glob\n",
    "import os\n",
    "from joblib import Parallel, delayed\n",
    "gc.collect()"
   ]
  },
  {
   "cell_type": "code",
   "execution_count": 19,
   "id": "0be1f703",
   "metadata": {},
   "outputs": [],
   "source": [
    "df_0 = pd.read_csv('option.csv', encoding='cp949', nrows=4)"
   ]
  },
  {
   "cell_type": "code",
   "execution_count": 5,
   "id": "d1bf648c",
   "metadata": {},
   "outputs": [
    {
     "name": "stderr",
     "output_type": "stream",
     "text": [
      "C:\\Users\\asas4\\AppData\\Local\\Temp\\ipykernel_3920\\1142678970.py:1: DtypeWarning: Columns (23,24,25) have mixed types. Specify dtype option on import or set low_memory=False.\n",
      "  df_0 = pd.read_csv('spy_option.csv', encoding='cp949')\n"
     ]
    }
   ],
   "source": [
    "df_0 = pd.read_csv('spy_option.csv', encoding='cp949')"
   ]
  },
  {
   "cell_type": "code",
   "execution_count": 6,
   "id": "1c6bb4bf",
   "metadata": {},
   "outputs": [
    {
     "data": {
      "text/plain": [
       "(21573704, 38)"
      ]
     },
     "execution_count": 6,
     "metadata": {},
     "output_type": "execute_result"
    }
   ],
   "source": [
    "df_0.shape"
   ]
  },
  {
   "cell_type": "code",
   "execution_count": 34,
   "id": "33dc46fb",
   "metadata": {},
   "outputs": [],
   "source": [
    "import pandas as pd\n",
    "\n",
    "chunks = pd.read_csv('option.csv', encoding='cp949', chunksize=1000000, low_memory=False)\n",
    "\n",
    "for i, chunk in enumerate(chunks):\n",
    "    chunk.to_parquet(\n",
    "        f'chunks/option_chunk_{i}.parquet',\n",
    "        engine='pyarrow',\n",
    "        index=False,\n",
    "    )"
   ]
  },
  {
   "cell_type": "code",
   "execution_count": 27,
   "id": "8d72c32d",
   "metadata": {},
   "outputs": [
    {
     "data": {
      "text/plain": [
       "26"
      ]
     },
     "execution_count": 27,
     "metadata": {},
     "output_type": "execute_result"
    }
   ],
   "source": [
    "len(df_0.select_dtypes(include=[np.number]).columns.tolist())"
   ]
  },
  {
   "cell_type": "code",
   "execution_count": 33,
   "id": "7c2c2f49",
   "metadata": {},
   "outputs": [],
   "source": [
    "cat_col = [col for col in df_0.columns if col not in df_0.select_dtypes(include=[np.number]).columns.tolist()]"
   ]
  },
  {
   "cell_type": "code",
   "execution_count": 36,
   "id": "4575b174",
   "metadata": {},
   "outputs": [
    {
     "data": {
      "text/plain": [
       "['date',\n",
       " 'symbol',\n",
       " 'exdate',\n",
       " 'last_date',\n",
       " 'cp_flag',\n",
       " 'root',\n",
       " 'suffix',\n",
       " 'ticker',\n",
       " 'issue_type',\n",
       " 'issuer',\n",
       " 'div_convention',\n",
       " 'exercise_style']"
      ]
     },
     "execution_count": 36,
     "metadata": {},
     "output_type": "execute_result"
    }
   ],
   "source": [
    "cat_col"
   ]
  },
  {
   "cell_type": "code",
   "execution_count": 35,
   "id": "bf2a5caa",
   "metadata": {},
   "outputs": [
    {
     "data": {
      "text/html": [
       "<div>\n",
       "<style scoped>\n",
       "    .dataframe tbody tr th:only-of-type {\n",
       "        vertical-align: middle;\n",
       "    }\n",
       "\n",
       "    .dataframe tbody tr th {\n",
       "        vertical-align: top;\n",
       "    }\n",
       "\n",
       "    .dataframe thead th {\n",
       "        text-align: right;\n",
       "    }\n",
       "</style>\n",
       "<table border=\"1\" class=\"dataframe\">\n",
       "  <thead>\n",
       "    <tr style=\"text-align: right;\">\n",
       "      <th></th>\n",
       "      <th>date</th>\n",
       "      <th>symbol</th>\n",
       "      <th>exdate</th>\n",
       "      <th>last_date</th>\n",
       "      <th>cp_flag</th>\n",
       "      <th>root</th>\n",
       "      <th>suffix</th>\n",
       "      <th>ticker</th>\n",
       "      <th>issue_type</th>\n",
       "      <th>issuer</th>\n",
       "      <th>div_convention</th>\n",
       "      <th>exercise_style</th>\n",
       "    </tr>\n",
       "  </thead>\n",
       "  <tbody>\n",
       "    <tr>\n",
       "      <th>0</th>\n",
       "      <td>1996-01-04</td>\n",
       "      <td>098D5.5F</td>\n",
       "      <td>1996-01-20</td>\n",
       "      <td>1996-01-04</td>\n",
       "      <td>C</td>\n",
       "      <td>098D5</td>\n",
       "      <td>5F</td>\n",
       "      <td>XMI</td>\n",
       "      <td>A</td>\n",
       "      <td>NYSE ARCA MAJOR MARKET</td>\n",
       "      <td>I</td>\n",
       "      <td>E</td>\n",
       "    </tr>\n",
       "    <tr>\n",
       "      <th>1</th>\n",
       "      <td>1996-01-04</td>\n",
       "      <td>09931.91</td>\n",
       "      <td>1996-01-20</td>\n",
       "      <td>NaN</td>\n",
       "      <td>C</td>\n",
       "      <td>09931</td>\n",
       "      <td>91</td>\n",
       "      <td>XMI</td>\n",
       "      <td>A</td>\n",
       "      <td>NYSE ARCA MAJOR MARKET</td>\n",
       "      <td>I</td>\n",
       "      <td>E</td>\n",
       "    </tr>\n",
       "    <tr>\n",
       "      <th>2</th>\n",
       "      <td>1996-01-04</td>\n",
       "      <td>09954.7D</td>\n",
       "      <td>1996-02-17</td>\n",
       "      <td>NaN</td>\n",
       "      <td>C</td>\n",
       "      <td>09954</td>\n",
       "      <td>7D</td>\n",
       "      <td>XMI</td>\n",
       "      <td>A</td>\n",
       "      <td>NYSE ARCA MAJOR MARKET</td>\n",
       "      <td>I</td>\n",
       "      <td>E</td>\n",
       "    </tr>\n",
       "    <tr>\n",
       "      <th>3</th>\n",
       "      <td>1996-01-04</td>\n",
       "      <td>09A02.DC</td>\n",
       "      <td>1996-03-16</td>\n",
       "      <td>NaN</td>\n",
       "      <td>C</td>\n",
       "      <td>09A02</td>\n",
       "      <td>DC</td>\n",
       "      <td>XMI</td>\n",
       "      <td>A</td>\n",
       "      <td>NYSE ARCA MAJOR MARKET</td>\n",
       "      <td>I</td>\n",
       "      <td>E</td>\n",
       "    </tr>\n",
       "  </tbody>\n",
       "</table>\n",
       "</div>"
      ],
      "text/plain": [
       "         date    symbol      exdate   last_date cp_flag   root suffix ticker  \\\n",
       "0  1996-01-04  098D5.5F  1996-01-20  1996-01-04       C  098D5     5F    XMI   \n",
       "1  1996-01-04  09931.91  1996-01-20         NaN       C  09931     91    XMI   \n",
       "2  1996-01-04  09954.7D  1996-02-17         NaN       C  09954     7D    XMI   \n",
       "3  1996-01-04  09A02.DC  1996-03-16         NaN       C  09A02     DC    XMI   \n",
       "\n",
       "  issue_type                  issuer div_convention exercise_style  \n",
       "0          A  NYSE ARCA MAJOR MARKET              I              E  \n",
       "1          A  NYSE ARCA MAJOR MARKET              I              E  \n",
       "2          A  NYSE ARCA MAJOR MARKET              I              E  \n",
       "3          A  NYSE ARCA MAJOR MARKET              I              E  "
      ]
     },
     "execution_count": 35,
     "metadata": {},
     "output_type": "execute_result"
    }
   ],
   "source": [
    "df_0[cat_col]"
   ]
  },
  {
   "cell_type": "code",
   "execution_count": 39,
   "id": "3caa9b5a",
   "metadata": {},
   "outputs": [
    {
     "data": {
      "text/plain": [
       "array(['E'], dtype=object)"
      ]
     },
     "execution_count": 39,
     "metadata": {},
     "output_type": "execute_result"
    }
   ],
   "source": [
    "np.unique(df_0['exercise_style'])"
   ]
  },
  {
   "cell_type": "code",
   "execution_count": 25,
   "id": "f00f6c28",
   "metadata": {},
   "outputs": [],
   "source": [
    "df_ = pd.read_csv('option.csv', encoding='cp949', usecols=['ticker', 'issuer'])"
   ]
  },
  {
   "cell_type": "code",
   "execution_count": 28,
   "id": "6ed50276",
   "metadata": {},
   "outputs": [
    {
     "data": {
      "text/plain": [
       "107"
      ]
     },
     "execution_count": 28,
     "metadata": {},
     "output_type": "execute_result"
    }
   ],
   "source": [
    "df_.shape[0]//1000000"
   ]
  },
  {
   "cell_type": "code",
   "execution_count": 40,
   "id": "655c7d31",
   "metadata": {},
   "outputs": [
    {
     "name": "stderr",
     "output_type": "stream",
     "text": [
      "C:\\Users\\asas4\\AppData\\Local\\Temp\\ipykernel_21012\\3733477512.py:1: DtypeWarning: Columns (32) have mixed types. Specify dtype option on import or set low_memory=False.\n",
      "  df_2 = pd.read_csv('option.csv', encoding='cp949', usecols=['cp_flag', 'exercise_style', 'issue_type'])\n"
     ]
    }
   ],
   "source": [
    "df_2 = pd.read_csv('option.csv', encoding='cp949', usecols=['cp_flag', 'exercise_style', 'issue_type'])"
   ]
  },
  {
   "cell_type": "code",
   "execution_count": 17,
   "id": "984e2d2d",
   "metadata": {},
   "outputs": [
    {
     "data": {
      "text/plain": [
       "array(['APPLE INC', 'CBOE MINI-NDX INDEX', 'CBOE S&P 100 INDEX',\n",
       "       'CBOE S&P 500 INDEX', 'DOW JONES INDL AVG INDEX',\n",
       "       'JOHNSON & JOHNSON', 'MASTERCARD INCORPORATED',\n",
       "       'META PLATFORMS INC', 'MICROSOFT CORPORATION', 'NASDAQ 100 INDEX',\n",
       "       'NIKE, INC.', 'NVIDIA CORP', 'NYSE ARCA MAJOR MARKET'],\n",
       "      dtype=object)"
      ]
     },
     "execution_count": 17,
     "metadata": {},
     "output_type": "execute_result"
    }
   ],
   "source": [
    "np.unique(df_['issuer'])"
   ]
  },
  {
   "cell_type": "code",
   "execution_count": 41,
   "id": "da851664",
   "metadata": {},
   "outputs": [
    {
     "data": {
      "text/plain": [
       "array(['C', 'P'], dtype=object)"
      ]
     },
     "execution_count": 41,
     "metadata": {},
     "output_type": "execute_result"
    }
   ],
   "source": [
    "np.unique(df_2['cp_flag'])"
   ]
  },
  {
   "cell_type": "code",
   "execution_count": 42,
   "id": "104c1fc8",
   "metadata": {},
   "outputs": [
    {
     "data": {
      "text/plain": [
       "array(['A', 'E'], dtype=object)"
      ]
     },
     "execution_count": 42,
     "metadata": {},
     "output_type": "execute_result"
    }
   ],
   "source": [
    "np.unique(df_2['exercise_style'])"
   ]
  },
  {
   "cell_type": "code",
   "execution_count": 44,
   "id": "e7156f80",
   "metadata": {},
   "outputs": [
    {
     "data": {
      "text/plain": [
       "array(['A', '0', 0], dtype=object)"
      ]
     },
     "execution_count": 44,
     "metadata": {},
     "output_type": "execute_result"
    }
   ],
   "source": [
    "df_2['issue_type'].unique()"
   ]
  },
  {
   "cell_type": "code",
   "execution_count": 46,
   "id": "873bead3",
   "metadata": {},
   "outputs": [
    {
     "data": {
      "text/plain": [
       "['XMI',\n",
       " 'AAPL',\n",
       " 'NDX',\n",
       " 'JNJ',\n",
       " 'MSFT',\n",
       " 'SPX',\n",
       " 'NKE',\n",
       " 'OEX',\n",
       " 'DJX',\n",
       " 'NVDA',\n",
       " 'MNX',\n",
       " 'MA',\n",
       " 'META']"
      ]
     },
     "execution_count": 46,
     "metadata": {},
     "output_type": "execute_result"
    }
   ],
   "source": [
    "list(df_['ticker'].unique())"
   ]
  },
  {
   "cell_type": "code",
   "execution_count": 35,
   "id": "45260eba",
   "metadata": {},
   "outputs": [],
   "source": [
    "# 필터링 대상\n",
    "tickers = ['XMI', 'AAPL', 'NDX', 'JNJ', 'MSFT', 'SPX', 'NKE', 'OEX', 'DJX', 'NVDA', 'MNX', 'MA', 'META']\n",
    "cp_flags = ['C', 'P']\n",
    "exercise_styles = ['A', 'E']\n",
    "\n",
    "# 모든 조합 생성\n",
    "jobs = [(ticker, cp, style) for ticker in tickers for cp in cp_flags for style in exercise_styles]"
   ]
  },
  {
   "cell_type": "code",
   "execution_count": 55,
   "id": "8a4152ce",
   "metadata": {},
   "outputs": [
    {
     "data": {
      "text/plain": [
       "[('XMI', 'C', 'A'),\n",
       " ('XMI', 'C', 'E'),\n",
       " ('XMI', 'P', 'A'),\n",
       " ('XMI', 'P', 'E'),\n",
       " ('AAPL', 'C', 'A'),\n",
       " ('AAPL', 'C', 'E'),\n",
       " ('AAPL', 'P', 'A'),\n",
       " ('AAPL', 'P', 'E'),\n",
       " ('NDX', 'C', 'A'),\n",
       " ('NDX', 'C', 'E'),\n",
       " ('NDX', 'P', 'A'),\n",
       " ('NDX', 'P', 'E'),\n",
       " ('JNJ', 'C', 'A'),\n",
       " ('JNJ', 'C', 'E'),\n",
       " ('JNJ', 'P', 'A'),\n",
       " ('JNJ', 'P', 'E'),\n",
       " ('MSFT', 'C', 'A'),\n",
       " ('MSFT', 'C', 'E'),\n",
       " ('MSFT', 'P', 'A'),\n",
       " ('MSFT', 'P', 'E'),\n",
       " ('SPX', 'C', 'A'),\n",
       " ('SPX', 'C', 'E'),\n",
       " ('SPX', 'P', 'A'),\n",
       " ('SPX', 'P', 'E'),\n",
       " ('NKE', 'C', 'A'),\n",
       " ('NKE', 'C', 'E'),\n",
       " ('NKE', 'P', 'A'),\n",
       " ('NKE', 'P', 'E'),\n",
       " ('OEX', 'C', 'A'),\n",
       " ('OEX', 'C', 'E'),\n",
       " ('OEX', 'P', 'A'),\n",
       " ('OEX', 'P', 'E'),\n",
       " ('DJX', 'C', 'A'),\n",
       " ('DJX', 'C', 'E'),\n",
       " ('DJX', 'P', 'A'),\n",
       " ('DJX', 'P', 'E'),\n",
       " ('NVDA', 'C', 'A'),\n",
       " ('NVDA', 'C', 'E'),\n",
       " ('NVDA', 'P', 'A'),\n",
       " ('NVDA', 'P', 'E'),\n",
       " ('MNX', 'C', 'A'),\n",
       " ('MNX', 'C', 'E'),\n",
       " ('MNX', 'P', 'A'),\n",
       " ('MNX', 'P', 'E'),\n",
       " ('MA', 'C', 'A'),\n",
       " ('MA', 'C', 'E'),\n",
       " ('MA', 'P', 'A'),\n",
       " ('MA', 'P', 'E'),\n",
       " ('META', 'C', 'A'),\n",
       " ('META', 'C', 'E'),\n",
       " ('META', 'P', 'A'),\n",
       " ('META', 'P', 'E')]"
      ]
     },
     "execution_count": 55,
     "metadata": {},
     "output_type": "execute_result"
    }
   ],
   "source": [
    "jobs"
   ]
  },
  {
   "cell_type": "code",
   "execution_count": 46,
   "id": "429a0c2e",
   "metadata": {},
   "outputs": [
    {
     "name": "stdout",
     "output_type": "stream",
     "text": [
      "Saved filtered data to filtered/XMI_C_E.parquet\n",
      "Saved filtered data to filtered/XMI_P_E.parquet\n",
      "Saved filtered data to filtered/AAPL_C_A.parquet\n",
      "Saved filtered data to filtered/AAPL_P_A.parquet\n",
      "Saved filtered data to filtered/NDX_C_E.parquet\n",
      "Saved filtered data to filtered/NDX_P_E.parquet\n",
      "Saved filtered data to filtered/JNJ_C_A.parquet\n",
      "Saved filtered data to filtered/JNJ_P_A.parquet\n",
      "Saved filtered data to filtered/MSFT_C_A.parquet\n",
      "Saved filtered data to filtered/MSFT_P_A.parquet\n",
      "Saved filtered data to filtered/SPX_C_E.parquet\n",
      "Saved filtered data to filtered/SPX_P_E.parquet\n",
      "Saved filtered data to filtered/NKE_C_A.parquet\n",
      "Saved filtered data to filtered/NKE_P_A.parquet\n",
      "Saved filtered data to filtered/OEX_C_A.parquet\n",
      "Saved filtered data to filtered/OEX_P_A.parquet\n",
      "Saved filtered data to filtered/DJX_C_E.parquet\n",
      "Saved filtered data to filtered/DJX_P_E.parquet\n",
      "Saved filtered data to filtered/NVDA_C_A.parquet\n",
      "Saved filtered data to filtered/NVDA_P_A.parquet\n",
      "Saved filtered data to filtered/MNX_C_E.parquet\n",
      "Saved filtered data to filtered/MNX_P_E.parquet\n",
      "Saved filtered data to filtered/MA_C_A.parquet\n",
      "Saved filtered data to filtered/MA_P_A.parquet\n",
      "Saved filtered data to filtered/META_C_A.parquet\n",
      "Saved filtered data to filtered/META_P_A.parquet\n"
     ]
    }
   ],
   "source": [
    "\n",
    "\n",
    "# 설정\n",
    "input_dir = 'chunks'\n",
    "output_dir = 'filtered'\n",
    "os.makedirs(output_dir, exist_ok=True)\n",
    "\n",
    "\n",
    "# 청크 파일 목록 가져오기\n",
    "chunk_files = sorted(glob.glob(f'{input_dir}/option_chunk_*.parquet'))\n",
    "\n",
    "filtered_parts = []\n",
    "\n",
    "for condition in jobs:\n",
    "    ticker, cp_flag, exercise_style = condition\n",
    "    filters = [\n",
    "        ('ticker', '==', ticker),\n",
    "        ('cp_flag', '==', cp_flag),\n",
    "        ('exercise_style', '==', exercise_style)\n",
    "    ]\n",
    "    \n",
    "    for file in chunk_files:\n",
    "        try:\n",
    "            # 필터 조건에 맞는 데이터만 읽기\n",
    "            df = pd.read_parquet(file, filters=filters, engine='pyarrow')  # pyarrow 필수\n",
    "            if not df.empty:\n",
    "                \n",
    "                filtered_parts.append(df)\n",
    "                del df\n",
    "                gc.collect()\n",
    "\n",
    "        except Exception as e:\n",
    "            print(f\"Skipping {file} due to: {e}\")\n",
    "\n",
    "    if filtered_parts:\n",
    "        # 결과를 하나의 DataFrame으로 합치기\n",
    "        result_df = pd.concat(filtered_parts, ignore_index=True)\n",
    "        \n",
    "        # 결과를 Parquet 파일로 저장\n",
    "        output_file = f'{output_dir}/{ticker}_{cp_flag}_{exercise_style}.parquet'\n",
    "        # 문자열 기반 object 컬럼만 category로 변환\n",
    "        for col in result_df.select_dtypes(include='object').columns:\n",
    "            if result_df[col].map(type).eq(str).all():\n",
    "                result_df[col] = result_df[col].astype('category')\n",
    "            else:\n",
    "                result_df[col] = result_df[col].astype(str)  # fallback\n",
    "\n",
    "        result_df.to_parquet(output_file, engine='pyarrow', index=False)\n",
    "        \n",
    "        print(f\"Saved filtered data to {output_file}\")\n",
    "        del result_df\n",
    "        gc.collect()\n",
    "        \n",
    "        filtered_parts = []"
   ]
  },
  {
   "cell_type": "code",
   "execution_count": 47,
   "id": "e93ae5a9",
   "metadata": {},
   "outputs": [],
   "source": [
    "check_df = pd.read_parquet('filtered/AAPL_C_A.parquet', engine='pyarrow')"
   ]
  },
  {
   "cell_type": "code",
   "execution_count": 53,
   "id": "270a5d78",
   "metadata": {},
   "outputs": [
    {
     "data": {
      "text/plain": [
       "Index(['secid', 'date', 'symbol', 'symbol_flag', 'exdate', 'last_date',\n",
       "       'cp_flag', 'strike_price', 'best_bid', 'best_offer', 'volume',\n",
       "       'open_interest', 'impl_volatility', 'delta', 'gamma', 'vega', 'theta',\n",
       "       'optionid', 'cfadj', 'am_settlement', 'contract_size', 'ss_flag',\n",
       "       'forward_price', 'expiry_indicator', 'root', 'suffix', 'cusip',\n",
       "       'ticker', 'sic', 'index_flag', 'exchange_d', 'class', 'issue_type',\n",
       "       'industry_group', 'issuer', 'div_convention', 'exercise_style',\n",
       "       'am_set_flag'],\n",
       "      dtype='object')"
      ]
     },
     "execution_count": 53,
     "metadata": {},
     "output_type": "execute_result"
    }
   ],
   "source": [
    "check_df.columns"
   ]
  },
  {
   "cell_type": "code",
   "execution_count": 7,
   "id": "8ee4f809",
   "metadata": {},
   "outputs": [
    {
     "data": {
      "text/html": [
       "<div>\n",
       "<style scoped>\n",
       "    .dataframe tbody tr th:only-of-type {\n",
       "        vertical-align: middle;\n",
       "    }\n",
       "\n",
       "    .dataframe tbody tr th {\n",
       "        vertical-align: top;\n",
       "    }\n",
       "\n",
       "    .dataframe thead th {\n",
       "        text-align: right;\n",
       "    }\n",
       "</style>\n",
       "<table border=\"1\" class=\"dataframe\">\n",
       "  <thead>\n",
       "    <tr style=\"text-align: right;\">\n",
       "      <th></th>\n",
       "      <th>secid</th>\n",
       "      <th>date</th>\n",
       "      <th>symbol</th>\n",
       "      <th>symbol_flag</th>\n",
       "      <th>exdate</th>\n",
       "      <th>last_date</th>\n",
       "      <th>cp_flag</th>\n",
       "      <th>strike_price</th>\n",
       "      <th>best_bid</th>\n",
       "      <th>best_offer</th>\n",
       "      <th>...</th>\n",
       "      <th>sic</th>\n",
       "      <th>index_flag</th>\n",
       "      <th>exchange_d</th>\n",
       "      <th>class</th>\n",
       "      <th>issue_type</th>\n",
       "      <th>industry_group</th>\n",
       "      <th>issuer</th>\n",
       "      <th>div_convention</th>\n",
       "      <th>exercise_style</th>\n",
       "      <th>am_set_flag</th>\n",
       "    </tr>\n",
       "  </thead>\n",
       "  <tbody>\n",
       "    <tr>\n",
       "      <th>0</th>\n",
       "      <td>109820</td>\n",
       "      <td>2005-01-10</td>\n",
       "      <td>SFB.AA</td>\n",
       "      <td>0</td>\n",
       "      <td>2005-01-22</td>\n",
       "      <td>NaN</td>\n",
       "      <td>C</td>\n",
       "      <td>131000</td>\n",
       "      <td>0.0</td>\n",
       "      <td>0.05</td>\n",
       "      <td>...</td>\n",
       "      <td>NaN</td>\n",
       "      <td>0</td>\n",
       "      <td>1</td>\n",
       "      <td>NaN</td>\n",
       "      <td>%</td>\n",
       "      <td>NaN</td>\n",
       "      <td>SSGA ACTIVE TRUST</td>\n",
       "      <td>NaN</td>\n",
       "      <td>A</td>\n",
       "      <td>NaN</td>\n",
       "    </tr>\n",
       "    <tr>\n",
       "      <th>1</th>\n",
       "      <td>109820</td>\n",
       "      <td>2005-01-10</td>\n",
       "      <td>SFB.AB</td>\n",
       "      <td>0</td>\n",
       "      <td>2005-01-22</td>\n",
       "      <td>NaN</td>\n",
       "      <td>C</td>\n",
       "      <td>132000</td>\n",
       "      <td>0.0</td>\n",
       "      <td>0.05</td>\n",
       "      <td>...</td>\n",
       "      <td>NaN</td>\n",
       "      <td>0</td>\n",
       "      <td>1</td>\n",
       "      <td>NaN</td>\n",
       "      <td>%</td>\n",
       "      <td>NaN</td>\n",
       "      <td>SSGA ACTIVE TRUST</td>\n",
       "      <td>NaN</td>\n",
       "      <td>A</td>\n",
       "      <td>NaN</td>\n",
       "    </tr>\n",
       "    <tr>\n",
       "      <th>2</th>\n",
       "      <td>109820</td>\n",
       "      <td>2005-01-10</td>\n",
       "      <td>SFB.AC</td>\n",
       "      <td>0</td>\n",
       "      <td>2005-01-22</td>\n",
       "      <td>NaN</td>\n",
       "      <td>C</td>\n",
       "      <td>133000</td>\n",
       "      <td>0.0</td>\n",
       "      <td>0.05</td>\n",
       "      <td>...</td>\n",
       "      <td>NaN</td>\n",
       "      <td>0</td>\n",
       "      <td>1</td>\n",
       "      <td>NaN</td>\n",
       "      <td>%</td>\n",
       "      <td>NaN</td>\n",
       "      <td>SSGA ACTIVE TRUST</td>\n",
       "      <td>NaN</td>\n",
       "      <td>A</td>\n",
       "      <td>NaN</td>\n",
       "    </tr>\n",
       "    <tr>\n",
       "      <th>3</th>\n",
       "      <td>109820</td>\n",
       "      <td>2005-01-10</td>\n",
       "      <td>SFB.AD</td>\n",
       "      <td>0</td>\n",
       "      <td>2005-01-22</td>\n",
       "      <td>NaN</td>\n",
       "      <td>C</td>\n",
       "      <td>134000</td>\n",
       "      <td>0.0</td>\n",
       "      <td>0.05</td>\n",
       "      <td>...</td>\n",
       "      <td>NaN</td>\n",
       "      <td>0</td>\n",
       "      <td>1</td>\n",
       "      <td>NaN</td>\n",
       "      <td>%</td>\n",
       "      <td>NaN</td>\n",
       "      <td>SSGA ACTIVE TRUST</td>\n",
       "      <td>NaN</td>\n",
       "      <td>A</td>\n",
       "      <td>NaN</td>\n",
       "    </tr>\n",
       "    <tr>\n",
       "      <th>4</th>\n",
       "      <td>109820</td>\n",
       "      <td>2005-01-10</td>\n",
       "      <td>SFB.AE</td>\n",
       "      <td>0</td>\n",
       "      <td>2005-01-22</td>\n",
       "      <td>NaN</td>\n",
       "      <td>C</td>\n",
       "      <td>135000</td>\n",
       "      <td>0.0</td>\n",
       "      <td>0.05</td>\n",
       "      <td>...</td>\n",
       "      <td>NaN</td>\n",
       "      <td>0</td>\n",
       "      <td>1</td>\n",
       "      <td>NaN</td>\n",
       "      <td>%</td>\n",
       "      <td>NaN</td>\n",
       "      <td>SSGA ACTIVE TRUST</td>\n",
       "      <td>NaN</td>\n",
       "      <td>A</td>\n",
       "      <td>NaN</td>\n",
       "    </tr>\n",
       "  </tbody>\n",
       "</table>\n",
       "<p>5 rows × 38 columns</p>\n",
       "</div>"
      ],
      "text/plain": [
       "    secid        date  symbol  symbol_flag      exdate last_date cp_flag  \\\n",
       "0  109820  2005-01-10  SFB.AA            0  2005-01-22       NaN       C   \n",
       "1  109820  2005-01-10  SFB.AB            0  2005-01-22       NaN       C   \n",
       "2  109820  2005-01-10  SFB.AC            0  2005-01-22       NaN       C   \n",
       "3  109820  2005-01-10  SFB.AD            0  2005-01-22       NaN       C   \n",
       "4  109820  2005-01-10  SFB.AE            0  2005-01-22       NaN       C   \n",
       "\n",
       "   strike_price  best_bid  best_offer  ...  sic  index_flag  exchange_d  \\\n",
       "0        131000       0.0        0.05  ...  NaN           0           1   \n",
       "1        132000       0.0        0.05  ...  NaN           0           1   \n",
       "2        133000       0.0        0.05  ...  NaN           0           1   \n",
       "3        134000       0.0        0.05  ...  NaN           0           1   \n",
       "4        135000       0.0        0.05  ...  NaN           0           1   \n",
       "\n",
       "   class  issue_type  industry_group             issuer  div_convention  \\\n",
       "0    NaN           %             NaN  SSGA ACTIVE TRUST             NaN   \n",
       "1    NaN           %             NaN  SSGA ACTIVE TRUST             NaN   \n",
       "2    NaN           %             NaN  SSGA ACTIVE TRUST             NaN   \n",
       "3    NaN           %             NaN  SSGA ACTIVE TRUST             NaN   \n",
       "4    NaN           %             NaN  SSGA ACTIVE TRUST             NaN   \n",
       "\n",
       "   exercise_style  am_set_flag  \n",
       "0               A          NaN  \n",
       "1               A          NaN  \n",
       "2               A          NaN  \n",
       "3               A          NaN  \n",
       "4               A          NaN  \n",
       "\n",
       "[5 rows x 38 columns]"
      ]
     },
     "execution_count": 7,
     "metadata": {},
     "output_type": "execute_result"
    }
   ],
   "source": [
    "df_0.head()"
   ]
  },
  {
   "cell_type": "code",
   "execution_count": 9,
   "id": "4d5fdd44",
   "metadata": {},
   "outputs": [
    {
     "data": {
      "text/plain": [
       "array(['C', 'P'], dtype=object)"
      ]
     },
     "execution_count": 9,
     "metadata": {},
     "output_type": "execute_result"
    }
   ],
   "source": [
    "np.unique(df_0['cp_flag'])"
   ]
  },
  {
   "cell_type": "code",
   "execution_count": 10,
   "id": "bda17db8",
   "metadata": {},
   "outputs": [],
   "source": [
    "df_0[df_0['cp_flag'] == 'C'].to_parquet('filtered/spy_C_A.parquet', engine='pyarrow', index=False)"
   ]
  },
  {
   "cell_type": "code",
   "execution_count": 11,
   "id": "20ca805f",
   "metadata": {},
   "outputs": [],
   "source": [
    "df_0[df_0['cp_flag'] == 'P'].to_parquet('filtered/spy_P_A.parquet', engine='pyarrow', index=False)"
   ]
  },
  {
   "cell_type": "code",
   "execution_count": 2,
   "id": "23bae73d",
   "metadata": {},
   "outputs": [
    {
     "data": {
      "text/plain": [
       "['MA_P_A.parquet',\n",
       " 'AAPL_P_A.parquet',\n",
       " 'JNJ_C_A.parquet',\n",
       " 'AAPL_C_A.parquet',\n",
       " 'MNX_P_E.parquet',\n",
       " 'MSFT_P_A.parquet',\n",
       " 'SPX_P_E.parquet',\n",
       " 'NKE_P_A.parquet',\n",
       " 'NDX_P_E.parquet',\n",
       " 'MNX_C_E.parquet',\n",
       " 'JNJ_P_A.parquet',\n",
       " 'OEX_C_A.parquet',\n",
       " 'NKE_C_A.parquet',\n",
       " 'NVDA_C_A.parquet',\n",
       " 'spy_P_A.parquet',\n",
       " 'MA_C_A.parquet',\n",
       " 'DJX_C_E.parquet',\n",
       " 'NDX_C_E.parquet',\n",
       " 'XMI_C_E.parquet',\n",
       " 'MSFT_C_A.parquet',\n",
       " 'spy_C_A.parquet',\n",
       " 'SPX_C_E.parquet',\n",
       " 'XMI_P_E.parquet',\n",
       " 'DJX_P_E.parquet',\n",
       " 'NVDA_P_A.parquet',\n",
       " 'META_P_A.parquet',\n",
       " 'OEX_P_A.parquet',\n",
       " 'META_C_A.parquet']"
      ]
     },
     "execution_count": 2,
     "metadata": {},
     "output_type": "execute_result"
    }
   ],
   "source": [
    "os.listdir('filtered')"
   ]
  },
  {
   "cell_type": "code",
   "execution_count": null,
   "id": "49e3de45",
   "metadata": {},
   "outputs": [],
   "source": []
  }
 ],
 "metadata": {
  "kernelspec": {
   "display_name": "research",
   "language": "python",
   "name": "python3"
  },
  "language_info": {
   "codemirror_mode": {
    "name": "ipython",
    "version": 3
   },
   "file_extension": ".py",
   "mimetype": "text/x-python",
   "name": "python",
   "nbconvert_exporter": "python",
   "pygments_lexer": "ipython3",
   "version": "3.9.23"
  }
 },
 "nbformat": 4,
 "nbformat_minor": 5
}
