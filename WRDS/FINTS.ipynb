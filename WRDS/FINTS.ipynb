{
 "cells": [
  {
   "cell_type": "code",
   "id": "initial_id",
   "metadata": {
    "collapsed": true,
    "ExecuteTime": {
     "end_time": "2025-03-31T07:45:27.880520Z",
     "start_time": "2025-03-31T07:45:27.864391Z"
    }
   },
   "source": [
    "import os\n",
    "import json\n",
    "import pandas as pd\n",
    "from tqdm import tqdm\n",
    "from joblib import Parallel, delayed"
   ],
   "outputs": [],
   "execution_count": 15
  },
  {
   "metadata": {
    "ExecuteTime": {
     "end_time": "2025-03-31T07:41:52.752652Z",
     "start_time": "2025-03-31T07:41:52.738464Z"
    }
   },
   "cell_type": "code",
   "source": [
    "def save_firm_characteristics(gvkey, feature_df):\n",
    "    df_firm = feature_df[feature_df[\"gvkey\"] == gvkey].copy()\n",
    "    df_firm = df_firm.sort_values(\"DATE\")  # 인덱스 정렬 (선택)\n",
    "    save_path = os.path.join('Database/firm_characteristics', f\"{gvkey}.parquet\")\n",
    "    df_firm.set_index('DATE', inplace=True)\n",
    "    df_firm.to_parquet(save_path, engine='pyarrow', compression='snappy')\n",
    "    return None"
   ],
   "id": "50cea99c7ac5f72d",
   "outputs": [],
   "execution_count": 3
  },
  {
   "metadata": {
    "ExecuteTime": {
     "end_time": "2025-03-31T07:41:53.079626Z",
     "start_time": "2025-03-31T07:41:53.060513Z"
    }
   },
   "cell_type": "code",
   "source": [
    "def save_symbol_data(symbol, df):\n",
    "    tic, gvkey = symbol\n",
    "    save_path = f\"Database/price/{gvkey}_{tic}.parquet\"\n",
    "\n",
    "    # 1. 안전하게 이상한 object → str\n",
    "    df = df.drop(columns=[\"iid\", 'cusip'])\n",
    "\n",
    "    # 저장 방식: 새로 쓰기 or 누적 저장 (선택)\n",
    "    if os.path.exists(save_path):\n",
    "        # 기존 데이터와 병합\n",
    "        old_df = pd.read_parquet(save_path)\n",
    "        df = pd.concat([old_df, df], ignore_index=True).drop_duplicates()\n",
    "\n",
    "    df.to_parquet(save_path, engine='pyarrow', compression='snappy', index=False)\n",
    "    return None"
   ],
   "id": "a69c2cbb8ef37277",
   "outputs": [],
   "execution_count": 4
  },
  {
   "metadata": {
    "ExecuteTime": {
     "end_time": "2025-03-31T07:41:53.386987Z",
     "start_time": "2025-03-31T07:41:53.380896Z"
    }
   },
   "cell_type": "code",
   "source": [
    "def save_merged_data(file):\n",
    "    gvkey = file.split('.')[0]\n",
    "    price_lst = [item for item in os.listdir('../Database/price') if item.split('_')[0] == gvkey]\n",
    "\n",
    "    for item in price_lst:\n",
    "        ticker = item.split('.')[0]\n",
    "        price_df = pd.read_parquet(f'../Database/price/{item}').set_index('datadate')\n",
    "        firm_df = pd.read_parquet(f'../Database/firm_characteristics/{gvkey}.parquet')\n",
    "        price_df.index = pd.to_datetime(price_df.index)\n",
    "        price_df = price_df.drop(columns=[\"gvkey\"])\n",
    "        co_idx_lst = [idx for idx in firm_df.index if idx in price_df.index]\n",
    "        merged_df = pd.concat([price_df.loc[co_idx_lst], firm_df.loc[co_idx_lst]], axis=1)\n",
    "        merged_df.to_parquet(f'../Database/merged/{ticker}.parquet')"
   ],
   "id": "307b6d733f68d80c",
   "outputs": [],
   "execution_count": 5
  },
  {
   "metadata": {},
   "cell_type": "code",
   "outputs": [],
   "execution_count": null,
   "source": [
    "def extract_price_series(file):\n",
    "    df = pd.read_parquet(f'../Database/price/{file}')\n",
    "    df = df[['datadate', 'tic', 'prccd']].copy()\n",
    "\n",
    "    ticker = df['tic'].iloc[0]\n",
    "    df.set_index('datadate', inplace=True)\n",
    "    df.index = pd.to_datetime(df.index)\n",
    "\n",
    "    price_series = df['prccd'].rename(ticker)\n",
    "    price_series = price_series.iloc[2:]\n",
    "    price_series = price_series[~price_series.index.duplicated(keep='first')]\n",
    "\n",
    "    return price_series"
   ],
   "id": "dfe7cf5dc198fbbb"
  },
  {
   "metadata": {
    "ExecuteTime": {
     "end_time": "2025-03-31T07:41:53.924580Z",
     "start_time": "2025-03-31T07:41:53.911123Z"
    }
   },
   "cell_type": "code",
   "source": [
    "feature_preprocessing = False\n",
    "if feature_preprocessing:\n",
    "    feature_df = pd.read_parquet('Database/green.parquet')\n",
    "    chars = pd.read_csv('Database/_characteristics.csv')['name'].tolist()\n",
    "    necessary_cols = [item for item in chars.copy() + ['gvkey', 'DATE', 'prc', 'IPO']]\n",
    "    necessary_cols = [item for item in necessary_cols if item not in ['ipo', 'date']]\n",
    "    feature_df_1 = feature_df[necessary_cols]\n",
    "    feature_df_2 = feature_df_1.copy()\n",
    "    feature_df_2[\"DATE\"] = pd.to_datetime(feature_df_2[\"DATE\"].astype(str), format='%Y%m%d')\n",
    "\n",
    "    unique_keys = list(set(feature_df['gvkey']))\n",
    "    results = Parallel(n_jobs=10)(delayed(save_firm_characteristics)(gv, feature_df_2) for gv in unique_keys)"
   ],
   "id": "76f0fb1555c89a8f",
   "outputs": [],
   "execution_count": 6
  },
  {
   "metadata": {
    "ExecuteTime": {
     "end_time": "2025-03-31T07:41:54.388429Z",
     "start_time": "2025-03-31T07:41:54.380430Z"
    }
   },
   "cell_type": "code",
   "source": [
    "price_preprocessing = False\n",
    "if price_preprocessing:\n",
    "    chunk_size = 100_000\n",
    "    reader = pd.read_csv(\"WRDS.csv\", chunksize=chunk_size, encoding=\"utf-8\", low_memory=False)\n",
    "    os.makedirs(\"price\", exist_ok=True)\n",
    "\n",
    "    for chunk in tqdm(reader):\n",
    "        grouped = chunk.groupby([\"tic\", \"gvkey\"])\n",
    "\n",
    "        results = Parallel(n_jobs=10)(\n",
    "            delayed(save_symbol_data)((tic, gvkey), group_df.copy())\n",
    "            for (tic, gvkey), group_df in grouped\n",
    "        )"
   ],
   "id": "69e0153526301120",
   "outputs": [],
   "execution_count": 7
  },
  {
   "metadata": {
    "ExecuteTime": {
     "end_time": "2025-03-31T07:41:54.777581Z",
     "start_time": "2025-03-31T07:41:54.773577Z"
    }
   },
   "cell_type": "code",
   "source": [
    "merged = False\n",
    "if merged:\n",
    "    results = Parallel(n_jobs=10)(\n",
    "        delayed(save_merged_data)(file)\n",
    "        for file in tqdm(os.listdir('../Database/firm_characteristics'))\n",
    "    )"
   ],
   "id": "a2e2b4ace48ef15a",
   "outputs": [],
   "execution_count": 8
  },
  {
   "metadata": {
    "ExecuteTime": {
     "end_time": "2025-03-31T08:38:13.184977Z",
     "start_time": "2025-03-31T08:38:10.395994Z"
    }
   },
   "cell_type": "code",
   "source": [
    "sp500 = False\n",
    "if sp500:\n",
    "    with open('../Database/sp500_tickers.json', 'r') as f:\n",
    "        sp500_tickers = json.load(f)\n",
    "\n",
    "    sp500_lst = [file for file in os.listdir('../Database/price') if\n",
    "                 file.split('_')[1].split('.parquet')[0] in sp500_tickers]\n",
    "\n",
    "    # 병렬로 Series 객체들 모으기\n",
    "    series_list = Parallel(n_jobs=10)(\n",
    "        delayed(extract_price_series)(file)\n",
    "        for file in tqdm(sp500_lst)\n",
    "    )\n",
    "\n",
    "    # 바깥에서 한 번에 열 방향으로 합치기\n",
    "    total_df = pd.concat(series_list, axis=1)\n",
    "\n",
    "    total_df.to_csv('../Database/sp500.csv')"
   ],
   "id": "bf79d41d7cf11fab",
   "outputs": [
    {
     "name": "stderr",
     "output_type": "stream",
     "text": [
      "100%|██████████| 491/491 [00:00<00:00, 1767.29it/s]\n"
     ]
    }
   ],
   "execution_count": 85
  }
 ],
 "metadata": {
  "kernelspec": {
   "display_name": "Python 3",
   "language": "python",
   "name": "python3"
  },
  "language_info": {
   "codemirror_mode": {
    "name": "ipython",
    "version": 2
   },
   "file_extension": ".py",
   "mimetype": "text/x-python",
   "name": "python",
   "nbconvert_exporter": "python",
   "pygments_lexer": "ipython2",
   "version": "2.7.6"
  }
 },
 "nbformat": 4,
 "nbformat_minor": 5
}
