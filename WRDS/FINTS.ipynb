{
 "cells": [
  {
   "cell_type": "code",
   "id": "initial_id",
   "metadata": {
    "collapsed": true
   },
   "source": [
    "import os\n",
    "import pandas as pd\n",
    "from tqdm import tqdm\n",
    "from joblib import Parallel, delayed"
   ],
   "outputs": [],
   "execution_count": null
  },
  {
   "metadata": {},
   "cell_type": "code",
   "source": [
    "def save_firm_characteristics(gvkey, feature_df):\n",
    "    df_firm = feature_df[feature_df[\"gvkey\"] == gvkey].copy()\n",
    "    df_firm = df_firm.sort_values(\"DATE\")  # 인덱스 정렬 (선택)\n",
    "    save_path = os.path.join('firm_characteristics', f\"{gvkey}.parquet\")\n",
    "    df_firm.set_index('DATE', inplace=True)\n",
    "    df_firm.to_parquet(save_path, engine='pyarrow', compression='snappy')\n",
    "    return None"
   ],
   "id": "50cea99c7ac5f72d",
   "outputs": [],
   "execution_count": null
  },
  {
   "metadata": {},
   "cell_type": "code",
   "outputs": [],
   "execution_count": null,
   "source": [
    "def save_symbol_data(symbol, df):\n",
    "    tic, gvkey = symbol\n",
    "    save_path = f\"price/{gvkey}_{tic}.parquet\"\n",
    "\n",
    "    # 1. 안전하게 이상한 object → str\n",
    "    df = df.drop(columns=[\"iid\", 'cusip'])\n",
    "\n",
    "    # 저장 방식: 새로 쓰기 or 누적 저장 (선택)\n",
    "    if os.path.exists(save_path):\n",
    "        # 기존 데이터와 병합\n",
    "        old_df = pd.read_parquet(save_path)\n",
    "        df = pd.concat([old_df, df], ignore_index=True).drop_duplicates()\n",
    "\n",
    "    df.to_parquet(save_path, engine='pyarrow', compression='snappy', index=False)\n",
    "    return None"
   ],
   "id": "a69c2cbb8ef37277"
  },
  {
   "metadata": {},
   "cell_type": "code",
   "source": [
    "feature_preprocessing = False\n",
    "if feature_preprocessing:\n",
    "    feature_df = pd.read_parquet('green.parquet')\n",
    "    chars = pd.read_csv('_characteristics.csv')['name'].tolist()\n",
    "    necessary_cols = [item for item in chars.copy() + ['gvkey', 'DATE', 'prc', 'IPO']]\n",
    "    necessary_cols = [item for item in necessary_cols if item not in ['ipo', 'date']]\n",
    "    feature_df_1 = feature_df[necessary_cols]\n",
    "    feature_df_2 = feature_df_1.copy()\n",
    "    feature_df_2[\"DATE\"] = pd.to_datetime(feature_df_2[\"DATE\"].astype(str), format='%Y%m%d')\n",
    "\n",
    "    unique_keys = list(set(feature_df['gvkey']))\n",
    "    results = Parallel(n_jobs=10)(delayed(save_firm_characteristics)(gv, feature_df_2) for gv in unique_keys)"
   ],
   "id": "76f0fb1555c89a8f",
   "outputs": [],
   "execution_count": null
  },
  {
   "metadata": {},
   "cell_type": "code",
   "outputs": [],
   "execution_count": null,
   "source": [
    "price_preprocessing = False\n",
    "if price_preprocessing:\n",
    "    chunk_size = 100_000\n",
    "    reader = pd.read_csv(\"WRDS.csv\", chunksize=chunk_size, encoding=\"utf-8\", low_memory=False)\n",
    "    os.makedirs(\"price\", exist_ok=True)\n",
    "\n",
    "    for chunk in tqdm(reader):\n",
    "        grouped = chunk.groupby([\"tic\", \"gvkey\"])\n",
    "\n",
    "        results = Parallel(n_jobs=10)(\n",
    "            delayed(save_symbol_data)((tic, gvkey), group_df.copy())\n",
    "            for (tic, gvkey), group_df in grouped\n",
    "        )"
   ],
   "id": "69e0153526301120"
  }
 ],
 "metadata": {
  "kernelspec": {
   "display_name": "Python 3",
   "language": "python",
   "name": "python3"
  },
  "language_info": {
   "codemirror_mode": {
    "name": "ipython",
    "version": 2
   },
   "file_extension": ".py",
   "mimetype": "text/x-python",
   "name": "python",
   "nbconvert_exporter": "python",
   "pygments_lexer": "ipython2",
   "version": "2.7.6"
  }
 },
 "nbformat": 4,
 "nbformat_minor": 5
}
