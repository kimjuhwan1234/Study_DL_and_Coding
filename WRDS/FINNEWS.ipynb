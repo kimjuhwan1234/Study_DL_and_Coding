{
 "cells": [
  {
   "metadata": {},
   "cell_type": "code",
   "source": [
    "import os\n",
    "import pandas as pd\n",
    "from tqdm import tqdm"
   ],
   "id": "1cd0ef4d905253ea",
   "outputs": [],
   "execution_count": null
  },
  {
   "metadata": {},
   "cell_type": "code",
   "source": [
    "save_dir = \"new_data\"\n",
    "os.makedirs(save_dir, exist_ok=True)\n",
    "\n",
    "filename = \"nasdaq_exteral_data.csv\"\n",
    "# filename = \"All_external.csv\"\n",
    "chunk_size = 100000"
   ],
   "id": "6ce73c98163f109f",
   "outputs": [],
   "execution_count": null
  },
  {
   "metadata": {},
   "cell_type": "code",
   "source": [
    "reader = pd.read_csv(filename, chunksize=100_000, encoding='utf-8', low_memory=False)\n",
    "symbols = set()\n",
    "\n",
    "for chunk in reader:\n",
    "    symbols.update(chunk['Stock_symbol'].unique())\n",
    "\n",
    "print(symbols)"
   ],
   "id": "4e50b0dbd797599c",
   "outputs": [],
   "execution_count": null
  },
  {
   "metadata": {},
   "cell_type": "code",
   "source": [
    "# 대상 심볼\n",
    "stock_list = list(symbols)\n",
    "filtered_data = {symbol: [] for symbol in stock_list}\n",
    "\n",
    "chunk_size = 100000  # RAM 부담 적게\n",
    "reader = pd.read_csv(filename, chunksize=chunk_size, encoding='utf-8', low_memory=False)\n",
    "\n",
    "print(\"🚀 필터링 시작...\")\n",
    "\n",
    "for chunk in tqdm(reader):\n",
    "    # 원하는 종목만 필터\n",
    "    chunk = chunk[chunk[\"Stock_symbol\"].isin(stock_list)]\n",
    "\n",
    "    # 심볼별로 분리 저장\n",
    "    for symbol in stock_list:\n",
    "        symbol_df = chunk[chunk[\"Stock_symbol\"] == symbol]\n",
    "        if not symbol_df.empty:\n",
    "            save_path = os.path.join(save_dir, f\"{symbol}.csv.zst\")\n",
    "            # 헤더 포함은 처음에만 하도록 mode 분기\n",
    "            write_mode = 'w' if not os.path.exists(save_path) else 'a'\n",
    "            symbol_df.to_csv(\n",
    "                save_path,\n",
    "                compression={\"method\": \"zstd\", \"level\": 5},\n",
    "                mode=write_mode,\n",
    "                header=not os.path.exists(save_path),\n",
    "                index=False\n",
    "            )\n",
    "            print(f\"✅ 저장됨: {symbol} ({len(symbol_df)} rows)\")\n",
    "\n",
    "print(\"🎉 모든 회사 필터링 및 저장 완료!\")"
   ],
   "id": "70f3ae68b3e4694e",
   "outputs": [],
   "execution_count": null
  }
 ],
 "metadata": {
  "kernelspec": {
   "display_name": "Python 3",
   "language": "python",
   "name": "python3"
  },
  "language_info": {
   "codemirror_mode": {
    "name": "ipython",
    "version": 2
   },
   "file_extension": ".py",
   "mimetype": "text/x-python",
   "name": "python",
   "nbconvert_exporter": "python",
   "pygments_lexer": "ipython2",
   "version": "2.7.6"
  }
 },
 "nbformat": 4,
 "nbformat_minor": 5
}
