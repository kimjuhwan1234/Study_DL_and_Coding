{
 "cells": [
  {
   "metadata": {
    "ExecuteTime": {
     "end_time": "2025-05-06T11:09:04.934557Z",
     "start_time": "2025-05-06T11:09:03.064385Z"
    }
   },
   "cell_type": "code",
   "source": [
    "import T4sigWGAN as T4\n",
    "from torch.utils.data import DataLoader, random_split"
   ],
   "outputs": [],
   "execution_count": 1
  },
  {
   "metadata": {
    "ExecuteTime": {
     "end_time": "2025-05-06T11:09:04.998507Z",
     "start_time": "2025-05-06T11:09:04.982426Z"
    }
   },
   "cell_type": "code",
   "source": [
    "import argparse\n",
    "import torch\n",
    "\n",
    "parser = argparse.ArgumentParser()\n",
    "\n",
    "# initial setting\n",
    "parser.add_argument(\"--seed\", default=42, type=int)\n",
    "parser.add_argument(\"--gpu_id\", type=str, default=\"0\", help=\"gpu_id\")\n",
    "parser.add_argument(\"--no_cuda\", action=\"store_true\")\n",
    "parser.add_argument(\"--batch_size\", type=int, default=32, help=\"number of batch_size\")\n",
    "parser.add_argument(\"--epochs\", type=int, default=1, help=\"number of epochs\")\n",
    "parser.add_argument(\"--data_dir\", default=\"../Database/\", type=str)\n",
    "parser.add_argument(\"--output_dir\", default=\"output/\", type=str)\n",
    "parser.add_argument(\"--device\", default=torch.device('cuda' if torch.cuda.is_available() else 'cpu'))\n",
    "\n",
    "# log location\n",
    "parser.add_argument(\"--model_name\", default=\"DenseNet\", type=str)\n",
    "parser.add_argument(\"--data_name\", default=\"IMAGENET\", type=str)\n",
    "\n",
    "# model parameter\n",
    "parser.add_argument(\"--input_size\", type=int, default=2, help=\"hidden size of transformer model\")\n",
    "parser.add_argument(\"--hidden_size\", type=int, default=512, help=\"hidden size of transformer model\")\n",
    "parser.add_argument(\"--num_layers\", type=int, default=2, help=\"number of layers\")\n",
    "parser.add_argument(\"--nonlinearity\", default=\"tanh\", type=str)\n",
    "parser.add_argument(\"--bias\", default=True, type=bool)\n",
    "parser.add_argument(\"--batch_first\", default=True, type=bool)\n",
    "\n",
    "# trainer parameter\n",
    "parser.add_argument(\"--adam_beta1\", type=float, default=0.9, help=\"adam first beta value\")\n",
    "parser.add_argument(\"--adam_beta2\", type=float, default=0.999, help=\"adam second beta value\")\n",
    "parser.add_argument(\"--lr\", type=float, default=0.001, help=\"learning rate of adam\")\n",
    "parser.add_argument(\"--weight_decay\", type=float, default=0.0, help=\"weight_decay of adam\")\n",
    "parser.add_argument(\"--log_freq\", type=int, default=5, help=\"per epoch print res\")\n",
    "\n",
    "# main\n",
    "parser.add_argument(\"--using_pretrain\", default=False, action=\"store_true\")\n",
    "\n",
    "args, unknown = parser.parse_known_args()"
   ],
   "outputs": [],
   "execution_count": 2
  },
  {
   "cell_type": "code",
   "metadata": {
    "ExecuteTime": {
     "end_time": "2025-05-06T11:09:05.046653Z",
     "start_time": "2025-05-06T11:09:05.030613Z"
    }
   },
   "source": [
    "## decoder parameters\n",
    "decoder_config = {\n",
    "    'ts_shape': [30,256],\n",
    "    'num_heads': 2,\n",
    "    'k_size': 4,\n",
    "    'dilations': [1, 4],\n",
    "    'dropout': 0.2,\n",
    "}"
   ],
   "outputs": [],
   "execution_count": 3
  },
  {
   "metadata": {
    "ExecuteTime": {
     "end_time": "2025-05-06T11:09:08.353865Z",
     "start_time": "2025-05-06T11:09:08.337925Z"
    }
   },
   "cell_type": "code",
   "source": [
    "class Configs:\n",
    "    def __init__(self,):\n",
    "        self.enc_in = 256\n",
    "        self.dims = [256, 128, 256]\n",
    "        self.large_size = [5, 5, 3]\n",
    "        self.small_size = [5, 3, 3]\n",
    "        self.small_kernel_merged = False\n",
    "        self.dropout = 0.1\n",
    "        self.head_dropout = 0.2\n",
    "        self.revin = True\n",
    "        self.affine = True\n",
    "        self.decomposition = True\n",
    "        self.kernel_size = 25"
   ],
   "outputs": [],
   "execution_count": 4
  },
  {
   "metadata": {
    "ExecuteTime": {
     "end_time": "2025-05-06T11:09:08.481149Z",
     "start_time": "2025-05-06T11:09:08.465145Z"
    }
   },
   "cell_type": "code",
   "source": [
    "## supervisor parameters\n",
    "supervisor_config = Configs()"
   ],
   "outputs": [],
   "execution_count": 5
  },
  {
   "metadata": {
    "ExecuteTime": {
     "end_time": "2025-05-06T11:09:08.622973Z",
     "start_time": "2025-05-06T11:09:08.607326Z"
    }
   },
   "cell_type": "code",
   "source": [
    "## generator parameters\n",
    "encoder_config = {\n",
    "    \"input_dim\": 5,\n",
    "    \"hidden_dim\": 256,\n",
    "    \"augmentations\": [\n",
    "        {\"name\": \"LeadLag\"},\n",
    "    ],\n",
    "    \"depth\": 2,\n",
    "    \"output_dim\": 10,\n",
    "    \"len_interval_u\": 50,\n",
    "    \"init_fixed\": True,\n",
    "    \"batch_size\": 128,\n",
    "    \"window_size\": 30,\n",
    "    \"device\": \"cuda:0\",\n",
    "}\n",
    "\n",
    "if encoder_config.get('augmentations') is not None:\n",
    "    encoder_config['augmentations'] = T4.parse_augmentations(encoder_config.get('augmentations'))"
   ],
   "outputs": [],
   "execution_count": 6
  },
  {
   "metadata": {
    "ExecuteTime": {
     "end_time": "2025-05-06T11:09:08.778545Z",
     "start_time": "2025-05-06T11:09:08.762457Z"
    }
   },
   "cell_type": "code",
   "source": [
    "## generator parameters\n",
    "logsig_config = {\n",
    "    \"input_dim\": 5,\n",
    "    \"hidden_dim\": 256,\n",
    "    \"augmentations\": [\n",
    "        {\"name\": \"LeadLag\"},\n",
    "    ],\n",
    "    \"depth\": 2,\n",
    "    \"output_dim\": 10,\n",
    "    \"len_noise\": 1000,\n",
    "    \"len_interval_u\": 50,\n",
    "    \"init_fixed\": True,\n",
    "    \"batch_size\": 128,\n",
    "    \"window_size\": 30,\n",
    "    \"device\": \"cuda:0\",\n",
    "}\n",
    "\n",
    "if logsig_config.get('augmentations') is not None:\n",
    "    logsig_config['augmentations'] = T4.parse_augmentations(logsig_config.get('augmentations'))"
   ],
   "outputs": [],
   "execution_count": 7
  },
  {
   "metadata": {
    "ExecuteTime": {
     "end_time": "2025-05-06T11:09:08.924050Z",
     "start_time": "2025-05-06T11:09:08.908117Z"
    }
   },
   "cell_type": "code",
   "source": [
    "## discriminator parameters\n",
    "discriminator_config = {\n",
    "    'n_epochs': 3000,\n",
    "    'batch_size': 1000,\n",
    "    'lr_D': 1e-7,\n",
    "    'lr_G': 1e-6,\n",
    "    'temp': 0.01,\n",
    "    'b1': 0.5,\n",
    "    'b2': 0.999,\n",
    "    'latent_dim': 1000,\n",
    "    'n_len': 50000,\n",
    "    'n_rows': 5,\n",
    "    'n_cols': 100,\n",
    "    'n_critic_G': 1,\n",
    "    'n_critic_D': 1,\n",
    "    'static_way': 'LShort',\n",
    "    'strategies': ['Port', 'MR', 'TF'],\n",
    "    'n_trans': 50,\n",
    "    'Cap': 10,\n",
    "    'WH': 10,\n",
    "    'ratios': [1.0, 1.0],\n",
    "    'thresholds_pct': [[31, 69]],\n",
    "    'data_name': '1_Gauss+1_AR50+1_AR-12+1_GARCH-T5+1_GARCH-T10',\n",
    "    'tickers': ['Gauss', 'AR50', 'AR-12', 'GARCH-T5', 'GARCH-T10'],\n",
    "    'noise_name': 't5',\n",
    "    'alphas': [0.05],\n",
    "    'W': 10.0,\n",
    "    'score': 'quant',\n",
    "    'numNN': 10,\n",
    "    'project': True,\n",
    "    'version': 'Test1'\n",
    "}"
   ],
   "outputs": [],
   "execution_count": 8
  },
  {
   "metadata": {
    "ExecuteTime": {
     "end_time": "2025-05-06T11:09:09.082562Z",
     "start_time": "2025-05-06T11:09:09.066451Z"
    }
   },
   "cell_type": "code",
   "source": [
    "## trainer parameters\n",
    "sigwgan_config = {\n",
    "    \"batch_size\": 256,\n",
    "    \"epoch\": 2500,  # 2000 is enough\n",
    "    \"lr_generator\": 5e-4,\n",
    "    \"augmentations\": [\n",
    "        {\"name\": \"AddTime\"},\n",
    "        {\"name\": \"LeadLag\"},\n",
    "        {\"name\": \"VisiTrans\", \"type\": \"I\"}\n",
    "    ],\n",
    "    \"device\": \"cuda:0\",\n",
    "    \"depth\": 2\n",
    "}"
   ],
   "outputs": [],
   "execution_count": 9
  },
  {
   "metadata": {
    "ExecuteTime": {
     "end_time": "2025-05-06T11:09:14.069440Z",
     "start_time": "2025-05-06T11:09:12.826710Z"
    }
   },
   "cell_type": "code",
   "source": [
    "Encoder = T4.LogSigRNNDecoder(**encoder_config).to(args.device)\n",
    "Encoder"
   ],
   "outputs": [
    {
     "data": {
      "text/plain": [
       "LogSigRNNDecoder(\n",
       "  (rnn): Sequential(\n",
       "    (0): FeedForwardNN(\n",
       "      (network): Sequential(\n",
       "        (0): Linear(in_features=311, out_features=256, bias=True)\n",
       "        (1): PReLU(num_parameters=1)\n",
       "        (2): Linear(in_features=256, out_features=256, bias=True)\n",
       "        (3): PReLU(num_parameters=1)\n",
       "        (4): Linear(in_features=256, out_features=256, bias=True)\n",
       "      )\n",
       "    )\n",
       "    (1): Tanh()\n",
       "  )\n",
       "  (linear): Linear(in_features=256, out_features=256, bias=False)\n",
       "  (initial_nn): Sequential(\n",
       "    (0): ResidualNN(\n",
       "      (network): Sequential(\n",
       "        (0): ResidualBlock(\n",
       "          (activation): ReLU()\n",
       "          (linear): Linear(in_features=5, out_features=256, bias=True)\n",
       "        )\n",
       "        (1): ResidualBlock(\n",
       "          (activation): ReLU()\n",
       "          (linear): Linear(in_features=256, out_features=256, bias=True)\n",
       "        )\n",
       "        (2): Linear(in_features=256, out_features=256, bias=True)\n",
       "      )\n",
       "    )\n",
       "    (1): Tanh()\n",
       "  )\n",
       ")"
      ]
     },
     "execution_count": 10,
     "metadata": {},
     "output_type": "execute_result"
    }
   ],
   "execution_count": 10
  },
  {
   "metadata": {
    "ExecuteTime": {
     "end_time": "2025-05-06T11:09:14.132460Z",
     "start_time": "2025-05-06T11:09:14.085239Z"
    }
   },
   "cell_type": "code",
   "source": [
    "Decoder = T4.TimesFormerDecoder(**decoder_config).to(args.device)\n",
    "Decoder"
   ],
   "outputs": [
    {
     "data": {
      "text/plain": [
       "TimesFormerDecoder(\n",
       "  (timesformer_blocks): ModuleList(\n",
       "    (0): TimesFormerLayer(\n",
       "      (conv): Conv1d(256, 256, kernel_size=(4,), stride=(1,), padding=same)\n",
       "      (relu): ReLU()\n",
       "      (norm_tcn): LayerNorm((256,), eps=1e-05, elementwise_affine=True)\n",
       "      (dropout): Dropout(p=0.2, inplace=False)\n",
       "      (mha1): MultiheadAttention(\n",
       "        (out_proj): NonDynamicallyQuantizableLinear(in_features=256, out_features=256, bias=True)\n",
       "      )\n",
       "      (norm1): LayerNorm((256,), eps=1e-05, elementwise_affine=True)\n",
       "      (ff_conv): Conv1d(256, 256, kernel_size=(1,), stride=(1,))\n",
       "      (ff_relu): ReLU()\n",
       "      (ff_norm): LayerNorm((256,), eps=1e-05, elementwise_affine=True)\n",
       "      (cross1): MultiheadAttention(\n",
       "        (out_proj): NonDynamicallyQuantizableLinear(in_features=256, out_features=256, bias=True)\n",
       "      )\n",
       "      (cross2): MultiheadAttention(\n",
       "        (out_proj): NonDynamicallyQuantizableLinear(in_features=256, out_features=256, bias=True)\n",
       "      )\n",
       "      (norm2): LayerNorm((256,), eps=1e-05, elementwise_affine=True)\n",
       "      (norm3): LayerNorm((256,), eps=1e-05, elementwise_affine=True)\n",
       "    )\n",
       "    (1): TimesFormerLayer(\n",
       "      (conv): Conv1d(256, 256, kernel_size=(4,), stride=(1,), padding=same, dilation=(4,))\n",
       "      (relu): ReLU()\n",
       "      (norm_tcn): LayerNorm((256,), eps=1e-05, elementwise_affine=True)\n",
       "      (dropout): Dropout(p=0.2, inplace=False)\n",
       "      (mha1): MultiheadAttention(\n",
       "        (out_proj): NonDynamicallyQuantizableLinear(in_features=256, out_features=256, bias=True)\n",
       "      )\n",
       "      (norm1): LayerNorm((256,), eps=1e-05, elementwise_affine=True)\n",
       "      (ff_conv): Conv1d(256, 256, kernel_size=(1,), stride=(1,))\n",
       "      (ff_relu): ReLU()\n",
       "      (ff_norm): LayerNorm((256,), eps=1e-05, elementwise_affine=True)\n",
       "      (cross1): MultiheadAttention(\n",
       "        (out_proj): NonDynamicallyQuantizableLinear(in_features=256, out_features=256, bias=True)\n",
       "      )\n",
       "      (cross2): MultiheadAttention(\n",
       "        (out_proj): NonDynamicallyQuantizableLinear(in_features=256, out_features=256, bias=True)\n",
       "      )\n",
       "      (norm2): LayerNorm((256,), eps=1e-05, elementwise_affine=True)\n",
       "      (norm3): LayerNorm((256,), eps=1e-05, elementwise_affine=True)\n",
       "    )\n",
       "  )\n",
       "  (final): Sequential(\n",
       "    (0): Flatten(start_dim=1, end_dim=-1)\n",
       "    (1): Linear(in_features=15360, out_features=300, bias=True)\n",
       "    (2): Unflatten(dim=1, unflattened_size=(30, 10))\n",
       "  )\n",
       ")"
      ]
     },
     "execution_count": 11,
     "metadata": {},
     "output_type": "execute_result"
    }
   ],
   "execution_count": 11
  },
  {
   "metadata": {
    "ExecuteTime": {
     "end_time": "2025-05-06T11:09:14.162939Z",
     "start_time": "2025-05-06T11:09:14.147710Z"
    }
   },
   "cell_type": "code",
   "source": [
    "Supervisor =T4.ModernTCN(supervisor_config).to(args.device)\n",
    "Supervisor"
   ],
   "outputs": [
    {
     "data": {
      "text/plain": [
       "ModernTCN(\n",
       "  (revin): RevIN()\n",
       "  (decomp): series_decomp(\n",
       "    (moving_avg): moving_avg(\n",
       "      (avg): AvgPool1d(kernel_size=(25,), stride=(1,), padding=(0,))\n",
       "    )\n",
       "  )\n",
       "  (conv_layers): ModuleList(\n",
       "    (0): ReparamLargeKernelConv(\n",
       "      (lkb_origin): Sequential(\n",
       "        (conv): Conv1d(256, 256, kernel_size=(5,), stride=(1,), padding=(2,), bias=False)\n",
       "        (bn): BatchNorm1d(256, eps=1e-05, momentum=0.1, affine=True, track_running_stats=True)\n",
       "      )\n",
       "      (small_conv): Sequential(\n",
       "        (conv): Conv1d(256, 256, kernel_size=(5,), stride=(1,), padding=(2,), bias=False)\n",
       "        (bn): BatchNorm1d(256, eps=1e-05, momentum=0.1, affine=True, track_running_stats=True)\n",
       "      )\n",
       "    )\n",
       "    (1): ReparamLargeKernelConv(\n",
       "      (lkb_origin): Sequential(\n",
       "        (conv): Conv1d(256, 128, kernel_size=(5,), stride=(1,), padding=(2,), bias=False)\n",
       "        (bn): BatchNorm1d(128, eps=1e-05, momentum=0.1, affine=True, track_running_stats=True)\n",
       "      )\n",
       "      (small_conv): Sequential(\n",
       "        (conv): Conv1d(256, 128, kernel_size=(3,), stride=(1,), padding=(1,), bias=False)\n",
       "        (bn): BatchNorm1d(128, eps=1e-05, momentum=0.1, affine=True, track_running_stats=True)\n",
       "      )\n",
       "    )\n",
       "    (2): ReparamLargeKernelConv(\n",
       "      (lkb_origin): Sequential(\n",
       "        (conv): Conv1d(128, 256, kernel_size=(3,), stride=(1,), padding=(1,), bias=False)\n",
       "        (bn): BatchNorm1d(256, eps=1e-05, momentum=0.1, affine=True, track_running_stats=True)\n",
       "      )\n",
       "      (small_conv): Sequential(\n",
       "        (conv): Conv1d(128, 256, kernel_size=(3,), stride=(1,), padding=(1,), bias=False)\n",
       "        (bn): BatchNorm1d(256, eps=1e-05, momentum=0.1, affine=True, track_running_stats=True)\n",
       "      )\n",
       "    )\n",
       "  )\n",
       "  (norm_layers): ModuleList(\n",
       "    (0): BatchNorm1d(256, eps=1e-05, momentum=0.1, affine=True, track_running_stats=True)\n",
       "    (1): BatchNorm1d(128, eps=1e-05, momentum=0.1, affine=True, track_running_stats=True)\n",
       "    (2): BatchNorm1d(256, eps=1e-05, momentum=0.1, affine=True, track_running_stats=True)\n",
       "  )\n",
       ")"
      ]
     },
     "execution_count": 12,
     "metadata": {},
     "output_type": "execute_result"
    }
   ],
   "execution_count": 12
  },
  {
   "metadata": {
    "ExecuteTime": {
     "end_time": "2025-05-06T11:09:14.207493Z",
     "start_time": "2025-05-06T11:09:14.192288Z"
    }
   },
   "cell_type": "code",
   "source": [
    "Generator = T4.LogSigRNNGenerator(**logsig_config).to(args.device)\n",
    "Generator"
   ],
   "outputs": [
    {
     "data": {
      "text/plain": [
       "LogSigRNNGenerator(\n",
       "  (rnn): Sequential(\n",
       "    (0): FeedForwardNN(\n",
       "      (network): Sequential(\n",
       "        (0): Linear(in_features=311, out_features=256, bias=True)\n",
       "        (1): PReLU(num_parameters=1)\n",
       "        (2): Linear(in_features=256, out_features=256, bias=True)\n",
       "        (3): PReLU(num_parameters=1)\n",
       "        (4): Linear(in_features=256, out_features=256, bias=True)\n",
       "      )\n",
       "    )\n",
       "    (1): Tanh()\n",
       "  )\n",
       "  (linear): Linear(in_features=256, out_features=256, bias=False)\n",
       "  (initial_nn): Sequential(\n",
       "    (0): ResidualNN(\n",
       "      (network): Sequential(\n",
       "        (0): ResidualBlock(\n",
       "          (activation): ReLU()\n",
       "          (linear): Linear(in_features=5, out_features=256, bias=True)\n",
       "        )\n",
       "        (1): ResidualBlock(\n",
       "          (activation): ReLU()\n",
       "          (linear): Linear(in_features=256, out_features=256, bias=True)\n",
       "        )\n",
       "        (2): Linear(in_features=256, out_features=256, bias=True)\n",
       "      )\n",
       "    )\n",
       "    (1): Tanh()\n",
       "  )\n",
       ")"
      ]
     },
     "execution_count": 13,
     "metadata": {},
     "output_type": "execute_result"
    }
   ],
   "execution_count": 13
  },
  {
   "metadata": {
    "ExecuteTime": {
     "end_time": "2025-05-06T11:09:14.254784Z",
     "start_time": "2025-05-06T11:09:14.239020Z"
    }
   },
   "cell_type": "code",
   "source": [
    "Discriminator = T4.Discriminator(discriminator_config).to(args.device)\n",
    "Discriminator"
   ],
   "outputs": [
    {
     "data": {
      "text/plain": [
       "Discriminator(\n",
       "  (model): Sequential(\n",
       "    (0): Linear(in_features=1000, out_features=256, bias=True)\n",
       "    (1): LeakyReLU(negative_slope=0.2, inplace=True)\n",
       "    (2): Linear(in_features=256, out_features=128, bias=True)\n",
       "    (3): LeakyReLU(negative_slope=0.2, inplace=True)\n",
       "    (4): Linear(in_features=128, out_features=2, bias=True)\n",
       "  )\n",
       ")"
      ]
     },
     "execution_count": 14,
     "metadata": {},
     "output_type": "execute_result"
    }
   ],
   "execution_count": 14
  },
  {
   "metadata": {
    "ExecuteTime": {
     "end_time": "2025-05-06T11:09:15.895771Z",
     "start_time": "2025-05-06T11:09:15.880076Z"
    }
   },
   "cell_type": "code",
   "source": "model = T4.TimeGAN(Encoder, Decoder, Generator, Supervisor, Discriminator).to(args.device)",
   "outputs": [],
   "execution_count": 15
  },
  {
   "metadata": {
    "ExecuteTime": {
     "end_time": "2025-05-06T11:09:16.216536Z",
     "start_time": "2025-05-06T11:09:16.200669Z"
    }
   },
   "cell_type": "code",
   "source": [
    "# # Run TimeGAN\n",
    "# generated_data = T4.train_T4sigWGAN(model, x_real_rolled, x_real_rolled.shape[1], sigwgan_config)\n",
    "# print('Finish Synthetic Data Generation')"
   ],
   "outputs": [],
   "execution_count": 16
  },
  {
   "metadata": {
    "ExecuteTime": {
     "end_time": "2025-05-06T11:09:17.556498Z",
     "start_time": "2025-05-06T11:09:17.269047Z"
    }
   },
   "cell_type": "code",
   "source": [
    "train_dataset = T4.StockTimeSeriesDataset()\n",
    "\n",
    "train_size = int(0.9 * len(train_dataset))  # 80% for training\n",
    "val_size = len(train_dataset) - train_size  # 20% for validation\n",
    "train_dataset, val_dataset = random_split(train_dataset, [train_size, val_size])\n",
    "\n",
    "# DataLoader 설정\n",
    "train_dataloader = DataLoader(train_dataset, batch_size=128, shuffle=True, num_workers=2)\n",
    "val_dataloader = DataLoader(val_dataset, batch_size=128, shuffle=False, num_workers=2)"
   ],
   "outputs": [],
   "execution_count": 17
  },
  {
   "cell_type": "code",
   "metadata": {
    "jupyter": {
     "is_executing": true
    },
    "ExecuteTime": {
     "start_time": "2025-05-06T11:23:50.344346Z"
    }
   },
   "source": [
    "\n",
    "\n",
    "# save model\n",
    "# checkpoint = args_str + \".pt\"\n",
    "# args.checkpoint_path = os.path.join(args.output_dir, checkpoint)\n",
    "\n",
    "# trainer\n",
    "trainer = T4.ERTrainer(\n",
    "    model, train_dataloader, val_dataloader, None, None, args\n",
    ")\n",
    "\n",
    "# model training\n",
    "for epoch in range(args.epochs):\n",
    "    trainer.train(epoch)\n",
    "    val_loss = trainer.valid(epoch)\n",
    "\n",
    "# train log image save\n",
    "trainer.evaluate()"
   ],
   "outputs": [
    {
     "name": "stdout",
     "output_type": "stream",
     "text": [
      "Total Parameters: 9076914\n"
     ]
    }
   ],
   "execution_count": null
  },
  {
   "metadata": {},
   "cell_type": "code",
   "source": [
    "# trainer\n",
    "trainer = T4.GSTrainer(\n",
    "    model, train_dataloader, val_dataloader, None, None, args\n",
    ")\n",
    "\n",
    "# model training\n",
    "for epoch in range(args.epochs):\n",
    "    trainer.train(epoch)\n",
    "    val_loss = trainer.valid(epoch)\n",
    "\n",
    "# train log image save\n",
    "trainer.evaluate()"
   ],
   "outputs": [],
   "execution_count": null
  },
  {
   "metadata": {
    "ExecuteTime": {
     "end_time": "2025-05-06T11:23:37.824824Z",
     "start_time": "2025-05-06T11:12:11.095689Z"
    }
   },
   "cell_type": "code",
   "source": [
    "# trainer\n",
    "trainer = T4.FinetuneTrainer(\n",
    "    model, train_dataloader, val_dataloader, None, None, args\n",
    ")\n",
    "\n",
    "# model training\n",
    "for epoch in range(args.epochs):\n",
    "    trainer.train(epoch)\n",
    "    val_loss = trainer.valid(epoch)\n",
    "\n",
    "# train log image save\n",
    "trainer.evaluate()"
   ],
   "outputs": [
    {
     "name": "stdout",
     "output_type": "stream",
     "text": [
      "Total Parameters: 9076914\n"
     ]
    },
    {
     "name": "stderr",
     "output_type": "stream",
     "text": [
      "DenseNet EP_train:0:   0%|| 0/26 [11:15<?, ?it/s]\n",
      "\n",
      "KeyboardInterrupt\n",
      "\n"
     ]
    }
   ],
   "execution_count": 40
  },
  {
   "cell_type": "code",
   "metadata": {},
   "source": [
    "metric_iteration = 5\n",
    "\n",
    "discriminative_score = list()\n",
    "for _ in range(metric_iteration):\n",
    "    temp_disc = T4.discriminative_score_metrics(ori_data, generated_data)\n",
    "    discriminative_score.append(temp_disc)\n",
    "\n",
    "print('Discriminative score: ' + str(np.round(np.mean(discriminative_score), 4)))"
   ],
   "outputs": [],
   "execution_count": null
  },
  {
   "cell_type": "code",
   "metadata": {},
   "source": [
    "predictive_score = list()\n",
    "for tt in range(metric_iteration):\n",
    "    temp_pred = T4.predictive_score_metrics(ori_data, generated_data)\n",
    "    predictive_score.append(temp_pred)\n",
    "\n",
    "print('Predictive score: ' + str(np.round(np.mean(predictive_score), 4)))"
   ],
   "outputs": [],
   "execution_count": null
  },
  {
   "cell_type": "code",
   "metadata": {},
   "source": [
    "T4.visualization(ori_data, generated_data, 'pca')\n",
    "T4.visualization(ori_data, generated_data, 'tsne')"
   ],
   "outputs": [],
   "execution_count": null
  }
 ],
 "metadata": {
  "kernelspec": {
   "display_name": "Python 3",
   "language": "python",
   "name": "python3"
  },
  "language_info": {
   "codemirror_mode": {
    "name": "ipython",
    "version": 3
   },
   "file_extension": ".py",
   "mimetype": "text/x-python",
   "name": "python",
   "nbconvert_exporter": "python",
   "pygments_lexer": "ipython3",
   "version": "3.7.4"
  }
 },
 "nbformat": 4,
 "nbformat_minor": 2
}
