{
 "cells": [
  {
   "metadata": {
    "ExecuteTime": {
     "end_time": "2025-05-07T08:19:21.501248Z",
     "start_time": "2025-05-07T08:19:19.651620Z"
    }
   },
   "cell_type": "code",
   "source": [
    "import T4sigWGAN as T4\n",
    "from torch.utils.data import DataLoader, random_split"
   ],
   "outputs": [],
   "execution_count": 1
  },
  {
   "metadata": {
    "ExecuteTime": {
     "end_time": "2025-05-07T08:20:22.653589Z",
     "start_time": "2025-05-07T08:20:22.337751Z"
    }
   },
   "cell_type": "code",
   "outputs": [],
   "execution_count": 9,
   "source": [
    "train_dataset = T4.StockTimeSeriesDataset()\n",
    "\n",
    "train_size = int(0.9 * len(train_dataset))  # 90% for training\n",
    "val_size = len(train_dataset) - train_size  # 10% for validation\n",
    "train_dataset, val_dataset = random_split(train_dataset, [train_size, val_size])\n",
    "\n",
    "# DataLoader 설정\n",
    "train_dataloader = DataLoader(train_dataset, batch_size=128, shuffle=True, num_workers=2)\n",
    "val_dataloader = DataLoader(val_dataset, batch_size=128, shuffle=False, num_workers=2)"
   ]
  },
  {
   "metadata": {
    "ExecuteTime": {
     "end_time": "2025-05-07T08:19:29.843639Z",
     "start_time": "2025-05-07T08:19:28.546092Z"
    }
   },
   "cell_type": "code",
   "source": [
    "Encoder = T4.LogSigRNNDecoder(**T4.encoder_config).to(T4.args.device)\n",
    "Encoder"
   ],
   "outputs": [
    {
     "data": {
      "text/plain": [
       "LogSigRNNDecoder(\n",
       "  (rnn): Sequential(\n",
       "    (0): FeedForwardNN(\n",
       "      (network): Sequential(\n",
       "        (0): Linear(in_features=466, out_features=256, bias=True)\n",
       "        (1): PReLU(num_parameters=1)\n",
       "        (2): Linear(in_features=256, out_features=256, bias=True)\n",
       "        (3): PReLU(num_parameters=1)\n",
       "        (4): Linear(in_features=256, out_features=256, bias=True)\n",
       "      )\n",
       "    )\n",
       "    (1): Tanh()\n",
       "  )\n",
       "  (linear): Linear(in_features=256, out_features=256, bias=False)\n",
       "  (initial_nn): Sequential(\n",
       "    (0): ResidualNN(\n",
       "      (network): Sequential(\n",
       "        (0): ResidualBlock(\n",
       "          (activation): ReLU()\n",
       "          (linear): Linear(in_features=10, out_features=256, bias=True)\n",
       "        )\n",
       "        (1): ResidualBlock(\n",
       "          (activation): ReLU()\n",
       "          (linear): Linear(in_features=256, out_features=256, bias=True)\n",
       "        )\n",
       "        (2): Linear(in_features=256, out_features=256, bias=True)\n",
       "      )\n",
       "    )\n",
       "    (1): Tanh()\n",
       "  )\n",
       ")"
      ]
     },
     "execution_count": 2,
     "metadata": {},
     "output_type": "execute_result"
    }
   ],
   "execution_count": 2
  },
  {
   "metadata": {
    "ExecuteTime": {
     "end_time": "2025-05-07T08:19:40.101921Z",
     "start_time": "2025-05-07T08:19:39.943801Z"
    }
   },
   "cell_type": "code",
   "source": [
    "Decoder = T4.TimesFormerDecoder(**T4.decoder_config).to(T4.args.device)\n",
    "Decoder"
   ],
   "outputs": [
    {
     "data": {
      "text/plain": [
       "TimesFormerDecoder(\n",
       "  (timesformer_blocks): ModuleList(\n",
       "    (0): TimesFormerLayer(\n",
       "      (conv): Conv1d(256, 256, kernel_size=(4,), stride=(1,), padding=same)\n",
       "      (relu): ReLU()\n",
       "      (norm_tcn): LayerNorm((256,), eps=1e-05, elementwise_affine=True)\n",
       "      (dropout): Dropout(p=0.2, inplace=False)\n",
       "      (mha1): MultiheadAttention(\n",
       "        (out_proj): NonDynamicallyQuantizableLinear(in_features=256, out_features=256, bias=True)\n",
       "      )\n",
       "      (norm1): LayerNorm((256,), eps=1e-05, elementwise_affine=True)\n",
       "      (ff_conv): Conv1d(256, 256, kernel_size=(1,), stride=(1,))\n",
       "      (ff_relu): ReLU()\n",
       "      (ff_norm): LayerNorm((256,), eps=1e-05, elementwise_affine=True)\n",
       "      (cross1): MultiheadAttention(\n",
       "        (out_proj): NonDynamicallyQuantizableLinear(in_features=256, out_features=256, bias=True)\n",
       "      )\n",
       "      (cross2): MultiheadAttention(\n",
       "        (out_proj): NonDynamicallyQuantizableLinear(in_features=256, out_features=256, bias=True)\n",
       "      )\n",
       "      (norm2): LayerNorm((256,), eps=1e-05, elementwise_affine=True)\n",
       "      (norm3): LayerNorm((256,), eps=1e-05, elementwise_affine=True)\n",
       "    )\n",
       "    (1): TimesFormerLayer(\n",
       "      (conv): Conv1d(256, 256, kernel_size=(4,), stride=(1,), padding=same, dilation=(4,))\n",
       "      (relu): ReLU()\n",
       "      (norm_tcn): LayerNorm((256,), eps=1e-05, elementwise_affine=True)\n",
       "      (dropout): Dropout(p=0.2, inplace=False)\n",
       "      (mha1): MultiheadAttention(\n",
       "        (out_proj): NonDynamicallyQuantizableLinear(in_features=256, out_features=256, bias=True)\n",
       "      )\n",
       "      (norm1): LayerNorm((256,), eps=1e-05, elementwise_affine=True)\n",
       "      (ff_conv): Conv1d(256, 256, kernel_size=(1,), stride=(1,))\n",
       "      (ff_relu): ReLU()\n",
       "      (ff_norm): LayerNorm((256,), eps=1e-05, elementwise_affine=True)\n",
       "      (cross1): MultiheadAttention(\n",
       "        (out_proj): NonDynamicallyQuantizableLinear(in_features=256, out_features=256, bias=True)\n",
       "      )\n",
       "      (cross2): MultiheadAttention(\n",
       "        (out_proj): NonDynamicallyQuantizableLinear(in_features=256, out_features=256, bias=True)\n",
       "      )\n",
       "      (norm2): LayerNorm((256,), eps=1e-05, elementwise_affine=True)\n",
       "      (norm3): LayerNorm((256,), eps=1e-05, elementwise_affine=True)\n",
       "    )\n",
       "  )\n",
       "  (final): Sequential(\n",
       "    (0): Flatten(start_dim=1, end_dim=-1)\n",
       "    (1): Linear(in_features=30720, out_features=600, bias=True)\n",
       "    (2): Unflatten(dim=1, unflattened_size=(60, 10))\n",
       "  )\n",
       ")"
      ]
     },
     "execution_count": 3,
     "metadata": {},
     "output_type": "execute_result"
    }
   ],
   "execution_count": 3
  },
  {
   "metadata": {
    "ExecuteTime": {
     "end_time": "2025-05-07T08:19:48.625713Z",
     "start_time": "2025-05-07T08:19:48.586432Z"
    }
   },
   "cell_type": "code",
   "source": [
    "Supervisor = T4.ModernTCN(T4.supervisor_config).to(T4.args.device)\n",
    "Supervisor"
   ],
   "outputs": [
    {
     "data": {
      "text/plain": [
       "ModernTCN(\n",
       "  (revin): RevIN()\n",
       "  (decomp): series_decomp(\n",
       "    (moving_avg): moving_avg(\n",
       "      (avg): AvgPool1d(kernel_size=(25,), stride=(1,), padding=(0,))\n",
       "    )\n",
       "  )\n",
       "  (conv_layers): ModuleList(\n",
       "    (0): ReparamLargeKernelConv(\n",
       "      (lkb_origin): Sequential(\n",
       "        (conv): Conv1d(256, 256, kernel_size=(5,), stride=(1,), padding=(2,), bias=False)\n",
       "        (bn): BatchNorm1d(256, eps=1e-05, momentum=0.1, affine=True, track_running_stats=True)\n",
       "      )\n",
       "      (small_conv): Sequential(\n",
       "        (conv): Conv1d(256, 256, kernel_size=(5,), stride=(1,), padding=(2,), bias=False)\n",
       "        (bn): BatchNorm1d(256, eps=1e-05, momentum=0.1, affine=True, track_running_stats=True)\n",
       "      )\n",
       "    )\n",
       "    (1): ReparamLargeKernelConv(\n",
       "      (lkb_origin): Sequential(\n",
       "        (conv): Conv1d(256, 128, kernel_size=(5,), stride=(1,), padding=(2,), bias=False)\n",
       "        (bn): BatchNorm1d(128, eps=1e-05, momentum=0.1, affine=True, track_running_stats=True)\n",
       "      )\n",
       "      (small_conv): Sequential(\n",
       "        (conv): Conv1d(256, 128, kernel_size=(3,), stride=(1,), padding=(1,), bias=False)\n",
       "        (bn): BatchNorm1d(128, eps=1e-05, momentum=0.1, affine=True, track_running_stats=True)\n",
       "      )\n",
       "    )\n",
       "    (2): ReparamLargeKernelConv(\n",
       "      (lkb_origin): Sequential(\n",
       "        (conv): Conv1d(128, 256, kernel_size=(3,), stride=(1,), padding=(1,), bias=False)\n",
       "        (bn): BatchNorm1d(256, eps=1e-05, momentum=0.1, affine=True, track_running_stats=True)\n",
       "      )\n",
       "      (small_conv): Sequential(\n",
       "        (conv): Conv1d(128, 256, kernel_size=(3,), stride=(1,), padding=(1,), bias=False)\n",
       "        (bn): BatchNorm1d(256, eps=1e-05, momentum=0.1, affine=True, track_running_stats=True)\n",
       "      )\n",
       "    )\n",
       "  )\n",
       "  (norm_layers): ModuleList(\n",
       "    (0): BatchNorm1d(256, eps=1e-05, momentum=0.1, affine=True, track_running_stats=True)\n",
       "    (1): BatchNorm1d(128, eps=1e-05, momentum=0.1, affine=True, track_running_stats=True)\n",
       "    (2): BatchNorm1d(256, eps=1e-05, momentum=0.1, affine=True, track_running_stats=True)\n",
       "  )\n",
       ")"
      ]
     },
     "execution_count": 4,
     "metadata": {},
     "output_type": "execute_result"
    }
   ],
   "execution_count": 4
  },
  {
   "metadata": {
    "ExecuteTime": {
     "end_time": "2025-05-07T08:19:56.065442Z",
     "start_time": "2025-05-07T08:19:56.050983Z"
    }
   },
   "cell_type": "code",
   "source": [
    "Generator = T4.LogSigRNNGenerator(**T4.logsig_config).to(T4.args.device)\n",
    "Generator"
   ],
   "outputs": [
    {
     "data": {
      "text/plain": [
       "LogSigRNNGenerator(\n",
       "  (rnn): Sequential(\n",
       "    (0): FeedForwardNN(\n",
       "      (network): Sequential(\n",
       "        (0): Linear(in_features=466, out_features=256, bias=True)\n",
       "        (1): PReLU(num_parameters=1)\n",
       "        (2): Linear(in_features=256, out_features=256, bias=True)\n",
       "        (3): PReLU(num_parameters=1)\n",
       "        (4): Linear(in_features=256, out_features=256, bias=True)\n",
       "      )\n",
       "    )\n",
       "    (1): Tanh()\n",
       "  )\n",
       "  (linear): Linear(in_features=256, out_features=256, bias=False)\n",
       "  (initial_nn): Sequential(\n",
       "    (0): ResidualNN(\n",
       "      (network): Sequential(\n",
       "        (0): ResidualBlock(\n",
       "          (activation): ReLU()\n",
       "          (linear): Linear(in_features=10, out_features=256, bias=True)\n",
       "        )\n",
       "        (1): ResidualBlock(\n",
       "          (activation): ReLU()\n",
       "          (linear): Linear(in_features=256, out_features=256, bias=True)\n",
       "        )\n",
       "        (2): Linear(in_features=256, out_features=256, bias=True)\n",
       "      )\n",
       "    )\n",
       "    (1): Tanh()\n",
       "  )\n",
       ")"
      ]
     },
     "execution_count": 5,
     "metadata": {},
     "output_type": "execute_result"
    }
   ],
   "execution_count": 5
  },
  {
   "metadata": {
    "ExecuteTime": {
     "end_time": "2025-05-07T08:20:04.522259Z",
     "start_time": "2025-05-07T08:20:04.514445Z"
    }
   },
   "cell_type": "code",
   "source": [
    "Discriminator = T4.tailGANDiscriminator(T4.discriminator_config).to(T4.args.device)\n",
    "Discriminator"
   ],
   "outputs": [
    {
     "data": {
      "text/plain": [
       "Discriminator(\n",
       "  (model): Sequential(\n",
       "    (0): Linear(in_features=128, out_features=256, bias=True)\n",
       "    (1): LeakyReLU(negative_slope=0.2, inplace=True)\n",
       "    (2): Linear(in_features=256, out_features=128, bias=True)\n",
       "    (3): LeakyReLU(negative_slope=0.2, inplace=True)\n",
       "    (4): Linear(in_features=128, out_features=2, bias=True)\n",
       "  )\n",
       ")"
      ]
     },
     "execution_count": 6,
     "metadata": {},
     "output_type": "execute_result"
    }
   ],
   "execution_count": 6
  },
  {
   "metadata": {
    "ExecuteTime": {
     "end_time": "2025-05-07T08:20:10.377519Z",
     "start_time": "2025-05-07T08:20:10.366200Z"
    }
   },
   "cell_type": "code",
   "source": [
    "model = T4.T4sigWGAN(Encoder, Decoder, Generator, Supervisor, Discriminator).to(T4.args.device)\n",
    "trainer = T4.FinetuneTrainer(T4.args, model, train_dataloader, val_dataloader)"
   ],
   "outputs": [],
   "execution_count": 7
  },
  {
   "cell_type": "code",
   "metadata": {},
   "source": [
    "stage = \"Pretrain_1\"\n",
    "\n",
    "# model training\n",
    "for epoch in range(T4.args.epochs):\n",
    "    trainer.train(epoch, stage)\n",
    "    val_loss = trainer.valid(epoch, stage)\n",
    "\n",
    "# train log image save\n",
    "trainer.evaluate()"
   ],
   "outputs": [],
   "execution_count": null
  },
  {
   "metadata": {},
   "cell_type": "code",
   "source": [
    "stage = \"Pretrain_2\"\n",
    "\n",
    "# model training\n",
    "for epoch in range(T4.args.epochs):\n",
    "    trainer.train(epoch, stage)\n",
    "    val_loss = trainer.valid(epoch, stage)\n",
    "\n",
    "# train log image save\n",
    "trainer.evaluate()"
   ],
   "outputs": [],
   "execution_count": null
  },
  {
   "metadata": {},
   "cell_type": "code",
   "source": [
    "stage = \"Finetune\"\n",
    "\n",
    "# model training\n",
    "for epoch in range(T4.args.epochs):\n",
    "    trainer.train(epoch, stage)\n",
    "    val_loss = trainer.valid(epoch, stage)\n",
    "\n",
    "# train log image save\n",
    "trainer.evaluate()"
   ],
   "outputs": [],
   "execution_count": null
  },
  {
   "cell_type": "code",
   "metadata": {},
   "source": [
    "# metric_iteration = 5\n",
    "#\n",
    "# discriminative_score = list()\n",
    "# for _ in range(metric_iteration):\n",
    "#     temp_disc = T4.discriminative_score_metrics(ori_data, generated_data)\n",
    "#     discriminative_score.append(temp_disc)\n",
    "#\n",
    "# print('Discriminative score: ' + str(np.round(np.mean(discriminative_score), 4)))\n",
    "#\n",
    "#\n",
    "# predictive_score = list()\n",
    "# for tt in range(metric_iteration):\n",
    "#     temp_pred = T4.predictive_score_metrics(ori_data, generated_data)\n",
    "#     predictive_score.append(temp_pred)\n",
    "#\n",
    "# print('Predictive score: ' + str(np.round(np.mean(predictive_score), 4)))\n",
    "#\n",
    "#\n",
    "# T4.visualization(ori_data, generated_data, 'pca')\n",
    "# T4.visualization(ori_data, generated_data, 'tsne')"
   ],
   "outputs": [],
   "execution_count": null
  }
 ],
 "metadata": {
  "kernelspec": {
   "display_name": "Python 3",
   "language": "python",
   "name": "python3"
  },
  "language_info": {
   "codemirror_mode": {
    "name": "ipython",
    "version": 3
   },
   "file_extension": ".py",
   "mimetype": "text/x-python",
   "name": "python",
   "nbconvert_exporter": "python",
   "pygments_lexer": "ipython3",
   "version": "3.7.4"
  }
 },
 "nbformat": 4,
 "nbformat_minor": 2
}
