{
 "cells": [
  {
   "cell_type": "markdown",
   "id": "82705a67",
   "metadata": {},
   "source": [
    "# 입출력과 사칙연산"
   ]
  },
  {
   "cell_type": "code",
   "execution_count": 42,
   "id": "91f0bae1",
   "metadata": {},
   "outputs": [
    {
     "name": "stdout",
     "output_type": "stream",
     "text": [
      "Hello World!\n"
     ]
    }
   ],
   "source": [
    "# 2557\n",
    "print('Hello World!')"
   ]
  },
  {
   "cell_type": "code",
   "execution_count": 43,
   "id": "fa465a50",
   "metadata": {},
   "outputs": [
    {
     "name": "stdout",
     "output_type": "stream",
     "text": [
      "1 2\n",
      "3\n"
     ]
    }
   ],
   "source": [
    "# 1000\n",
    "a, b = map(int, input().split())\n",
    "print(a + b)"
   ]
  },
  {
   "cell_type": "code",
   "execution_count": 41,
   "id": "40362883",
   "metadata": {},
   "outputs": [
    {
     "name": "stdout",
     "output_type": "stream",
     "text": [
      "3 2\n",
      "1\n"
     ]
    }
   ],
   "source": [
    "# 1001\n",
    "a, b = map(int, input().split())\n",
    "print(a - b)"
   ]
  },
  {
   "cell_type": "code",
   "execution_count": 40,
   "id": "15ecaf4a",
   "metadata": {},
   "outputs": [
    {
     "name": "stdout",
     "output_type": "stream",
     "text": [
      "1 2\n",
      "2\n"
     ]
    }
   ],
   "source": [
    "# 10998\n",
    "a, b = map(int, input().split())\n",
    "print(a * b)"
   ]
  },
  {
   "cell_type": "code",
   "execution_count": 39,
   "id": "6af37a4c",
   "metadata": {},
   "outputs": [
    {
     "name": "stdout",
     "output_type": "stream",
     "text": [
      "1 3\n",
      "0.3333333333333333\n"
     ]
    }
   ],
   "source": [
    "# 1008\n",
    "a, b = map(int, input().split())\n",
    "print(a / b)"
   ]
  },
  {
   "cell_type": "code",
   "execution_count": 46,
   "id": "91f9109d",
   "metadata": {},
   "outputs": [
    {
     "name": "stdout",
     "output_type": "stream",
     "text": [
      "7 3\n",
      "10\n",
      "4\n",
      "21\n",
      "2\n",
      "1\n"
     ]
    }
   ],
   "source": [
    "# 10869\n",
    "a, b = map(int, input().split())\n",
    "print(a + b)\n",
    "print(a - b)\n",
    "print(a * b)\n",
    "print(a // b)\n",
    "print(a % b)"
   ]
  },
  {
   "cell_type": "code",
   "execution_count": 47,
   "id": "18ede79f",
   "metadata": {},
   "outputs": [
    {
     "name": "stdout",
     "output_type": "stream",
     "text": [
      "joonas\n",
      "joonas??!\n"
     ]
    }
   ],
   "source": [
    "# 10926\n",
    "ID = input()\n",
    "print(ID + '??!')"
   ]
  },
  {
   "cell_type": "code",
   "execution_count": 48,
   "id": "f1887744",
   "metadata": {},
   "outputs": [
    {
     "name": "stdout",
     "output_type": "stream",
     "text": [
      "2541\n",
      "1998\n"
     ]
    }
   ],
   "source": [
    "# 18108\n",
    "n = int(input())\n",
    "print(n - 543)"
   ]
  },
  {
   "cell_type": "code",
   "execution_count": 49,
   "id": "55013ae4",
   "metadata": {},
   "outputs": [
    {
     "name": "stdout",
     "output_type": "stream",
     "text": [
      "5 8 4\n",
      "1\n",
      "1\n",
      "0\n",
      "0\n"
     ]
    }
   ],
   "source": [
    "# 10430\n",
    "a, b, c = map(int, input().split())\n",
    "print((a + b) % c)\n",
    "print(((a % c) + (b % c)) % c)\n",
    "print((a * b) % c)\n",
    "print(((a % c) * (b % c)) % c)"
   ]
  },
  {
   "cell_type": "code",
   "execution_count": 52,
   "id": "a9fb2708",
   "metadata": {},
   "outputs": [
    {
     "name": "stdout",
     "output_type": "stream",
     "text": [
      "472\n",
      "385\n",
      "2360\n",
      "3776\n",
      "1416\n",
      "181720\n"
     ]
    }
   ],
   "source": [
    "# 2588\n",
    "a = int(input())\n",
    "b = input()\n",
    "\n",
    "print(a * int(b[2]))\n",
    "print(a * int(b[1]))\n",
    "print(a * int(b[0]))\n",
    "print(a * int(b))\n"
   ]
  },
  {
   "cell_type": "code",
   "execution_count": 53,
   "id": "e43082b2",
   "metadata": {},
   "outputs": [
    {
     "name": "stdout",
     "output_type": "stream",
     "text": [
      "77 77 7777\n",
      "7931\n"
     ]
    }
   ],
   "source": [
    "# 11382\n",
    "a, b, c = map(int, input().split())\n",
    "print(a + b + c)"
   ]
  },
  {
   "cell_type": "code",
   "execution_count": 54,
   "id": "70f2b1d3",
   "metadata": {},
   "outputs": [
    {
     "name": "stdout",
     "output_type": "stream",
     "text": [
      "\\    /\\\n",
      " )  ( ')\n",
      "(  /  )\n",
      " \\(__)|\n"
     ]
    }
   ],
   "source": [
    "# 10171\n",
    "print(\"\\\\    /\\\\\")\n",
    "print(\" )  ( ')\")\n",
    "print(\"(  /  )\")\n",
    "print(\" \\\\(__)|\")"
   ]
  },
  {
   "cell_type": "code",
   "execution_count": 55,
   "id": "643aabee",
   "metadata": {},
   "outputs": [
    {
     "name": "stdout",
     "output_type": "stream",
     "text": [
      "|\\_/|\n",
      "|q p|   /}\n",
      "( 0 )\"\"\"\\\n",
      "|\"^\"`    |\n",
      "||_/=\\\\__|\n"
     ]
    }
   ],
   "source": [
    "# 10172\n",
    "print(\"|\\\\_/|\")\n",
    "print(\"|q p|   /}\")\n",
    "print('( 0 )\"\"\"\\\\')\n",
    "print('|\"^\"`    |')\n",
    "print(\"||_/=\\\\\\\\__|\")"
   ]
  },
  {
   "cell_type": "markdown",
   "id": "2588f36e",
   "metadata": {},
   "source": [
    "# 조건문"
   ]
  },
  {
   "cell_type": "code",
   "execution_count": 56,
   "id": "de7b4304",
   "metadata": {},
   "outputs": [
    {
     "name": "stdout",
     "output_type": "stream",
     "text": [
      "1 2\n",
      "<\n"
     ]
    }
   ],
   "source": [
    "# 1330\n",
    "a, b = map(int, input().split())\n",
    "if a > b:\n",
    "    print('>')\n",
    "\n",
    "elif a < b:\n",
    "    print('<')\n",
    "\n",
    "else:\n",
    "    print('==')"
   ]
  },
  {
   "cell_type": "code",
   "execution_count": 57,
   "id": "2f25a393",
   "metadata": {},
   "outputs": [
    {
     "name": "stdout",
     "output_type": "stream",
     "text": [
      "100\n",
      "A\n"
     ]
    }
   ],
   "source": [
    "# 9498\n",
    "score = int(input())\n",
    "if score >= 90:\n",
    "    print('A')\n",
    "elif score >= 80:\n",
    "    print('B')\n",
    "\n",
    "elif score >= 70:\n",
    "    print('C')\n",
    "\n",
    "elif score >= 60:\n",
    "    print('D')\n",
    "\n",
    "else:\n",
    "    print('F')"
   ]
  },
  {
   "cell_type": "code",
   "execution_count": 8,
   "id": "70cf9d6c",
   "metadata": {},
   "outputs": [
    {
     "name": "stdout",
     "output_type": "stream",
     "text": [
      "1999\n",
      "0\n"
     ]
    }
   ],
   "source": [
    "# 2753\n",
    "a = int(input())\n",
    "\n",
    "if a % 4 == 0 and a % 100 != 0:\n",
    "    print(1)\n",
    "\n",
    "elif a % 400 == 0:\n",
    "    print(1)\n",
    "\n",
    "else:\n",
    "    print(0)"
   ]
  },
  {
   "cell_type": "code",
   "execution_count": 58,
   "id": "99eafd13",
   "metadata": {},
   "outputs": [
    {
     "name": "stdout",
     "output_type": "stream",
     "text": [
      "12\n",
      "5\n",
      "1\n"
     ]
    }
   ],
   "source": [
    "# 14681\n",
    "x = int(input())\n",
    "y = int(input())\n",
    "\n",
    "if x > 0 and y > 0:\n",
    "    print(1)\n",
    "\n",
    "elif x > 0 and y < 0:\n",
    "    print(4)\n",
    "\n",
    "elif x < 0 and y < 0:\n",
    "    print(3)\n",
    "\n",
    "else:\n",
    "    print(2)\n"
   ]
  },
  {
   "cell_type": "code",
   "execution_count": 16,
   "id": "54b322c3",
   "metadata": {},
   "outputs": [
    {
     "name": "stdout",
     "output_type": "stream",
     "text": [
      "23 40\n",
      "22 55\n"
     ]
    }
   ],
   "source": [
    "# 2884\n",
    "h, m = map(int, input().split())\n",
    "\n",
    "total = h * 60 + m\n",
    "\n",
    "if total >= 45:\n",
    "    total = total - 45\n",
    "\n",
    "    h = total // 60\n",
    "    m = total % 60\n",
    "    print(h, m)\n",
    "\n",
    "else:\n",
    "    total = total - 45\n",
    "    total = 1440 + total\n",
    "\n",
    "    h = total // 60\n",
    "    m = total % 60\n",
    "    print(h, m)"
   ]
  },
  {
   "cell_type": "code",
   "execution_count": 20,
   "id": "af767afb",
   "metadata": {},
   "outputs": [
    {
     "name": "stdout",
     "output_type": "stream",
     "text": [
      "14 30\n",
      "20\n",
      "14 50\n"
     ]
    }
   ],
   "source": [
    "# 2525\n",
    "h, m = map(int, input().split())\n",
    "s = int(input())\n",
    "\n",
    "k = s // 60\n",
    "t = s % 60\n",
    "\n",
    "h = h + k\n",
    "m = m + t\n",
    "\n",
    "if h >= 24:\n",
    "    h = h - 24\n",
    "\n",
    "if m >= 60:\n",
    "    h = h + m // 60\n",
    "    m = m % 60\n",
    "    if h >= 24:\n",
    "        h = h - 24\n",
    "\n",
    "print(h, m)\n"
   ]
  },
  {
   "cell_type": "code",
   "execution_count": 59,
   "id": "f01a6a10",
   "metadata": {},
   "outputs": [
    {
     "name": "stdout",
     "output_type": "stream",
     "text": [
      "3 3 6\n",
      "1300\n"
     ]
    }
   ],
   "source": [
    "# 2480\n",
    "a, b, c = map(int, input().split())\n",
    "\n",
    "if a == b == c:\n",
    "    r = 10000 + a * 1000\n",
    "    print(r)\n",
    "\n",
    "elif a == b:\n",
    "    r = 1000 + 100 * a\n",
    "    print(r)\n",
    "\n",
    "elif a == c:\n",
    "    r = 1000 + 100 * a\n",
    "    print(r)\n",
    "\n",
    "elif c == b:\n",
    "    r = 1000 + 100 * b\n",
    "    print(r)\n",
    "\n",
    "else:\n",
    "    if a > b > c:\n",
    "        r = a * 100\n",
    "        print(r)\n",
    "\n",
    "\n",
    "    elif a > c > b:\n",
    "        r = a * 100\n",
    "        print(r)\n",
    "\n",
    "\n",
    "    elif b > a > c:\n",
    "        r = b * 100\n",
    "        print(r)\n",
    "\n",
    "    elif b > c > a:\n",
    "        r = b * 100\n",
    "        print(r)\n",
    "\n",
    "    elif c > a > b:\n",
    "        r = c * 100\n",
    "        print(r)\n",
    "\n",
    "    else:\n",
    "        r = c * 100\n",
    "        print(r)\n"
   ]
  },
  {
   "cell_type": "markdown",
   "id": "8779d8a5",
   "metadata": {},
   "source": [
    "# 반복문"
   ]
  },
  {
   "cell_type": "code",
   "execution_count": 67,
   "id": "3748b254",
   "metadata": {},
   "outputs": [
    {
     "name": "stdout",
     "output_type": "stream",
     "text": [
      "2\n",
      "2 * 1 = 2\n",
      "2 * 2 = 4\n",
      "2 * 3 = 6\n",
      "2 * 4 = 8\n",
      "2 * 5 = 10\n",
      "2 * 6 = 12\n",
      "2 * 7 = 14\n",
      "2 * 8 = 16\n",
      "2 * 9 = 18\n"
     ]
    }
   ],
   "source": [
    "# 2739\n",
    "N = int(input())\n",
    "for i in range(9):\n",
    "    print(f'{N} * {i + 1} = {N * (i + 1)}')"
   ]
  },
  {
   "cell_type": "code",
   "execution_count": 68,
   "id": "357cc815",
   "metadata": {},
   "outputs": [
    {
     "name": "stdout",
     "output_type": "stream",
     "text": [
      "5\n",
      "1 1\n",
      "2 3\n",
      "3 4\n",
      "9 8\n",
      "5 2\n",
      "2\n",
      "5\n",
      "7\n",
      "17\n",
      "7\n"
     ]
    }
   ],
   "source": [
    "# 10950\n",
    "N = int(input())\n",
    "result = []\n",
    "for i in range(N):\n",
    "    a, b = map(int, input().split())\n",
    "    result.append(a + b)\n",
    "\n",
    "for i in range(len(result)):\n",
    "    print(result[i])"
   ]
  },
  {
   "cell_type": "code",
   "execution_count": 72,
   "id": "3b1656d8",
   "metadata": {},
   "outputs": [
    {
     "name": "stdout",
     "output_type": "stream",
     "text": [
      "3\n",
      "6\n"
     ]
    }
   ],
   "source": [
    "# 8393\n",
    "n = int(input())\n",
    "s = (n + 1) * n / 2\n",
    "print(int(s))"
   ]
  },
  {
   "cell_type": "code",
   "execution_count": 28,
   "id": "9c08447f",
   "metadata": {},
   "outputs": [
    {
     "name": "stdout",
     "output_type": "stream",
     "text": [
      "250000\n",
      "4\n",
      "20000 5\n",
      "30000 2\n",
      "10000 6\n",
      "5000 8\n",
      "No\n"
     ]
    }
   ],
   "source": [
    "# 25304\n",
    "a = int(input())\n",
    "b = int(input())\n",
    "\n",
    "price = []\n",
    "num = []\n",
    "t = []\n",
    "for i in range(0, b):\n",
    "    price.append('col' + str(i))\n",
    "    num.append('row' + str(i))\n",
    "    t.append('tot' + str(i))\n",
    "\n",
    "for i in range(0, b):\n",
    "    price[i], num[i] = map(int, input().split())\n",
    "\n",
    "for i in range(0, b):\n",
    "    t[i] = price[i] * num[i]\n",
    "\n",
    "sum = 0\n",
    "for i in range(0, b):\n",
    "    sum = sum + t[i]\n",
    "\n",
    "if a == sum:\n",
    "    print('Yes')\n",
    "\n",
    "else:\n",
    "    print('No')\n",
    "\n"
   ]
  },
  {
   "cell_type": "code",
   "execution_count": 34,
   "id": "a826ce31",
   "metadata": {},
   "outputs": [
    {
     "name": "stdout",
     "output_type": "stream",
     "text": [
      "20\n",
      "long long long long long int\n"
     ]
    }
   ],
   "source": [
    "# 25314\n",
    "def coding_is_a_physical_education_subject(N):\n",
    "    answer = [\"long\"] * (N // 4)\n",
    "    answer += [\"int\"]\n",
    "\n",
    "    return \" \".join(answer)\n",
    "\n",
    "\n",
    "N = int(input())\n",
    "\n",
    "print(coding_is_a_physical_education_subject(N))"
   ]
  },
  {
   "cell_type": "code",
   "execution_count": 62,
   "id": "55b17146",
   "metadata": {},
   "outputs": [
    {
     "name": "stdout",
     "output_type": "stream",
     "text": [
      "5\n",
      "1 1\n",
      "12 34\n",
      "5 500\n",
      "40 60\n",
      "1000 1000\n",
      "2\n",
      "46\n",
      "505\n",
      "100\n",
      "2000\n"
     ]
    }
   ],
   "source": [
    "# 15552\n",
    "a = int(input())\n",
    "k = []\n",
    "t = []\n",
    "s = []\n",
    "for i in range(0, a):\n",
    "    k.append(str(i))\n",
    "    t.append(str(i))\n",
    "    s.append(str(i))\n",
    "\n",
    "for i in range(0, a):\n",
    "    k[i], t[i] = map(int, input().split())\n",
    "\n",
    "for i in range(0, a):\n",
    "    s[i] = k[i] + t[i]\n",
    "\n",
    "for i in range(0, a):\n",
    "    print(s[i])"
   ]
  },
  {
   "cell_type": "code",
   "execution_count": 76,
   "id": "f26baa43",
   "metadata": {},
   "outputs": [
    {
     "name": "stdout",
     "output_type": "stream",
     "text": [
      "5\n",
      "1 1\n",
      "2 3\n",
      "3 4\n",
      "9 8\n",
      "5 2\n",
      "Case #1: 2\n",
      "Case #2: 5\n",
      "Case #3: 7\n",
      "Case #4: 17\n",
      "Case #5: 7\n"
     ]
    }
   ],
   "source": [
    "# 11021\n",
    "N = int(input())\n",
    "result = []\n",
    "for i in range(N):\n",
    "    a, b = map(int, input().split())\n",
    "    result.append(a + b)\n",
    "\n",
    "for i in range(len(result)):\n",
    "    print(f'Case #{i + 1}: {result[i]}')"
   ]
  },
  {
   "cell_type": "code",
   "execution_count": 75,
   "id": "fd20d6a7",
   "metadata": {},
   "outputs": [
    {
     "name": "stdout",
     "output_type": "stream",
     "text": [
      "5\n",
      "1 1\n",
      "2 3\n",
      "3 4\n",
      "9 8\n",
      "5 2\n",
      "Case #1: 1 + 1 = 2\n",
      "Case #2: 2 + 3 = 5\n",
      "Case #3: 3 + 4 = 7\n",
      "Case #4: 9 + 8 = 17\n",
      "Case #5: 5 + 2 = 7\n"
     ]
    }
   ],
   "source": [
    "# 11022\n",
    "N = int(input())\n",
    "result = []\n",
    "input_a = []\n",
    "input_b = []\n",
    "for i in range(N):\n",
    "    a, b = map(int, input().split())\n",
    "    input_a.append(a)\n",
    "    input_b.append(b)\n",
    "    result.append(a + b)\n",
    "\n",
    "for i in range(len(result)):\n",
    "    print(f'Case #{i + 1}: {input_a[i]} + {input_b[i]} = {result[i]}')"
   ]
  },
  {
   "cell_type": "code",
   "execution_count": 77,
   "id": "46b990ac",
   "metadata": {},
   "outputs": [
    {
     "name": "stdout",
     "output_type": "stream",
     "text": [
      "5\n",
      "*\n",
      "**\n",
      "***\n",
      "****\n",
      "*****\n"
     ]
    }
   ],
   "source": [
    "# 2438\n",
    "N = int(input())\n",
    "for i in range(N):\n",
    "    print('*' * (i + 1))"
   ]
  },
  {
   "cell_type": "code",
   "execution_count": 78,
   "id": "d50013ee",
   "metadata": {},
   "outputs": [
    {
     "name": "stdout",
     "output_type": "stream",
     "text": [
      "5\n",
      "    *\n",
      "   **\n",
      "  ***\n",
      " ****\n",
      "*****\n"
     ]
    }
   ],
   "source": [
    "# 2439\n",
    "N = int(input())\n",
    "for i in range(N):\n",
    "    print(' ' * (N - i - 1) + '*' * (i + 1))"
   ]
  },
  {
   "cell_type": "code",
   "execution_count": 64,
   "id": "32e64332",
   "metadata": {},
   "outputs": [
    {
     "name": "stdout",
     "output_type": "stream",
     "text": [
      "1 1\n",
      "2\n",
      "2 3\n",
      "5\n",
      "0 0\n"
     ]
    }
   ],
   "source": [
    "# 10952\n",
    "def a_plus_b_5(num1, num2):\n",
    "    return num1 + num2\n",
    "\n",
    "\n",
    "while True:\n",
    "    num1, num2 = map(int, input().split())\n",
    "\n",
    "    if num1 == 0 and num2 == 0:\n",
    "        break\n",
    "\n",
    "    print(a_plus_b_5(num1, num2))"
   ]
  },
  {
   "cell_type": "code",
   "execution_count": 66,
   "id": "859cc3a1",
   "metadata": {},
   "outputs": [
    {
     "name": "stdout",
     "output_type": "stream",
     "text": [
      "1 1\n",
      "2\n",
      "1 10\n"
     ]
    }
   ],
   "source": [
    "# 10951\n",
    "while True:\n",
    "    try:\n",
    "        a, b = map(int, input().split())\n",
    "\n",
    "        if 0 < a and b < 10:\n",
    "            print(a + b)\n",
    "        else:\n",
    "            break\n",
    "    except ValueError:\n",
    "        break"
   ]
  },
  {
   "cell_type": "markdown",
   "id": "0f88ec04",
   "metadata": {},
   "source": [
    "# 1차원 배열"
   ]
  },
  {
   "cell_type": "code",
   "execution_count": 81,
   "id": "0c2d3613",
   "metadata": {},
   "outputs": [
    {
     "name": "stdout",
     "output_type": "stream",
     "text": [
      "11\n",
      "1 4 1 2 4 2 4 2 3 4 4\n",
      "2\n",
      "3\n"
     ]
    }
   ],
   "source": [
    "# 10807\n",
    "n = int(input())\n",
    "li = list(map(int, input().split()))\n",
    "v = int(input())\n",
    "\n",
    "cnt = li.count(v)\n",
    "\n",
    "print(cnt)"
   ]
  },
  {
   "cell_type": "code",
   "execution_count": 82,
   "id": "da85e68a",
   "metadata": {},
   "outputs": [
    {
     "name": "stdout",
     "output_type": "stream",
     "text": [
      "10 5\n",
      "1 10 4 9 2 3 8 5 7 6\n",
      "1 4 2 3 "
     ]
    }
   ],
   "source": [
    "# 10871\n",
    "N, X = map(int, input().split())\n",
    "li = list(map(int, input().split()))\n",
    "\n",
    "result = []\n",
    "\n",
    "for i in range(0, N):\n",
    "    if li[i] < X:\n",
    "        result.append(li[i])\n",
    "\n",
    "for i in range(0, len(result)):\n",
    "    print(result[i], end=' ')"
   ]
  },
  {
   "cell_type": "code",
   "execution_count": 83,
   "id": "5d47b892",
   "metadata": {},
   "outputs": [
    {
     "name": "stdout",
     "output_type": "stream",
     "text": [
      "5\n",
      "20 10 35 30 7\n",
      "7 35\n"
     ]
    }
   ],
   "source": [
    "# 10818\n",
    "N = int(input())\n",
    "li = list(map(int, input().split()))\n",
    "print(min(li), max(li))"
   ]
  },
  {
   "cell_type": "code",
   "execution_count": 84,
   "id": "e8f32ab9",
   "metadata": {
    "scrolled": true
   },
   "outputs": [
    {
     "name": "stdout",
     "output_type": "stream",
     "text": [
      "3\n",
      "29\n",
      "38\n",
      "12\n",
      "57\n",
      "74\n",
      "40\n",
      "85\n",
      "61\n",
      "85\n",
      "8\n"
     ]
    }
   ],
   "source": [
    "# 2562\n",
    "lst = []\n",
    "for _ in range(9):\n",
    "    lst.append(int(input()))\n",
    "\n",
    "print(max(lst))\n",
    "print(lst.index(max(lst)) + 1)"
   ]
  },
  {
   "cell_type": "code",
   "execution_count": 11,
   "id": "bf9ef9cb",
   "metadata": {
    "scrolled": true
   },
   "outputs": [
    {
     "name": "stdout",
     "output_type": "stream",
     "text": [
      "5 4\n",
      "1 2 3\n",
      "3 4 4\n",
      "1 4 1\n",
      "2 2 2\n",
      "[1, 2, 1, 1, 0]\n"
     ]
    }
   ],
   "source": [
    "# 10810\n",
    "N, M = map(int, input().split())\n",
    "\n",
    "basket = [0] * N\n",
    "\n",
    "for _ in range(M):\n",
    "    i, j, k = map(int, input().split())\n",
    "\n",
    "    for t in range(i - 1, j):\n",
    "        basket[t] = k\n",
    "\n",
    "print(*basket)"
   ]
  },
  {
   "cell_type": "code",
   "execution_count": 18,
   "id": "0090673c",
   "metadata": {
    "scrolled": false
   },
   "outputs": [
    {
     "name": "stdout",
     "output_type": "stream",
     "text": [
      "5 4\n",
      "1 2\n",
      "3 4\n",
      "1 4\n",
      "2 2\n",
      "3 1 4 2 5\n"
     ]
    }
   ],
   "source": [
    "# 10813\n",
    "N, M = map(int, input().split())\n",
    "\n",
    "basket = [i for i in range(1, N + 1)]\n",
    "\n",
    "for _ in range(M):\n",
    "    i, j = map(int, input().split())\n",
    "    t = basket[i - 1]\n",
    "    basket[i - 1] = basket[j - 1]\n",
    "    basket[j - 1] = t\n",
    "\n",
    "print(*basket)"
   ]
  },
  {
   "cell_type": "code",
   "execution_count": 27,
   "id": "c440e1e2",
   "metadata": {},
   "outputs": [
    {
     "name": "stdout",
     "output_type": "stream",
     "text": [
      "3\n",
      "1\n",
      "4\n",
      "5\n",
      "7\n",
      "9\n",
      "6\n",
      "10\n",
      "11\n",
      "12\n",
      "13\n",
      "14\n",
      "15\n",
      "16\n",
      "17\n",
      "18\n",
      "19\n",
      "20\n",
      "21\n",
      "22\n",
      "23\n",
      "24\n",
      "25\n",
      "26\n",
      "27\n",
      "28\n",
      "29\n",
      "30\n",
      "2\n",
      "8\n"
     ]
    }
   ],
   "source": [
    "# 5597\n",
    "facebook = []\n",
    "for i in range(28):\n",
    "    a = int(input())\n",
    "    facebook.append(a)\n",
    "\n",
    "total = [i for i in range(1, 31)]\n",
    "\n",
    "for i in range(len(facebook)):\n",
    "    total.remove(facebook[i])\n",
    "\n",
    "for _ in range(len(total)):\n",
    "    print(total[_])"
   ]
  },
  {
   "cell_type": "code",
   "execution_count": 31,
   "id": "435776fc",
   "metadata": {},
   "outputs": [
    {
     "name": "stdout",
     "output_type": "stream",
     "text": [
      "39\n",
      "40\n",
      "41\n",
      "42\n",
      "43\n",
      "44\n",
      "82\n",
      "83\n",
      "84\n",
      "85\n",
      "[0, 1, 2, 39, 40, 41]\n",
      "6\n"
     ]
    }
   ],
   "source": [
    "# 3052\n",
    "num_list = []\n",
    "for _ in range(10):\n",
    "    a = int(input())\n",
    "    b = a % 42\n",
    "    num_list.append(b)\n",
    "\n",
    "num_list = sorted(set(num_list))\n",
    "print(len(num_list))"
   ]
  },
  {
   "cell_type": "code",
   "execution_count": 34,
   "id": "7d166c83",
   "metadata": {},
   "outputs": [
    {
     "name": "stdout",
     "output_type": "stream",
     "text": [
      "5 4\n",
      "1 2\n",
      "3 4\n",
      "1 4\n",
      "2 2\n",
      "3 4 1 2 5\n"
     ]
    }
   ],
   "source": [
    "# 10811\n",
    "N, M = map(int, input().split())\n",
    "\n",
    "basket = [i for i in range(1, N + 1)]\n",
    "\n",
    "for i in range(M):\n",
    "    i, j = map(int, input().split())\n",
    "    temp = basket[i - 1:j]\n",
    "    temp.reverse()\n",
    "    basket[i - 1:j] = temp\n",
    "print(*basket)"
   ]
  },
  {
   "cell_type": "code",
   "execution_count": 37,
   "id": "64d5bc03",
   "metadata": {},
   "outputs": [
    {
     "name": "stdout",
     "output_type": "stream",
     "text": [
      "3\n",
      "40 80 60\n",
      "75.0\n"
     ]
    }
   ],
   "source": [
    "# 1546\n",
    "N = int(input())\n",
    "test_list = list(map(int, input().split()))\n",
    "max_score = max(test_list)\n",
    "\n",
    "new_list = []\n",
    "\n",
    "for score in test_list:\n",
    "    new_list.append(score / max_score * 100)\n",
    "\n",
    "test_avg = sum(new_list) / N\n",
    "print(test_avg)"
   ]
  },
  {
   "cell_type": "markdown",
   "id": "3b309714",
   "metadata": {},
   "source": [
    "# 문자열"
   ]
  },
  {
   "cell_type": "code",
   "execution_count": 87,
   "id": "93da05f6",
   "metadata": {},
   "outputs": [
    {
     "name": "stdout",
     "output_type": "stream",
     "text": [
      "Sprout\n",
      "3\n",
      "r\n"
     ]
    }
   ],
   "source": [
    "# 27866\n",
    "a = input()\n",
    "b = int(input())\n",
    "print(a[b - 1])"
   ]
  },
  {
   "cell_type": "code",
   "execution_count": 88,
   "id": "414e6d49",
   "metadata": {},
   "outputs": [
    {
     "name": "stdout",
     "output_type": "stream",
     "text": [
      "pulljima\n",
      "8\n"
     ]
    }
   ],
   "source": [
    "# 2743\n",
    "a = input()\n",
    "print(len(a))"
   ]
  },
  {
   "cell_type": "code",
   "execution_count": 89,
   "id": "cd651b59",
   "metadata": {},
   "outputs": [
    {
     "name": "stdout",
     "output_type": "stream",
     "text": [
      "3\n",
      "ACDK\n",
      "O\n",
      "AB\n",
      "AK\n",
      "OO\n",
      "AB\n"
     ]
    }
   ],
   "source": [
    "# 9086\n",
    "N = int(input())\n",
    "lst = []\n",
    "for i in range(N):\n",
    "    a = input()\n",
    "    b = a[0] + a[-1]\n",
    "    lst.append(b)\n",
    "\n",
    "for i in range(len(lst)):\n",
    "    print(lst[i])"
   ]
  },
  {
   "cell_type": "code",
   "execution_count": 7,
   "id": "7fb31dc4",
   "metadata": {},
   "outputs": [
    {
     "name": "stdout",
     "output_type": "stream",
     "text": [
      "z\n",
      "122\n"
     ]
    }
   ],
   "source": [
    "# 11654\n",
    "print(ord(input()))"
   ]
  },
  {
   "cell_type": "code",
   "execution_count": 94,
   "id": "ef5ccf63",
   "metadata": {},
   "outputs": [
    {
     "name": "stdout",
     "output_type": "stream",
     "text": [
      "5\n",
      "54321\n",
      "[5, 4, 3, 2, 1]\n",
      "15\n"
     ]
    }
   ],
   "source": [
    "# 11720\n",
    "N = int(input())\n",
    "S = input()\n",
    "lst = []\n",
    "for i in range(N):\n",
    "    lst.append(int(S[i]))\n",
    "print(sum(lst))"
   ]
  },
  {
   "cell_type": "code",
   "execution_count": 16,
   "id": "01f18b37",
   "metadata": {},
   "outputs": [
    {
     "name": "stdout",
     "output_type": "stream",
     "text": [
      "baekjoon\n",
      "1 0 -1 -1 2 -1 -1 -1 -1 4 3 -1 -1 7 5 -1 -1 -1 -1 -1 -1 -1 -1 -1 -1 -1\n"
     ]
    }
   ],
   "source": [
    "# 10809\n",
    "S = input()\n",
    "lst = []\n",
    "for i in range(len(S)):\n",
    "    lst.append(ord(S[i]) - 97)\n",
    "\n",
    "t = [-1] * 26\n",
    "\n",
    "for i, asc in enumerate(lst):\n",
    "    if t[asc] != -1:\n",
    "        continue\n",
    "    t[asc] = i\n",
    "\n",
    "print(*t)"
   ]
  },
  {
   "cell_type": "code",
   "execution_count": 43,
   "id": "e779934f",
   "metadata": {},
   "outputs": [
    {
     "name": "stdout",
     "output_type": "stream",
     "text": [
      "2\n",
      "3 ABC\n",
      "5 /HTP\n",
      "AAABBBCCC\n",
      "/////HHHHHTTTTTPPPPP\n"
     ]
    }
   ],
   "source": [
    "# 2675\n",
    "N = int(input())\n",
    "lsta = []\n",
    "lstb = []\n",
    "\n",
    "for _ in range(N):\n",
    "    b, a = map(str, input().split())\n",
    "    lsta.append(a)\n",
    "    lstb.append(int(b))\n",
    "\n",
    "for j, word in enumerate(lsta):\n",
    "    word2 = [0] * len(word)\n",
    "\n",
    "    for i in range(len(word)):\n",
    "        word2[i] = word[i] * lstb[j]\n",
    "\n",
    "    result = ''.join(word2)\n",
    "    lsta[j] = result\n",
    "\n",
    "for i in range(N):\n",
    "    print(lsta[i])"
   ]
  },
  {
   "cell_type": "code",
   "execution_count": 51,
   "id": "3a7ca486",
   "metadata": {},
   "outputs": [
    {
     "name": "stdout",
     "output_type": "stream",
     "text": [
      "Kim Juhwan\n",
      "2\n"
     ]
    }
   ],
   "source": [
    "# 1152\n",
    "lst = list(map(str, input().split()))\n",
    "print(len(lst))"
   ]
  },
  {
   "cell_type": "code",
   "execution_count": 54,
   "id": "091ec958",
   "metadata": {},
   "outputs": [
    {
     "name": "stdout",
     "output_type": "stream",
     "text": [
      "734 893\n",
      "437\n"
     ]
    }
   ],
   "source": [
    "# 2908\n",
    "a, b = map(str, input().split())\n",
    "a = int(a[::-1])\n",
    "b = int(b[::-1])\n",
    "if a > b:\n",
    "    print(a)\n",
    "else:\n",
    "    print(b)"
   ]
  },
  {
   "cell_type": "code",
   "execution_count": 61,
   "id": "5d71b8d0",
   "metadata": {},
   "outputs": [
    {
     "name": "stdout",
     "output_type": "stream",
     "text": [
      "WA\n",
      "13\n"
     ]
    }
   ],
   "source": [
    "# 5622\n",
    "S = input()\n",
    "asc = []\n",
    "for i in range(len(S)):\n",
    "    asc.append(ord(S[i]))\n",
    "\n",
    "for i, word in enumerate(asc):\n",
    "    if word < 68:\n",
    "        asc[i] = 3\n",
    "    elif word < 71:\n",
    "        asc[i] = 4\n",
    "    elif word < 74:\n",
    "        asc[i] = 5\n",
    "    elif word < 77:\n",
    "        asc[i] = 6\n",
    "    elif word < 80:\n",
    "        asc[i] = 7\n",
    "    elif word < 84:\n",
    "        asc[i] = 8\n",
    "    elif word < 87:\n",
    "        asc[i] = 9\n",
    "    else:\n",
    "        asc[i] = 10\n",
    "\n",
    "print(sum(asc))"
   ]
  },
  {
   "cell_type": "code",
   "execution_count": 100,
   "id": "eb300219",
   "metadata": {
    "scrolled": true
   },
   "outputs": [
    {
     "name": "stdout",
     "output_type": "stream",
     "text": [
      "Hello\n",
      "Hello\n",
      " \n"
     ]
    }
   ],
   "source": [
    "# 11718\n",
    "while True:\n",
    "    try:\n",
    "        a = input()\n",
    "        if ' ' == a[0] or ' ' == a[-1]:\n",
    "            break\n",
    "        else:\n",
    "            print(a)\n",
    "    except ValueError:\n",
    "        break"
   ]
  },
  {
   "cell_type": "markdown",
   "id": "9c6433bc",
   "metadata": {},
   "source": [
    "# 심화1"
   ]
  },
  {
   "cell_type": "code",
   "execution_count": 64,
   "id": "7a2af05b",
   "metadata": {},
   "outputs": [
    {
     "name": "stdout",
     "output_type": "stream",
     "text": [
      "         ,r'\"7\n",
      "r`-_   ,'  ,/\n",
      " \\. \". L_r'\n",
      "   `~\\/\n",
      "      |\n",
      "      |\n"
     ]
    }
   ],
   "source": [
    "# 25083\n",
    "print(\"         ,r'\\\"7\")\n",
    "print(\"r`-_   ,'  ,/\")\n",
    "print(\" \\. \\\". L_r'\")\n",
    "print(\"   `~\\/\")\n",
    "print(\"      |\")\n",
    "print(\"      |\")"
   ]
  },
  {
   "cell_type": "code",
   "execution_count": 78,
   "id": "f2ef3059",
   "metadata": {},
   "outputs": [
    {
     "name": "stdout",
     "output_type": "stream",
     "text": [
      "0 1 2 2 2 7\n",
      "1 0 0 0 0 1 "
     ]
    }
   ],
   "source": [
    "# 3003\n",
    "ans = [1, 1, 2, 2, 2, 8]\n",
    "temp = list(map(int, input().split()))\n",
    "\n",
    "for i in range(len(ans)):\n",
    "    print(ans[i] - temp[i], end=' ')"
   ]
  },
  {
   "cell_type": "code",
   "execution_count": 84,
   "id": "3aa6cab8",
   "metadata": {},
   "outputs": [
    {
     "name": "stdout",
     "output_type": "stream",
     "text": [
      "5\n",
      "    *\n",
      "   ***\n",
      "  *****\n",
      " *******\n",
      "*********\n",
      " *******\n",
      "  *****\n",
      "   ***\n",
      "    *\n"
     ]
    }
   ],
   "source": [
    "# 2444\n",
    "N = int(input())\n",
    "for i in range(N):\n",
    "    print((N - i - 1) * ' ' + (2 * i + 1) * '*')\n",
    "\n",
    "for i in range(N - 1):\n",
    "    print((i + 1) * ' ' + (7 - (2 * i)) * '*')"
   ]
  },
  {
   "cell_type": "code",
   "execution_count": 104,
   "id": "9788e4fe",
   "metadata": {},
   "outputs": [
    {
     "name": "stdout",
     "output_type": "stream",
     "text": [
      "level\n",
      "1\n"
     ]
    }
   ],
   "source": [
    "# 10988\n",
    "S = input()\n",
    "# for i in range(len(S)):\n",
    "half = len(S) // 2\n",
    "res = len(S) % 2\n",
    "asc = S[:half]\n",
    "desc = S[half + res:]\n",
    "desc = desc[::-1]\n",
    "\n",
    "if asc == desc:\n",
    "    print(1)\n",
    "else:\n",
    "    print(0)"
   ]
  },
  {
   "cell_type": "code",
   "execution_count": 156,
   "id": "a3b79108",
   "metadata": {},
   "outputs": [
    {
     "name": "stdout",
     "output_type": "stream",
     "text": [
      "zZa\n",
      "Z\n"
     ]
    }
   ],
   "source": [
    "# 1157\n",
    "'''S=input().upper()\n",
    "S_cate=list(sorted(set(S)))\n",
    "\n",
    "S_count=[[]for _ in range(len(S_cate))]\n",
    "\n",
    "for i, alpha in enumerate((S_cate)):\n",
    "    for j in range(len(S)):\n",
    "        S_count[i].append(S.count(alpha))\n",
    "    S_count[i]=list(set(S_count[i]))\n",
    "    \n",
    "S_count=[p for sublist in S_count for p in sublist]\n",
    "\n",
    "count=0\n",
    "\n",
    "for i in range(len(S_count)):\n",
    "    if max(S_count) == S_count[i]:\n",
    "        count+=1\n",
    "        \n",
    "if count ==1:\n",
    "    for i, num in enumerate(S_count):\n",
    "        if num==max(S_count):\n",
    "            print(S_cate[i])\n",
    "    \n",
    "else:\n",
    "    print('?')'''\n",
    "\n",
    "from collections import Counter\n",
    "\n",
    "a = input().upper()\n",
    "count = dict(Counter(a).most_common(2))\n",
    "try:\n",
    "    if list(count.values())[0] == list(count.values())[1]:\n",
    "        print('?')\n",
    "    else:\n",
    "        print(list(count.keys())[0])\n",
    "\n",
    "except:\n",
    "    print(list(count.keys())[0])"
   ]
  },
  {
   "cell_type": "code",
   "execution_count": 5,
   "id": "039e00de",
   "metadata": {},
   "outputs": [
    {
     "name": "stdout",
     "output_type": "stream",
     "text": [
      "dz=ak\n",
      "3\n"
     ]
    }
   ],
   "source": [
    "# 2941\n",
    "def find_alphabet(S: str):\n",
    "    lst = ['c=', 'c-', 'dz=', 'd-', 'lj', 'nj', 's=', 'z=']\n",
    "    count = 0\n",
    "    while S:\n",
    "        found = False\n",
    "        for croatian in lst:\n",
    "            if S.startswith(croatian):\n",
    "                S = S[len(croatian):]\n",
    "                count += 1\n",
    "                found = True\n",
    "                break\n",
    "\n",
    "        if not found:\n",
    "            S = S[1:]\n",
    "            count += 1\n",
    "\n",
    "    print(count)\n",
    "\n",
    "\n",
    "S = input()\n",
    "find_alphabet(S)"
   ]
  },
  {
   "cell_type": "code",
   "execution_count": 27,
   "id": "cc08ee93",
   "metadata": {},
   "outputs": [
    {
     "name": "stdout",
     "output_type": "stream",
     "text": [
      "5\n",
      "ab\n",
      "aa\n",
      "aca\n",
      "ba\n",
      "bb\n",
      "[0]\n",
      "[1]\n",
      "[0, 1]\n",
      "[0, 2]\n",
      "[1]\n",
      "[0]\n",
      "[0, 1]\n",
      "4\n"
     ]
    }
   ],
   "source": [
    "# 1316\n",
    "N = int(input())\n",
    "lst = []\n",
    "for i in range(N):\n",
    "    S = input()\n",
    "    lst.append(S)\n",
    "\n",
    "\n",
    "def identify_group_word(S):\n",
    "    S_criteria = list(sorted(set(S)))\n",
    "    S_lst = list(S)\n",
    "\n",
    "    for i, alphabet in enumerate(S_criteria):\n",
    "        index = [i for i, word in enumerate(S_lst) if word == alphabet]\n",
    "\n",
    "        if len(index) == 1:\n",
    "            continue\n",
    "\n",
    "        else:\n",
    "            diff = index[-1] - index[0]\n",
    "            diff = diff / (len(index) - 1)\n",
    "\n",
    "            if diff == 1:\n",
    "                continue\n",
    "\n",
    "            else:\n",
    "                return 0\n",
    "    return 1\n",
    "\n",
    "\n",
    "count = 0\n",
    "\n",
    "for i in range(N):\n",
    "    word_identification = identify_group_word(lst[i])\n",
    "    count += word_identification\n",
    "\n",
    "print(count)"
   ]
  },
  {
   "cell_type": "code",
   "execution_count": 48,
   "id": "3494dcba",
   "metadata": {
    "scrolled": true
   },
   "outputs": [
    {
     "name": "stdout",
     "output_type": "stream",
     "text": [
      "BruteForce 3.0 F\n",
      "BruteForce 3.0 F\n",
      "BruteForce 3.0 F\n",
      "BruteForce 3.0 F\n",
      "BruteForce 3.0 F\n",
      "BruteForce 3.0 F\n",
      "BruteForce 3.0 F\n",
      "BruteForce 3.0 F\n",
      "BruteForce 3.0 F\n",
      "BruteForce 3.0 F\n",
      "BruteForce 3.0 F\n",
      "BruteForce 3.0 F\n",
      "BruteForce 3.0 F\n",
      "BruteForce 3.0 F\n",
      "BruteForce 3.0 F\n",
      "BruteForce 3.0 F\n",
      "BruteForce 3.0 F\n",
      "BruteForce 3.0 F\n",
      "BruteForce 3.0 F\n",
      "BruteForce 3.0 F\n",
      "0.000000\n"
     ]
    }
   ],
   "source": [
    "# 25206\n",
    "'''import pandas as pd\n",
    "grade=['A+','A0','B+','B0','C+','C0','D+','D0','F']\n",
    "score=[4.5,4.0,3.5,3.0,2.5,2.0,1.5,1.0,0.0]\n",
    "\n",
    "data = {'Grade': grade, 'Score': score}\n",
    "df = pd.DataFrame(data)\n",
    "df.set_index('Grade', inplace=True)\n",
    "\n",
    "total_sum=0\n",
    "b_sum=0\n",
    "for i in range(20):\n",
    "    a,b,c=input().split()\n",
    "    if c=='P':\n",
    "        continue\n",
    "    s=int(df.loc[c,'Score'])\n",
    "    total_sum+=s*float(b)\n",
    "    b_sum+=float(b)\n",
    "    \n",
    "avg=total_sum/b_sum\n",
    "\n",
    "print('%.6f' % avg)'''\n",
    "\n",
    "rating = ['A+', 'A0', 'B+', 'B0', 'C+', 'C0', 'D+', 'D0', 'F']\n",
    "grade = [4.5, 4.0, 3.5, 3.0, 2.5, 2.0, 1.5, 1.0, 0]\n",
    "\n",
    "total = 0  # 학점 총합을 담을 변수\n",
    "result = 0  # (학점 * 과목평점) 총합을 담을 변수\n",
    "for _ in range(20):\n",
    "    s, p, g = input().split()\n",
    "    p = float(p)\n",
    "    if g != 'P':  # 등급이 P인 과목은 계산 안함\n",
    "        total += p\n",
    "        result += p * grade[rating.index(g)]\n",
    "\n",
    "print('%.6f' % (result / total))"
   ]
  },
  {
   "cell_type": "markdown",
   "id": "c0c86ada",
   "metadata": {},
   "source": [
    "# 2차원 배열"
   ]
  },
  {
   "cell_type": "code",
   "execution_count": 76,
   "id": "6b7503c1",
   "metadata": {},
   "outputs": [
    {
     "name": "stdout",
     "output_type": "stream",
     "text": [
      "3 3\n",
      "1 1 1\n",
      "2 2 2\n",
      "0 1 0\n",
      "3 3 3\n",
      "4 4 4\n",
      "5 5 100\n",
      "4 4 4 \n",
      "6 6 6 \n",
      "5 6 100 \n"
     ]
    }
   ],
   "source": [
    "# 2738\n",
    "N, M = map(int, input().split())\n",
    "\n",
    "A = []\n",
    "B = []\n",
    "\n",
    "for i in range(N):\n",
    "    A.append(list(map(int, input().split())))\n",
    "\n",
    "for i in range(N):\n",
    "    B.append(list(map(int, input().split())))\n",
    "\n",
    "for i in range(N):\n",
    "    for j in range(M):\n",
    "        result = A[i][j] + B[i][j]\n",
    "        print(result, end=' ')\n",
    "    print()"
   ]
  },
  {
   "cell_type": "code",
   "execution_count": 19,
   "id": "31258327",
   "metadata": {},
   "outputs": [
    {
     "name": "stdout",
     "output_type": "stream",
     "text": [
      "1 2\n",
      "11 14\n",
      "14\n",
      "2 2\n"
     ]
    }
   ],
   "source": [
    "# 2566\n",
    "matrix = [list(map(int, input().split())) for _ in range(9)]\n",
    "\n",
    "max_col = 0\n",
    "max_row = 0\n",
    "for i in range(9):\n",
    "    for j in range(9):\n",
    "        if matrix[i][j] > matrix[max_row][max_col]:\n",
    "            max_col = j\n",
    "            max_row = i\n",
    "\n",
    "print(matrix[max_row][max_col])\n",
    "print(max_row + 1, max_col + 1)"
   ]
  },
  {
   "cell_type": "code",
   "execution_count": 42,
   "id": "3eb9ddd4",
   "metadata": {},
   "outputs": [
    {
     "name": "stdout",
     "output_type": "stream",
     "text": [
      "aabcdd\n",
      "afzz\n",
      "09121\n",
      "a8ewg6\n",
      "P5h3kx\n",
      "aa0aPaf985bz1ehcz2w3d1gkd6x"
     ]
    }
   ],
   "source": [
    "# 10798\n",
    "matrix = [list(input()) for _ in range(5)]\n",
    "matrix_T = [[] for _ in range(15)]\n",
    "\n",
    "for i in range(5):\n",
    "    for j in range(len(matrix[i])):\n",
    "        matrix_T[j].append(matrix[i][j])\n",
    "\n",
    "matrix_T = [p for sublist in matrix_T for p in sublist]\n",
    "\n",
    "for i in matrix_T:\n",
    "    print(i, end='')"
   ]
  },
  {
   "cell_type": "code",
   "execution_count": 47,
   "id": "de9fc73c",
   "metadata": {},
   "outputs": [
    {
     "name": "stdout",
     "output_type": "stream",
     "text": [
      "3\n",
      "3 7\n",
      "15 7\n",
      "5 2\n",
      "260\n"
     ]
    }
   ],
   "source": [
    "# 2563\n",
    "N = int(input())\n",
    "\n",
    "table = [[0 for _ in range(100)] for _ in range(100)]\n",
    "\n",
    "for i in range(N):\n",
    "    a, b = map(int, input().split())\n",
    "    for j in range(a, a + 10):\n",
    "        for k in range(b, b + 10):\n",
    "            table[j][k] = 1\n",
    "\n",
    "table = [p for sublist in table for p in sublist]\n",
    "\n",
    "table_sum = sum(table)\n",
    "\n",
    "print(table_sum)"
   ]
  },
  {
   "cell_type": "markdown",
   "id": "dbed9932",
   "metadata": {},
   "source": [
    "# 일반 수학 1"
   ]
  },
  {
   "cell_type": "code",
   "execution_count": 71,
   "id": "ba4d9503",
   "metadata": {},
   "outputs": [
    {
     "name": "stdout",
     "output_type": "stream",
     "text": [
      "ZZZZZ 36\n",
      "60466175\n"
     ]
    }
   ],
   "source": [
    "# 2745\n",
    "N, B = input().split()\n",
    "ary = \"0123456789ABCDEFGHIJKLMNOPQRSTUVWXYZ\"\n",
    "\n",
    "N = N[::-1]\n",
    "total = 0\n",
    "\n",
    "for i, n in enumerate(N):\n",
    "    total += (int(B) ** i) * (ary.index(n))\n",
    "print(total)"
   ]
  },
  {
   "cell_type": "code",
   "execution_count": 76,
   "id": "2a6207b1",
   "metadata": {},
   "outputs": [
    {
     "name": "stdout",
     "output_type": "stream",
     "text": [
      "60466175 36\n",
      "ZZZZZ\n"
     ]
    }
   ],
   "source": [
    "# 11005\n",
    "N, B = map(int, input().split())\n",
    "s = ''\n",
    "arr = \"0123456789ABCDEFGHIJKLMNOPQRSTUVWXYZ\"\n",
    "\n",
    "while N:\n",
    "    s += str(arr[N % B])\n",
    "    N //= B\n",
    "\n",
    "print(s[::-1])"
   ]
  },
  {
   "cell_type": "code",
   "execution_count": 83,
   "id": "c95c0766",
   "metadata": {},
   "outputs": [
    {
     "name": "stdout",
     "output_type": "stream",
     "text": [
      "3\n",
      "124\n",
      "4 2 0 4\n",
      "25\n",
      "1 0 0 0\n",
      "194\n",
      "7 1 1 4\n"
     ]
    }
   ],
   "source": [
    "# 2720\n",
    "T = int(input())\n",
    "for i in range(T):\n",
    "    C = int(input())\n",
    "\n",
    "    Q = C // 25\n",
    "    C %= 25\n",
    "\n",
    "    D = C // 10\n",
    "    C %= 10\n",
    "\n",
    "    N = C // 5\n",
    "    C %= 5\n",
    "\n",
    "    P = C\n",
    "\n",
    "    print(Q, D, N, P)"
   ]
  },
  {
   "cell_type": "code",
   "execution_count": 2,
   "id": "d153b872",
   "metadata": {},
   "outputs": [
    {
     "name": "stdout",
     "output_type": "stream",
     "text": [
      "1\n",
      "3\n"
     ]
    }
   ],
   "source": [
    "# 2903\n",
    "import math\n",
    "\n",
    "N = int(input())\n",
    "one_side = 2 ** (N) + 1\n",
    "print("
   ]
  },
  {
   "cell_type": "code",
   "execution_count": 59,
   "id": "fd5943a3",
   "metadata": {
    "scrolled": true
   },
   "outputs": [
    {
     "name": "stdout",
     "output_type": "stream",
     "text": [
      "58\n",
      "5\n"
     ]
    }
   ],
   "source": [
    "# 2292\n",
    "    N=int(input())\n",
    "\n",
    "n = 1\n",
    "while n:\n",
    "    if N == 1:\n",
    "        N = 1\n",
    "        n = 0\n",
    "\n",
    "    elif 3 * (n ** 2) + 3 * n + 1 < N:\n",
    "        n += 1\n",
    "\n",
    "    else:\n",
    "        N = n + 1\n",
    "        n = 0\n",
    "\n",
    "print(N)"
   ]
  },
  {
   "cell_type": "code",
   "execution_count": 80,
   "id": "0c71142f",
   "metadata": {},
   "outputs": [
    {
     "name": "stdout",
     "output_type": "stream",
     "text": [
      "7\n",
      "1/4\n"
     ]
    }
   ],
   "source": [
    "# 1193\n",
    "N = int(input())\n",
    "\n",
    "n = 0\n",
    "while True:\n",
    "    if ((1 + n) * n / 2) < N:\n",
    "        n += 1\n",
    "\n",
    "    else:\n",
    "        break\n",
    "\n",
    "N = N - (((n - 1) * n) / 2) - 1\n",
    "\n",
    "if n % 2 != 0:\n",
    "    N = n - N - 1\n",
    "\n",
    "print(f'{int(N + 1)}/{int(n - N)}')"
   ]
  },
  {
   "cell_type": "code",
   "execution_count": 134,
   "id": "d44ad97b",
   "metadata": {},
   "outputs": [
    {
     "name": "stdout",
     "output_type": "stream",
     "text": [
      "2 1 5\n",
      "4\n"
     ]
    }
   ],
   "source": [
    "# 2869\n",
    "import math\n",
    "\n",
    "A, B, V = map(int, input().split())\n",
    "day = math.ceil((V - A) / (A - B)) + 1\n",
    "print(day)"
   ]
  },
  {
   "cell_type": "markdown",
   "id": "15dee885",
   "metadata": {},
   "source": [
    "# 약수, 배수와 소수"
   ]
  },
  {
   "cell_type": "code",
   "execution_count": 13,
   "id": "2d8696a2",
   "metadata": {},
   "outputs": [
    {
     "name": "stdout",
     "output_type": "stream",
     "text": [
      "10 5\n",
      "multiple\n",
      "0 0\n"
     ]
    }
   ],
   "source": [
    "# 5086\n",
    "c = True\n",
    "while c:\n",
    "    A, B = map(int, input().split())\n",
    "\n",
    "    if B == 0 and A == 0:\n",
    "        c = False\n",
    "\n",
    "    elif B // A != 0 and B % A == 0:\n",
    "        print('factor')\n",
    "\n",
    "    elif B // A == 0 and A % B == 0:\n",
    "        print('multiple')\n",
    "\n",
    "    else:\n",
    "        print('neither')"
   ]
  },
  {
   "cell_type": "code",
   "execution_count": 29,
   "id": "6a1a78bc",
   "metadata": {},
   "outputs": [
    {
     "name": "stdout",
     "output_type": "stream",
     "text": [
      "5 2\n",
      "[1, 5]\n",
      "5\n"
     ]
    }
   ],
   "source": [
    "# 2501\n",
    "N, K = map(int, input().split())\n",
    "\n",
    "lst = []\n",
    "for s in range(1, N + 1):\n",
    "    if N % s == 0:\n",
    "        lst.append(s)\n",
    "\n",
    "if K > len(lst):\n",
    "    print(0)\n",
    "\n",
    "else:\n",
    "    print(lst[K - 1])"
   ]
  },
  {
   "cell_type": "code",
   "execution_count": 39,
   "id": "75311402",
   "metadata": {},
   "outputs": [
    {
     "name": "stdout",
     "output_type": "stream",
     "text": [
      "6\n",
      "6 = 1 + 2 + 3\n",
      "12\n",
      "12 is NOT perfect.\n",
      "-1\n"
     ]
    }
   ],
   "source": [
    "# 9506\n",
    "while True:\n",
    "    N = int(input())\n",
    "\n",
    "    if N == -1:\n",
    "        break\n",
    "\n",
    "    lst = []\n",
    "    for s in range(1, N + 1):\n",
    "        if N % s == 0:\n",
    "            lst.append(s)\n",
    "\n",
    "    lst.remove(lst[-1])\n",
    "\n",
    "    if N == sum(lst):\n",
    "        print(N, \"=\", end=\" \")\n",
    "        print(*lst, sep=\" + \")\n",
    "\n",
    "    else:\n",
    "        print(str(N) + ' is NOT perfect.')"
   ]
  },
  {
   "cell_type": "code",
   "execution_count": 63,
   "id": "41d1aa11",
   "metadata": {},
   "outputs": [
    {
     "name": "stdout",
     "output_type": "stream",
     "text": [
      "4\n",
      "1 3 5 7\n",
      "3\n"
     ]
    }
   ],
   "source": [
    "# 1978\n",
    "N = int(input())\n",
    "input_line = input()\n",
    "numbers = [int(num) for num in input_line.split()]\n",
    "\n",
    "lst = [_ for _ in range(1, 1001)]\n",
    "for i in range(2, 1001):\n",
    "    t = 1000 // i\n",
    "    for j in range(2, t + 1):\n",
    "        if i * j not in lst:\n",
    "            continue\n",
    "        else:\n",
    "            lst.remove(i * j)\n",
    "\n",
    "lst.remove(1)\n",
    "\n",
    "s = 0\n",
    "for k in range(len(numbers)):\n",
    "    if numbers[k] in lst:\n",
    "        s += 1\n",
    "print(s)"
   ]
  },
  {
   "cell_type": "markdown",
   "source": [
    "# 오늘날짜 "
   ],
   "metadata": {
    "collapsed": false
   },
   "id": "1bee61000557556e"
  },
  {
   "cell_type": "code",
   "outputs": [
    {
     "name": "stdout",
     "output_type": "stream",
     "text": [
      "2024-06-30\n"
     ]
    }
   ],
   "source": [
    "import datetime\n",
    "\n",
    "year = datetime.datetime.now().year\n",
    "month = datetime.datetime.now().month\n",
    "day = datetime.datetime.now().day\n",
    "print(f'{year}-{month:02d}-{day:02d}')"
   ],
   "metadata": {
    "collapsed": false,
    "ExecuteTime": {
     "end_time": "2024-06-30T13:27:55.460608700Z",
     "start_time": "2024-06-30T13:27:55.444225400Z"
    }
   },
   "id": "9158d3db05820532",
   "execution_count": 8
  },
  {
   "cell_type": "markdown",
   "source": [
    "# 사파리월드"
   ],
   "metadata": {
    "collapsed": false
   },
   "id": "e1bbee69c30d8bb0"
  },
  {
   "cell_type": "code",
   "outputs": [
    {
     "name": "stdout",
     "output_type": "stream",
     "text": [
      "7\n"
     ]
    }
   ],
   "source": [
    "a, b = map(int, input().split(' '))\n",
    "print(abs(a - b))"
   ],
   "metadata": {
    "collapsed": false,
    "ExecuteTime": {
     "end_time": "2024-07-01T05:13:53.620516600Z",
     "start_time": "2024-07-01T05:13:51.447788200Z"
    }
   },
   "id": "6b4717068076a54",
   "execution_count": 9
  },
  {
   "cell_type": "markdown",
   "source": [
    "# 반복"
   ],
   "metadata": {
    "collapsed": false
   },
   "id": "f6a29b64ab97691a"
  },
  {
   "cell_type": "code",
   "outputs": [
    {
     "name": "stdout",
     "output_type": "stream",
     "text": [
      "1\n"
     ]
    }
   ],
   "source": [
    "a = int(input())\n",
    "t = 1\n",
    "for i in range(1, a + 1):\n",
    "    t *= i\n",
    "print(t)"
   ],
   "metadata": {
    "collapsed": false,
    "ExecuteTime": {
     "end_time": "2024-07-01T05:17:39.384377700Z",
     "start_time": "2024-07-01T05:17:37.827065700Z"
    }
   },
   "id": "b4b274fcb45c50a",
   "execution_count": 11
  },
  {
   "cell_type": "markdown",
   "source": [
    "# 학점계산"
   ],
   "metadata": {
    "collapsed": false
   },
   "id": "5ed68a54cea2aeb"
  },
  {
   "cell_type": "code",
   "outputs": [
    {
     "name": "stdout",
     "output_type": "stream",
     "text": [
      "4.0\n"
     ]
    }
   ],
   "source": [
    "score_map = {'A+': 4.3,\n",
    "             'A0': 4.0,\n",
    "             'A-': 3.7,\n",
    "             'B+': 3.3,\n",
    "             'B0': 3.0,\n",
    "             'B-': 2.7,\n",
    "             'C+': 2.3,\n",
    "             'C0': 2.0,\n",
    "             'C-': 1.7,\n",
    "             'D+': 1.3,\n",
    "             'D0': 1.0,\n",
    "             'D-': 0.7,\n",
    "             'F': 0.0\n",
    "             }\n",
    "\n",
    "a = input()\n",
    "if a in score_map.keys():\n",
    "    print(score_map[a])"
   ],
   "metadata": {
    "collapsed": false,
    "ExecuteTime": {
     "end_time": "2024-07-01T05:22:51.309614500Z",
     "start_time": "2024-07-01T05:22:44.545171500Z"
    }
   },
   "id": "615b43ff83ea8892",
   "execution_count": 12
  },
  {
   "cell_type": "markdown",
   "source": [
    "# 대소문자 바꾸기"
   ],
   "metadata": {
    "collapsed": false
   },
   "id": "8c906b7d9226434c"
  },
  {
   "cell_type": "code",
   "outputs": [
    {
     "name": "stdout",
     "output_type": "stream",
     "text": [
      "DFGfdd\n"
     ]
    }
   ],
   "source": [
    "a = input()\n",
    "modified_a = \"\"\n",
    "\n",
    "for i in a:\n",
    "    if i.islower():\n",
    "        modified_a += i.upper()\n",
    "    else:\n",
    "        modified_a += i.lower()\n",
    "\n",
    "print(modified_a)"
   ],
   "metadata": {
    "collapsed": false,
    "ExecuteTime": {
     "end_time": "2024-07-01T05:27:08.771700100Z",
     "start_time": "2024-07-01T05:27:03.974457600Z"
    }
   },
   "id": "41a864a480994abf",
   "execution_count": 14
  },
  {
   "cell_type": "markdown",
   "source": [
    "# 이상한 기호"
   ],
   "metadata": {
    "collapsed": false
   },
   "id": "f7515f7989f664d1"
  },
  {
   "cell_type": "code",
   "outputs": [
    {
     "name": "stdout",
     "output_type": "stream",
     "text": [
      "-7\n"
     ]
    }
   ],
   "source": [
    "a, b = map(int, input().split(' '))\n",
    "answer = (a + b) * (a - b)\n",
    "print(answer)"
   ],
   "metadata": {
    "collapsed": false,
    "ExecuteTime": {
     "end_time": "2024-07-01T05:30:19.570792500Z",
     "start_time": "2024-07-01T05:30:18.555667500Z"
    }
   },
   "id": "37be9726931a40a",
   "execution_count": 17
  },
  {
   "cell_type": "markdown",
   "source": [
    "# 검증수"
   ],
   "metadata": {
    "collapsed": false
   },
   "id": "4807638a519e8c"
  },
  {
   "cell_type": "code",
   "outputs": [
    {
     "name": "stdout",
     "output_type": "stream",
     "text": [
      "1\n"
     ]
    }
   ],
   "source": [
    "a, b, c, d, e = map(int, input().split(' '))\n",
    "\n",
    "R = (a ** 2 + b ** 2 + c ** 2 + d ** 2 + e ** 2) % 10\n",
    "print(R)"
   ],
   "metadata": {
    "collapsed": false,
    "ExecuteTime": {
     "end_time": "2024-07-01T05:36:58.744724700Z",
     "start_time": "2024-07-01T05:36:53.242882700Z"
    }
   },
   "id": "cc133c2cbeb5e5cd",
   "execution_count": 19
  },
  {
   "cell_type": "markdown",
   "source": [
    "# 숫자의 개수"
   ],
   "metadata": {
    "collapsed": false
   },
   "id": "d3aa5808edfa3ae2"
  },
  {
   "cell_type": "code",
   "outputs": [
    {
     "name": "stdout",
     "output_type": "stream",
     "text": [
      "3\n",
      "1\n",
      "0\n",
      "2\n",
      "0\n",
      "0\n",
      "0\n",
      "2\n",
      "0\n",
      "0\n"
     ]
    }
   ],
   "source": [
    "a = int(input())\n",
    "b = int(input())\n",
    "c = int(input())\n",
    "\n",
    "s = list(str(a * b * c))\n",
    "\n",
    "for i in range(10):\n",
    "    print(s.count(str(i)))"
   ],
   "metadata": {
    "collapsed": false,
    "ExecuteTime": {
     "end_time": "2024-07-01T05:46:02.115585500Z",
     "start_time": "2024-07-01T05:45:57.143382400Z"
    }
   },
   "id": "8c620cc3063bcdab",
   "execution_count": 23
  },
  {
   "cell_type": "markdown",
   "source": [
    "# 음계"
   ],
   "metadata": {
    "collapsed": false
   },
   "id": "7f02d2a1791c7492"
  },
  {
   "cell_type": "code",
   "outputs": [
    {
     "name": "stdout",
     "output_type": "stream",
     "text": [
      "[1, 2, 5, 4, 5, 7, 8, 9]\n",
      "mixed\n"
     ]
    }
   ],
   "source": [
    "a = list(map(int, input().split(' ')))\n",
    "if a == sorted(a):\n",
    "    print('ascending')\n",
    "\n",
    "elif a == sorted(a, reverse=True):\n",
    "    print('descending')\n",
    "\n",
    "else:\n",
    "    print('mixed')"
   ],
   "metadata": {
    "collapsed": false,
    "ExecuteTime": {
     "end_time": "2024-07-01T06:04:57.501690100Z",
     "start_time": "2024-07-01T06:04:49.871791900Z"
    }
   },
   "id": "84c8cf4afbe6fa1d",
   "execution_count": 38
  },
  {
   "cell_type": "markdown",
   "source": [
    "# OX퀴즈"
   ],
   "metadata": {
    "collapsed": false
   },
   "id": "cc043e77bda514e5"
  },
  {
   "cell_type": "code",
   "outputs": [],
   "source": [
    "f = int(input())\n",
    "final_list = []\n",
    "for _ in range(f):\n",
    "    a = str(input())\n",
    "    total_score = 0\n",
    "    temp_score = 0\n",
    "    for i in a:\n",
    "\n",
    "        if i == 'O':\n",
    "            temp_score += 1\n",
    "            total_score += temp_score\n",
    "\n",
    "        elif i == 'X':\n",
    "            temp_score = 0\n",
    "            total_score += temp_score\n",
    "\n",
    "    final_list.append(total_score)\n",
    "\n",
    "for i in range(len(final_list)):\n",
    "    print(final_list[i])"
   ],
   "metadata": {
    "collapsed": false,
    "ExecuteTime": {
     "end_time": "2024-07-01T06:19:35.802547100Z",
     "start_time": "2024-07-01T06:18:45.754776600Z"
    }
   },
   "id": "7cbdf327e7e7030c",
   "execution_count": 39
  },
  {
   "cell_type": "markdown",
   "source": [
    "# ACM 호텔"
   ],
   "metadata": {
    "collapsed": false
   },
   "id": "3e02bdd7edad2a93"
  },
  {
   "cell_type": "code",
   "outputs": [
    {
     "name": "stdout",
     "output_type": "stream",
     "text": [
      "402\n",
      "1203\n"
     ]
    }
   ],
   "source": [
    "f = int(input())\n",
    "final_list = []\n",
    "\n",
    "for _ in range(f):\n",
    "    H, W, N = map(int, input().split())\n",
    "\n",
    "    # Calculate the floor number and the room number\n",
    "    floor = (N - 1) % H + 1  # Calculate floor number\n",
    "    room = (N - 1) // H + 1  # Calculate room number on that floor\n",
    "\n",
    "    # Format room number with leading zero if needed\n",
    "    room_number = f'{floor}{room:02d}'\n",
    "\n",
    "    final_list.append(room_number)\n",
    "\n",
    "# Print all room numbers\n",
    "for room_number in final_list:\n",
    "    print(room_number)"
   ],
   "metadata": {
    "collapsed": false,
    "ExecuteTime": {
     "end_time": "2024-07-01T07:04:28.444329100Z",
     "start_time": "2024-07-01T07:04:19.293170700Z"
    }
   },
   "id": "c403ee6f14116500",
   "execution_count": 51
  },
  {
   "cell_type": "markdown",
   "source": [
    "# A + B - C"
   ],
   "metadata": {
    "collapsed": false
   },
   "id": "672e077b0fa708f2"
  },
  {
   "cell_type": "code",
   "outputs": [
    {
     "name": "stdout",
     "output_type": "stream",
     "text": [
      "2\n",
      "29\n"
     ]
    }
   ],
   "source": [
    "a = input()\n",
    "b = input()\n",
    "c = input()\n",
    "\n",
    "print(int(a) + int(b) - int(c))\n",
    "print(int(str(a) + str(b)) - int(c))"
   ],
   "metadata": {
    "collapsed": false,
    "ExecuteTime": {
     "end_time": "2024-07-01T07:10:30.021461700Z",
     "start_time": "2024-07-01T07:10:25.807852300Z"
    }
   },
   "id": "7471d4a6a4586aba",
   "execution_count": 52
  },
  {
   "cell_type": "markdown",
   "source": [
    "# 팰린드롬수"
   ],
   "metadata": {
    "collapsed": false
   },
   "id": "27bff83de3b72780"
  },
  {
   "cell_type": "code",
   "outputs": [
    {
     "name": "stdout",
     "output_type": "stream",
     "text": [
      "yes\n",
      "no\n",
      "yes\n"
     ]
    }
   ],
   "source": [
    "answer_lst = []\n",
    "a = 1\n",
    "while a != 0:\n",
    "    a = int(input())\n",
    "\n",
    "    t = 0\n",
    "    for i, num in enumerate(str(a)):\n",
    "        if num == str(a)[len(str(a)) - i - 1]:\n",
    "            continue\n",
    "        else:\n",
    "            t = 1\n",
    "            break\n",
    "    if (t == 0) & (a != 0):\n",
    "        answer_lst.append('yes')\n",
    "\n",
    "    elif (t == 1) & (a != 0):\n",
    "        answer_lst.append('no')\n",
    "\n",
    "print('\\n'.join(f'{p}' for p in answer_lst))"
   ],
   "metadata": {
    "collapsed": false,
    "ExecuteTime": {
     "end_time": "2024-07-01T13:17:25.984182Z",
     "start_time": "2024-07-01T13:17:20.698600900Z"
    }
   },
   "id": "6830df3927c5cd61",
   "execution_count": 73
  },
  {
   "cell_type": "markdown",
   "source": [
    "# FizzBuzz"
   ],
   "metadata": {
    "collapsed": false
   },
   "id": "ff4eaebbb61a94a5"
  },
  {
   "cell_type": "code",
   "outputs": [
    {
     "name": "stdout",
     "output_type": "stream",
     "text": [
      "Fizz\n"
     ]
    }
   ],
   "source": [
    "ans = 0\n",
    "\n",
    "for i in range(3):\n",
    "    try:\n",
    "        a = int(input())\n",
    "    except ValueError:\n",
    "        continue\n",
    "\n",
    "    if isinstance(a, int):\n",
    "        if i == 0:\n",
    "            ans = a + 3\n",
    "        elif i == 1:\n",
    "            ans = a + 2\n",
    "        elif i == 2:\n",
    "            ans = a + 1\n",
    "\n",
    "\n",
    "def FizzBuzz(ans):\n",
    "    if (ans % 3 == 0) & (ans % 5 == 0):\n",
    "        print('FizzBuzz')\n",
    "\n",
    "    elif (ans % 3 == 0) & (ans % 5 != 0):\n",
    "        print('Fizz')\n",
    "\n",
    "    elif (ans % 3 != 0) & (ans % 5 == 0):\n",
    "        print('Buzz')\n",
    "    else:\n",
    "        print(str(ans))\n",
    "\n",
    "\n",
    "FizzBuzz(ans)"
   ],
   "metadata": {
    "collapsed": false,
    "ExecuteTime": {
     "end_time": "2024-07-01T13:51:40.962995800Z",
     "start_time": "2024-07-01T13:51:36.762954800Z"
    }
   },
   "id": "47552f5ba9fb6392",
   "execution_count": 99
  },
  {
   "cell_type": "markdown",
   "source": [
    "# 수 정렬하기 3"
   ],
   "metadata": {
    "collapsed": false
   },
   "id": "69f704bee37f24ab"
  },
  {
   "cell_type": "code",
   "outputs": [
    {
     "name": "stdout",
     "output_type": "stream",
     "text": [
      "1\n",
      "1\n",
      "2\n",
      "2\n",
      "3\n",
      "3\n",
      "4\n",
      "5\n",
      "5\n",
      "7\n"
     ]
    }
   ],
   "source": [
    "import sys\n",
    "\n",
    "input = sys.stdin.readline\n",
    "\n",
    "num = int(input())\n",
    "arr = [0] * 10000\n",
    "\n",
    "for i in range(num):\n",
    "    a = int(input())\n",
    "    arr[a - 1] += 1\n",
    "\n",
    "for i in range(10000):\n",
    "    if arr[i] != 0:\n",
    "        for j in range(arr[i]):\n",
    "            print(i + 1)"
   ],
   "metadata": {
    "collapsed": false,
    "ExecuteTime": {
     "end_time": "2024-07-01T14:06:55.978836100Z",
     "start_time": "2024-07-01T14:06:35.014295800Z"
    }
   },
   "id": "9a7114c2e634a1ed",
   "execution_count": 1
  },
  {
   "cell_type": "markdown",
   "source": [
    "# 최대공약수와 최소공배수"
   ],
   "metadata": {
    "collapsed": false
   },
   "id": "e644dff2224c9963"
  },
  {
   "cell_type": "code",
   "outputs": [
    {
     "name": "stdout",
     "output_type": "stream",
     "text": [
      "6\n",
      "72\n"
     ]
    }
   ],
   "source": [
    "import math\n",
    "\n",
    "# 입력 받기\n",
    "a, b = map(int, input().split(' '))\n",
    "\n",
    "# 최대공약수 구하기\n",
    "gcd_value = math.gcd(a, b)\n",
    "\n",
    "# 최소공배수 구하기\n",
    "lcm_value = (a * b) // gcd_value\n",
    "\n",
    "# 결과 출력\n",
    "print(gcd_value)\n",
    "print(lcm_value)"
   ],
   "metadata": {
    "collapsed": false,
    "ExecuteTime": {
     "end_time": "2024-07-02T12:39:14.546554300Z",
     "start_time": "2024-07-02T12:39:05.983033200Z"
    }
   },
   "id": "534994cc623635f3",
   "execution_count": 1
  },
  {
   "cell_type": "markdown",
   "source": [
    "# 분해합"
   ],
   "metadata": {
    "collapsed": false
   },
   "id": "8e6347ccd644bb01"
  },
  {
   "cell_type": "code",
   "outputs": [
    {
     "name": "stdout",
     "output_type": "stream",
     "text": [
      "198\n"
     ]
    }
   ],
   "source": [
    "def find_constructor(a):\n",
    "    a = int(a)\n",
    "    start = max(1, a - 9 * len(str(a)))  # 생성자 후보 시작점 설정\n",
    "    for b in range(start, a):\n",
    "        N = sum(int(digit) for digit in str(b))  # 각 자릿수의 합 계산\n",
    "        if b + N == a:\n",
    "            return b\n",
    "    return 0  # 생성자가 없을 경우 0 반환\n",
    "\n",
    "\n",
    "# 입력값 처리\n",
    "a = input().strip()\n",
    "print(find_constructor(a))"
   ],
   "metadata": {
    "collapsed": false,
    "ExecuteTime": {
     "end_time": "2024-07-02T13:15:04.431787Z",
     "start_time": "2024-07-02T13:15:02.751514700Z"
    }
   },
   "id": "8717edf5f335c5fd",
   "execution_count": 36
  },
  {
   "cell_type": "markdown",
   "source": [
    "# 부녀회장이 될테야"
   ],
   "metadata": {
    "collapsed": false
   },
   "id": "6f10a46ea9e8d96b"
  },
  {
   "cell_type": "code",
   "outputs": [
    {
     "name": "stdout",
     "output_type": "stream",
     "text": [
      "6\n",
      "10\n"
     ]
    }
   ],
   "source": [
    "def build_apartment(K: int, N: int) -> list:\n",
    "    '''\n",
    "    :param K: floor\n",
    "    :param N: room number\n",
    "    :return: apartment list\n",
    "    '''\n",
    "    apartment_lst = [[] for j in range(K + 1)]\n",
    "    for j in range(K + 1):\n",
    "        for k in range(N):\n",
    "            if j == 0:\n",
    "                apartment_lst[j].append(k + 1)\n",
    "            else:\n",
    "                t = sum(apartment_lst[j - 1][:k + 1])\n",
    "                apartment_lst[j].append(t)\n",
    "\n",
    "    return apartment_lst\n",
    "\n",
    "\n",
    "T = int(input())\n",
    "for i in range(T):\n",
    "    K = int(input())\n",
    "    N = int(input())\n",
    "    apartment_lst = build_apartment(K, N)\n",
    "    print(apartment_lst[K][N - 1])"
   ],
   "metadata": {
    "collapsed": false,
    "ExecuteTime": {
     "end_time": "2024-07-03T03:07:45.328593100Z",
     "start_time": "2024-07-03T03:07:41.605155900Z"
    }
   },
   "id": "23f59d2bb22bce96",
   "execution_count": 2
  },
  {
   "cell_type": "markdown",
   "source": [
    "# 블랙잭"
   ],
   "metadata": {
    "collapsed": false
   },
   "id": "b22be532f387c2cf"
  },
  {
   "cell_type": "code",
   "outputs": [],
   "source": [
    "import itertools\n",
    "\n",
    "a, b = map(int, input().split(' '))\n",
    "c = list(map(int, input().split(' ')))\n",
    "c_lst = list(itertools.combinations(c, 3))\n",
    "c_sum_lst = [sum(list(p)) for p in c_lst]\n",
    "\n",
    "best = 0\n",
    "for item in c_sum_lst:\n",
    "    if best < item <= b:\n",
    "        best = item\n",
    "\n",
    "print(best)"
   ],
   "metadata": {
    "collapsed": false,
    "ExecuteTime": {
     "end_time": "2024-07-05T05:34:20.508912300Z",
     "start_time": "2024-07-05T05:34:06.603006400Z"
    }
   },
   "id": "b32a289acdd97c25",
   "execution_count": 14
  },
  {
   "cell_type": "markdown",
   "source": [
    "# 이항계수"
   ],
   "metadata": {
    "collapsed": false
   },
   "id": "fe1afd75821f89b4"
  },
  {
   "cell_type": "code",
   "outputs": [
    {
     "name": "stdout",
     "output_type": "stream",
     "text": [
      "10\n"
     ]
    }
   ],
   "source": [
    "a, b = map(int, input().split(' '))\n",
    "\n",
    "\n",
    "def factorial(num):\n",
    "    a = 1\n",
    "    for i in range(2, num + 1):\n",
    "        a *= i\n",
    "\n",
    "    return a\n",
    "\n",
    "\n",
    "def cal_binomial(a, b):\n",
    "    c = min(b, a - b)\n",
    "    numerator = 1\n",
    "    for i in range(1, c + 1):\n",
    "        numerator *= a - (c - i)\n",
    "    denominator = factorial(c)\n",
    "    return numerator // denominator\n",
    "\n",
    "\n",
    "print(cal_binomial(a, b))"
   ],
   "metadata": {
    "collapsed": false,
    "ExecuteTime": {
     "end_time": "2024-07-05T05:57:46.487184700Z",
     "start_time": "2024-07-05T05:57:45.560272500Z"
    }
   },
   "id": "eab867764ce0516b",
   "execution_count": 71
  },
  {
   "cell_type": "markdown",
   "source": [
    "# 직각삼각형"
   ],
   "metadata": {
    "collapsed": false
   },
   "id": "94a20d7f31d70cd"
  },
  {
   "cell_type": "code",
   "outputs": [
    {
     "name": "stdout",
     "output_type": "stream",
     "text": [
      "right\n",
      "wrong\n",
      "right\n"
     ]
    }
   ],
   "source": [
    "execute = True\n",
    "while execute:\n",
    "    len_lst = list(map(int, input().split(' ')))\n",
    "\n",
    "    if sum(len_lst) == 0:\n",
    "        execute = False\n",
    "        break\n",
    "\n",
    "    Hypotenuse = max(len_lst)\n",
    "\n",
    "    len_lst.remove(Hypotenuse)\n",
    "\n",
    "    if Hypotenuse ** 2 == len_lst[0] ** 2 + len_lst[1] ** 2:\n",
    "        print('right')\n",
    "\n",
    "    elif Hypotenuse ** 2 != len_lst[0] ** 2 + len_lst[1] ** 2:\n",
    "        print('wrong')"
   ],
   "metadata": {
    "collapsed": false,
    "ExecuteTime": {
     "end_time": "2024-07-05T06:14:21.386762100Z",
     "start_time": "2024-07-05T06:14:02.436751500Z"
    }
   },
   "id": "68847bfed0537a2f",
   "execution_count": 81
  },
  {
   "cell_type": "markdown",
   "source": [
    "# 웰컴 키트"
   ],
   "metadata": {
    "collapsed": false
   },
   "id": "57b928d4ea5010a7"
  },
  {
   "cell_type": "code",
   "outputs": [
    {
     "name": "stdout",
     "output_type": "stream",
     "text": [
      "7\n",
      "3 2\n"
     ]
    }
   ],
   "source": [
    "N = int(input())\n",
    "size_lst = list(map(int, input().split(' ')))\n",
    "T, P = map(int, input().split(' '))\n",
    "\n",
    "order_num_lst = []\n",
    "for item in size_lst:\n",
    "    if item % T == 0:\n",
    "        order_num_lst.append(item // T)\n",
    "    elif item % T > 0:\n",
    "        order_num_lst.append(item // T + 1)\n",
    "\n",
    "print(sum(order_num_lst))\n",
    "print(f'{N // P} {N % P}')"
   ],
   "metadata": {
    "collapsed": false,
    "ExecuteTime": {
     "end_time": "2024-07-05T08:24:24.053942100Z",
     "start_time": "2024-07-05T08:24:12.185280300Z"
    }
   },
   "id": "e7cd7eb0887e8ad1",
   "execution_count": 82
  },
  {
   "cell_type": "markdown",
   "source": [
    "# Hashing"
   ],
   "metadata": {
    "collapsed": false
   },
   "id": "2f199b4ff6d49215"
  },
  {
   "cell_type": "code",
   "outputs": [
    {
     "name": "stdout",
     "output_type": "stream",
     "text": [
      "25818\n"
     ]
    }
   ],
   "source": [
    "r = 31\n",
    "M = 1234567891\n",
    "\n",
    "T = int(input())\n",
    "L = str(input())\n",
    "\n",
    "result = 0\n",
    "for i, alphabet in enumerate(L):\n",
    "    result += (ord(alphabet) - 96) * (r ** i)\n",
    "\n",
    "print(result % M)"
   ],
   "metadata": {
    "collapsed": false,
    "ExecuteTime": {
     "end_time": "2024-07-05T08:46:33.240770300Z",
     "start_time": "2024-07-05T08:46:29.944926400Z"
    }
   },
   "id": "a43b2754a8b93802",
   "execution_count": 114
  },
  {
   "cell_type": "markdown",
   "source": [
    "# 요세푸스 문제0"
   ],
   "metadata": {
    "collapsed": false
   },
   "id": "d079f6e3ab3a2dfc"
  },
  {
   "cell_type": "code",
   "outputs": [
    {
     "name": "stdout",
     "output_type": "stream",
     "text": [
      "<1, 3, 6, 10, 8, 9, 5, 2, 4, 7>\n"
     ]
    }
   ],
   "source": [
    "N, K = map(int, input().split(' '))\n",
    "permutation_lst = [i for i in range(1, N + 1)]\n",
    "yosaeputh_lst = []\n",
    "\n",
    "index = 0\n",
    "\n",
    "while permutation_lst:\n",
    "    index = (index + K - 1) % len(permutation_lst)\n",
    "    yosaeputh_lst.append(permutation_lst.pop(index))\n",
    "\n",
    "print(f\"<{', '.join(map(str, yosaeputh_lst))}>\")"
   ],
   "metadata": {
    "collapsed": false,
    "ExecuteTime": {
     "end_time": "2024-07-05T09:56:18.258058200Z",
     "start_time": "2024-07-05T09:56:15.439702500Z"
    }
   },
   "id": "e54f224f5f7053c7",
   "execution_count": 216
  },
  {
   "cell_type": "markdown",
   "source": [
    "# 수 정렬하기 2"
   ],
   "metadata": {
    "collapsed": false
   },
   "id": "e8476e5f1a218534"
  },
  {
   "cell_type": "code",
   "outputs": [
    {
     "name": "stdout",
     "output_type": "stream",
     "text": [
      "1\n",
      "2\n",
      "3\n",
      "4\n",
      "5\n"
     ]
    }
   ],
   "source": [
    "N = int(input())\n",
    "\n",
    "li = []\n",
    "\n",
    "for i in range(N):\n",
    "    li.append(int(input()))\n",
    "\n",
    "for i in sorted(li):\n",
    "    print(i)"
   ],
   "metadata": {
    "collapsed": false,
    "ExecuteTime": {
     "end_time": "2024-07-06T05:20:32.378242300Z",
     "start_time": "2024-07-06T05:20:28.797233300Z"
    }
   },
   "id": "2eca94c0fd46e256",
   "execution_count": 1
  },
  {
   "cell_type": "markdown",
   "source": [
    "# 좌표 정렬하기"
   ],
   "metadata": {
    "collapsed": false
   },
   "id": "fdd3509fe2269447"
  },
  {
   "cell_type": "code",
   "outputs": [
    {
     "name": "stdout",
     "output_type": "stream",
     "text": [
      "[ 1. -1.]\n",
      "[1. 1.]\n",
      "[2. 2.]\n",
      "[3. 3.]\n",
      "[3. 4.]\n"
     ]
    }
   ],
   "source": [
    "import numpy as np\n",
    "\n",
    "N = int(input())\n",
    "arr = np.empty((0, 2))\n",
    "\n",
    "\n",
    "def add_coordinate(coord_array, new_coord):\n",
    "    return np.vstack([coord_array, new_coord])\n",
    "\n",
    "\n",
    "for i in range(N):\n",
    "    new_arr = np.array(list(map(int, input().split())))\n",
    "    arr = add_coordinate(arr, new_arr)\n",
    "\n",
    "arr.sort(0)\n",
    "\n",
    "for i in arr:\n",
    "    print(i)"
   ],
   "metadata": {
    "collapsed": false,
    "ExecuteTime": {
     "end_time": "2024-07-06T05:30:05.744072100Z",
     "start_time": "2024-07-06T05:29:56.851462700Z"
    }
   },
   "id": "38f011c669e6426a",
   "execution_count": 15
  },
  {
   "cell_type": "code",
   "outputs": [
    {
     "name": "stdout",
     "output_type": "stream",
     "text": [
      "1 -1\n",
      "1 1\n",
      "2 2\n",
      "3 3\n",
      "3 4\n"
     ]
    }
   ],
   "source": [
    "n = int(input())\n",
    "\n",
    "li = []\n",
    "for _ in range(n):\n",
    "    xy = list(map(int, input().split()))\n",
    "    li.append(xy)\n",
    "\n",
    "li.sort()\n",
    "for i in li:\n",
    "    print(i[0], i[1])"
   ],
   "metadata": {
    "collapsed": false,
    "ExecuteTime": {
     "end_time": "2024-07-06T05:32:07.877755900Z",
     "start_time": "2024-07-06T05:32:01.319171Z"
    }
   },
   "id": "eb7c7145d68b0271",
   "execution_count": 17
  },
  {
   "cell_type": "markdown",
   "source": [
    "# 큐"
   ],
   "metadata": {
    "collapsed": false
   },
   "id": "52a57f84a3cd6ed4"
  },
  {
   "cell_type": "code",
   "outputs": [],
   "source": [
    "import sys\n",
    "from collections import deque\n",
    "\n",
    "\n",
    "def execute_order(order, Q_lst):\n",
    "    if order[0] == 'push':\n",
    "        Q_lst.append(int(order[1]))\n",
    "\n",
    "    elif order[0] == 'pop':\n",
    "        try:\n",
    "            print(Q_lst.popleft())\n",
    "        except:\n",
    "            print(-1)\n",
    "\n",
    "    elif order[0] == 'size':\n",
    "        print(len(Q_lst))\n",
    "\n",
    "    elif order[0] == 'empty':\n",
    "        if Q_lst:\n",
    "            print(0)\n",
    "        else:\n",
    "            print(1)\n",
    "\n",
    "    elif order[0] == 'front':\n",
    "        try:\n",
    "            print(Q_lst[0])\n",
    "        except:\n",
    "            print(-1)\n",
    "\n",
    "    elif order[0] == 'back':\n",
    "        try:\n",
    "            print(Q_lst[-1])\n",
    "        except:\n",
    "            print(-1)\n",
    "\n",
    "\n",
    "N = int(input())\n",
    "Q_lst = deque()\n",
    "\n",
    "for i in range(N):\n",
    "    order = sys.stdin.readline().strip().split()\n",
    "    execute_order(order, Q_lst)"
   ],
   "metadata": {
    "collapsed": false,
    "ExecuteTime": {
     "end_time": "2024-07-06T06:03:05.752657200Z",
     "start_time": "2024-07-06T06:02:26.962429500Z"
    }
   },
   "id": "468d0a403c2f5e7e",
   "execution_count": 27
  },
  {
   "cell_type": "markdown",
   "source": [
    "# 스텍"
   ],
   "metadata": {
    "collapsed": false
   },
   "id": "f1120f159693197a"
  },
  {
   "cell_type": "code",
   "outputs": [],
   "source": [
    "import sys\n",
    "from collections import deque\n",
    "\n",
    "\n",
    "def execute_order(order, Q_lst):\n",
    "    if order[0] == 'push':\n",
    "        Q_lst.append(int(order[1]))\n",
    "\n",
    "    elif order[0] == 'pop':\n",
    "        try:\n",
    "            print(Q_lst.pop())\n",
    "        except:\n",
    "            print(-1)\n",
    "\n",
    "    elif order[0] == 'size':\n",
    "        print(len(Q_lst))\n",
    "\n",
    "    elif order[0] == 'empty':\n",
    "        if Q_lst:\n",
    "            print(0)\n",
    "        else:\n",
    "            print(1)\n",
    "\n",
    "    elif order[0] == 'top':\n",
    "        try:\n",
    "            print(Q_lst[-1])\n",
    "        except:\n",
    "            print(-1)\n",
    "\n",
    "\n",
    "N = int(input())\n",
    "stack = []\n",
    "\n",
    "for i in range(N):\n",
    "    order = sys.stdin.readline().strip().split()\n",
    "    execute_order(order, stack)"
   ],
   "metadata": {
    "collapsed": false
   },
   "id": "55ba9b403dde89bf",
   "execution_count": 27
  },
  {
   "cell_type": "markdown",
   "source": [
    "# 괄호"
   ],
   "metadata": {
    "collapsed": false
   },
   "id": "259e8e5f83ca6666"
  },
  {
   "cell_type": "code",
   "outputs": [
    {
     "name": "stdout",
     "output_type": "stream",
     "text": [
      "NO\n"
     ]
    }
   ],
   "source": [
    "def check_VPS(VPS):\n",
    "    count = 0\n",
    "    for char in VPS:\n",
    "        if char == '(':\n",
    "            count += 1\n",
    "        elif char == ')':\n",
    "            count -= 1\n",
    "        if count < 0:\n",
    "            print('NO')\n",
    "            return\n",
    "    if count == 0:\n",
    "        print('YES')\n",
    "    else:\n",
    "        print('NO')\n",
    "\n",
    "\n",
    "N = int(input())\n",
    "\n",
    "for _ in range(N):\n",
    "    VPS = input().strip()\n",
    "    check_VPS(VPS)"
   ],
   "metadata": {
    "collapsed": false,
    "ExecuteTime": {
     "end_time": "2024-07-06T06:59:53.107524300Z",
     "start_time": "2024-07-06T06:59:49.747726700Z"
    }
   },
   "id": "6a153d2faf077f39",
   "execution_count": 57
  },
  {
   "cell_type": "markdown",
   "source": [
    "# 단어정렬"
   ],
   "metadata": {
    "collapsed": false
   },
   "id": "83c001a6a5ac8f1c"
  },
  {
   "cell_type": "code",
   "outputs": [
    {
     "name": "stdout",
     "output_type": "stream",
     "text": [
      "i\n",
      "im\n",
      "it\n",
      "no\n",
      "but\n",
      "more\n",
      "wait\n",
      "wont\n",
      "yours\n",
      "cannot\n",
      "hesitate\n"
     ]
    }
   ],
   "source": [
    "N = int(input())\n",
    "\n",
    "word_lst = []\n",
    "for i in range(N):\n",
    "    word = str(input())\n",
    "    word_lst.append(word)\n",
    "word_lst = list(set(word_lst))\n",
    "\n",
    "li = []\n",
    "for word in word_lst:\n",
    "    word_pair = [len(word), word]\n",
    "    li.append(word_pair)\n",
    "li.sort()\n",
    "\n",
    "for i in li:\n",
    "    print(i[1])"
   ],
   "metadata": {
    "collapsed": false,
    "ExecuteTime": {
     "end_time": "2024-07-06T07:34:02.841082700Z",
     "start_time": "2024-07-06T07:33:38.277742300Z"
    }
   },
   "id": "f061f079558ccb44",
   "execution_count": 81
  },
  {
   "cell_type": "markdown",
   "source": [
    "# 숫자 카드 2"
   ],
   "metadata": {
    "collapsed": false
   },
   "id": "53b93a31484f16"
  },
  {
   "cell_type": "code",
   "outputs": [],
   "source": [
    "from sys import stdin\n",
    "\n",
    "_ = stdin.readline()\n",
    "N_lst = map(int, stdin.readline().split())\n",
    "_ = stdin.readline()\n",
    "M_lst = map(int, stdin.readline().split())\n",
    "hashmap = {}\n",
    "for n in N_lst:\n",
    "    if n in hashmap:\n",
    "        hashmap[n] += 1\n",
    "    else:\n",
    "        hashmap[n] = 1\n",
    "\n",
    "print(' '.join(str(hashmap[m]) if m in hashmap else '0' for m in M_lst))"
   ],
   "metadata": {
    "collapsed": false,
    "ExecuteTime": {
     "end_time": "2024-07-07T05:17:31.358031800Z",
     "start_time": "2024-07-07T05:17:31.331024200Z"
    }
   },
   "id": "2ec4b5fa294b3ee7",
   "execution_count": 13
  },
  {
   "cell_type": "markdown",
   "source": [
    "# 나이순 정렬"
   ],
   "metadata": {
    "collapsed": false
   },
   "id": "52c68282bdba73e4"
  },
  {
   "cell_type": "code",
   "outputs": [
    {
     "name": "stdout",
     "output_type": "stream",
     "text": [
      "20 Sunyoung\n",
      "21 Junkyu\n",
      "21 Dohyun\n"
     ]
    }
   ],
   "source": [
    "N = int(input())\n",
    "\n",
    "info_arr = [[] for _ in range(201)]\n",
    "\n",
    "for _ in range(N):\n",
    "    age, name = input().split()\n",
    "    age = int(age)\n",
    "    info_arr[age].append(name)\n",
    "\n",
    "for age, names in enumerate(info_arr):\n",
    "    for name in names:\n",
    "        print(f'{age} {name}')"
   ],
   "metadata": {
    "collapsed": false,
    "ExecuteTime": {
     "end_time": "2024-07-07T05:30:48.887354900Z",
     "start_time": "2024-07-07T05:30:30.947790300Z"
    }
   },
   "id": "bd3b3c62d060324b",
   "execution_count": 26
  },
  {
   "cell_type": "markdown",
   "source": [
    "# 카드2"
   ],
   "metadata": {
    "collapsed": false
   },
   "id": "d49acf6f26d7790b"
  },
  {
   "cell_type": "code",
   "outputs": [
    {
     "name": "stdout",
     "output_type": "stream",
     "text": [
      "4\n"
     ]
    }
   ],
   "source": [
    "from collections import deque\n",
    "\n",
    "N = int(input())\n",
    "deck = deque(i for i in range(1, N + 1))\n",
    "\n",
    "while len(deck) > 1:\n",
    "    deck.popleft()\n",
    "    deck.append(deck.popleft())\n",
    "\n",
    "print(deck[0])"
   ],
   "metadata": {
    "collapsed": false,
    "ExecuteTime": {
     "end_time": "2024-07-07T06:20:19.145775300Z",
     "start_time": "2024-07-07T06:20:17.388675700Z"
    }
   },
   "id": "303f3090d0609fd3",
   "execution_count": 36
  },
  {
   "cell_type": "markdown",
   "source": [
    "# 수 찾기"
   ],
   "metadata": {
    "collapsed": false
   },
   "id": "2daf28efa34d6322"
  },
  {
   "cell_type": "code",
   "outputs": [
    {
     "name": "stdout",
     "output_type": "stream",
     "text": [
      "1\n",
      "1\n",
      "0\n",
      "0\n",
      "1\n"
     ]
    }
   ],
   "source": [
    "from sys import stdin\n",
    "\n",
    "_ = stdin.readline()\n",
    "N_lst = map(int, stdin.readline().split())\n",
    "_ = stdin.readline()\n",
    "M_lst = map(int, stdin.readline().split())\n",
    "\n",
    "hashmap = {}\n",
    "for n in N_lst:\n",
    "    if n not in hashmap:\n",
    "        hashmap[n] = 1\n",
    "\n",
    "for m in M_lst:\n",
    "    if m in hashmap:\n",
    "        print(1)\n",
    "\n",
    "    else:\n",
    "        print(0)"
   ],
   "metadata": {
    "collapsed": false,
    "ExecuteTime": {
     "end_time": "2024-07-07T06:19:26.670638500Z",
     "start_time": "2024-07-07T06:19:14.359169Z"
    }
   },
   "id": "5d69b1c242d3e657",
   "execution_count": 35
  },
  {
   "cell_type": "markdown",
   "source": [
    "# 체스판 다시 칠하기"
   ],
   "metadata": {
    "collapsed": false
   },
   "id": "b97c9b626b8899a6"
  },
  {
   "cell_type": "code",
   "outputs": [],
   "source": [
    "N, M = map(int, input().split())\n",
    "\n",
    "board = []\n",
    "for i in range(N):\n",
    "    row = list(map(str, input()))\n",
    "    board.append(row)\n",
    "\n",
    "\n",
    "def generate_board(color_lst):\n",
    "    true_board = []\n",
    "    for i in range(8):\n",
    "        row = []\n",
    "        for j in range(8):\n",
    "            if (i % 2 == 0) and (j % 2 == 0):\n",
    "                row.append(color_lst[0])\n",
    "            if (i % 2 == 0) and (j % 2 != 0):\n",
    "                row.append(color_lst[1])\n",
    "            if (i % 2 != 0) and (j % 2 != 0):\n",
    "                row.append(color_lst[0])\n",
    "            if (i % 2 != 0) and (j % 2 == 0):\n",
    "                row.append(color_lst[1])\n",
    "        true_board.append(row)\n",
    "    return true_board\n",
    "\n",
    "\n",
    "def count_repaints(board88):\n",
    "    min_count = 65\n",
    "    for li in [['W', 'B'], ['B', 'W']]:\n",
    "        true_board = generate_board(li)\n",
    "        count = 0\n",
    "        for i in range(8):\n",
    "            for j in range(8):\n",
    "                if board88[i][j] != true_board[i][j]:\n",
    "                    count += 1\n",
    "        if min_count > count:\n",
    "            min_count = count\n",
    "    return min_count\n",
    "\n",
    "\n",
    "def min_repaints(boardNM):\n",
    "    min_counts = []\n",
    "    for i in range(len(boardNM) - 7):\n",
    "        for j in range(len(boardNM[0]) - 7):\n",
    "            board88 = [row[j:j + 8] for row in boardNM[i:i + 8]]\n",
    "            min_counts.append(count_repaints(board88))\n",
    "    return min(min_counts)\n",
    "\n",
    "\n",
    "print(min_repaints(board))"
   ],
   "metadata": {
    "collapsed": false,
    "ExecuteTime": {
     "end_time": "2024-07-07T07:16:26.916500900Z",
     "start_time": "2024-07-07T07:15:40.892772100Z"
    }
   },
   "id": "6928add878a823bb",
   "execution_count": 105
  },
  {
   "cell_type": "markdown",
   "source": [
    "# solved.ac"
   ],
   "metadata": {
    "collapsed": false
   },
   "id": "7a6fc957b47a8663"
  },
  {
   "cell_type": "code",
   "outputs": [
    {
     "name": "stdout",
     "output_type": "stream",
     "text": [
      "1\n",
      "6\n"
     ]
    }
   ],
   "source": [
    "# import sys\n",
    "# input = sys.stdin.readline\n",
    "\n",
    "N = int(input())\n",
    "num_lst = [int(input()) for _ in range(N)]\n",
    "\n",
    "\n",
    "# round는 5사5입이라 4사5입 함수 정의해야 함.\n",
    "def round2(num):\n",
    "    return int(num) + (1 if num - int(num) >= 0.5 else 0)\n",
    "\n",
    "\n",
    "num_lst.sort()\n",
    "remove_count = round2(N * 0.15)\n",
    "num_lst = num_lst[remove_count:N - remove_count]\n",
    "\n",
    "if num_lst:\n",
    "    print(round2(sum(num_lst) / len(num_lst)))\n",
    "else:\n",
    "    print(0)"
   ],
   "metadata": {
    "collapsed": false,
    "ExecuteTime": {
     "end_time": "2024-07-07T07:39:39.082290700Z",
     "start_time": "2024-07-07T07:39:33.912299Z"
    }
   },
   "id": "dc3d56ef6650c8a5",
   "execution_count": 138
  },
  {
   "cell_type": "markdown",
   "source": [
    "# 설탕배달"
   ],
   "metadata": {
    "collapsed": false
   },
   "id": "460a364b6597841b"
  },
  {
   "cell_type": "code",
   "outputs": [
    {
     "name": "stdout",
     "output_type": "stream",
     "text": [
      "3\n"
     ]
    }
   ],
   "source": [
    "N = int(input())\n",
    "a = 0\n",
    "num_lst = []\n",
    "for i in range((N // 5) + 1):\n",
    "    if (N - 5 * i) % 3 == 0:\n",
    "        Q5 = i\n",
    "        Q3 = ((N - 5 * i) // 3)\n",
    "        if Q3 * 3 + Q5 * 5 == N:\n",
    "            num_lst.append(Q5 + Q3)\n",
    "        a = 1\n",
    "if a:\n",
    "    print(min(num_lst))\n",
    "if not a:\n",
    "    print(-1)"
   ],
   "metadata": {
    "collapsed": false,
    "ExecuteTime": {
     "end_time": "2024-07-07T12:11:39.979533500Z",
     "start_time": "2024-07-07T12:11:38.865034Z"
    }
   },
   "id": "2383fc319a650579",
   "execution_count": 200
  },
  {
   "cell_type": "markdown",
   "source": [
    "# 영화감독 숌"
   ],
   "metadata": {
    "collapsed": false
   },
   "id": "25874c7e7e5ee809"
  },
  {
   "cell_type": "code",
   "outputs": [
    {
     "name": "stdout",
     "output_type": "stream",
     "text": [
      "66666\n"
     ]
    }
   ],
   "source": [
    "N = int(input())\n",
    "a = 666\n",
    "while N:\n",
    "    if '666' in str(a):\n",
    "        N -= 1\n",
    "    a += 1\n",
    "\n",
    "print(a - 1)"
   ],
   "metadata": {
    "collapsed": false,
    "ExecuteTime": {
     "end_time": "2024-07-08T03:50:25.098572300Z",
     "start_time": "2024-07-08T03:50:19.541296100Z"
    }
   },
   "id": "62185aad8192e88a",
   "execution_count": 1
  },
  {
   "cell_type": "markdown",
   "source": [
    "# 좌표 정렬하기2"
   ],
   "metadata": {
    "collapsed": false
   },
   "id": "b86b2604edaffe1e"
  },
  {
   "cell_type": "code",
   "outputs": [
    {
     "name": "stdout",
     "output_type": "stream",
     "text": [
      "1 -1\n",
      "1 2\n",
      "2 2\n",
      "3 3\n",
      "0 4\n"
     ]
    }
   ],
   "source": [
    "n = int(input())\n",
    "\n",
    "li = []\n",
    "for _ in range(n):\n",
    "    x, y = list(map(int, input().split()))\n",
    "    li.append([y, x])\n",
    "\n",
    "li.sort()\n",
    "for i in li:\n",
    "    print(i[1], i[0])"
   ],
   "metadata": {
    "collapsed": false,
    "ExecuteTime": {
     "end_time": "2024-07-08T04:25:48.510974600Z",
     "start_time": "2024-07-08T04:25:30.384963800Z"
    }
   },
   "id": "ed6e2cf301ce13f9",
   "execution_count": 5
  },
  {
   "cell_type": "markdown",
   "source": [
    "# 제로"
   ],
   "metadata": {
    "collapsed": false
   },
   "id": "5168b1abf71831c9"
  },
  {
   "cell_type": "code",
   "outputs": [
    {
     "name": "stdout",
     "output_type": "stream",
     "text": [
      "7\n"
     ]
    }
   ],
   "source": [
    "N = int(input())\n",
    "num_lst = []\n",
    "for i in range(N):\n",
    "    a = int(input())\n",
    "    if a != 0:\n",
    "        num_lst.append(a)\n",
    "    elif a == 0:\n",
    "        num_lst.pop()\n",
    "\n",
    "print(sum(num_lst))"
   ],
   "metadata": {
    "collapsed": false,
    "ExecuteTime": {
     "end_time": "2024-07-08T04:36:20.612008800Z",
     "start_time": "2024-07-08T04:36:08.773587700Z"
    }
   },
   "id": "fa459386a11c836d",
   "execution_count": 7
  },
  {
   "cell_type": "markdown",
   "source": [
    "# 덩치"
   ],
   "metadata": {
    "collapsed": false
   },
   "id": "de8738f5eedbdeea"
  },
  {
   "cell_type": "code",
   "outputs": [],
   "source": [
    "N = int(input())\n",
    "li = [tuple(map(int, input().split())) for _ in range(N)]\n",
    "rank = [1] * N\n",
    "\n",
    "for i in range(N):\n",
    "    for j in range(N):\n",
    "        if i != j:\n",
    "            if li[i][0] < li[j][0] and li[i][1] < li[j][1]:\n",
    "                rank[i] += 1\n",
    "\n",
    "for r in rank:\n",
    "    print(r, end=' ')"
   ],
   "metadata": {
    "collapsed": false
   },
   "id": "9aa77c5cc31992fa",
   "execution_count": null
  },
  {
   "cell_type": "markdown",
   "source": [
    "# 균형잡힌 세상"
   ],
   "metadata": {
    "collapsed": false
   },
   "id": "c6e74d7e5fca8e0b"
  },
  {
   "cell_type": "code",
   "outputs": [],
   "source": [
    "import sys\n",
    "\n",
    "input = sys.stdin.readline\n",
    "\n",
    "while 1:\n",
    "    VPS = input().rstrip()\n",
    "    stack = []\n",
    "    valid = True\n",
    "    matching_bracket = {')': '(', ']': '['}\n",
    "\n",
    "    for char in VPS:\n",
    "        if char in '([':\n",
    "            stack.append(char)\n",
    "        elif char in ')]':\n",
    "            if not stack or stack[-1] != matching_bracket[char]:\n",
    "                valid = False\n",
    "                break\n",
    "            stack.pop()\n",
    "\n",
    "    if VPS == '.':\n",
    "        break\n",
    "\n",
    "    print(\"yes\" if valid and not stack else \"no\")"
   ],
   "metadata": {
    "collapsed": false,
    "ExecuteTime": {
     "end_time": "2024-07-08T06:45:47.811381600Z",
     "start_time": "2024-07-08T06:45:43.449005500Z"
    }
   },
   "id": "ac8805185276f38e",
   "execution_count": 1
  },
  {
   "cell_type": "markdown",
   "source": [
    "# 통계학"
   ],
   "metadata": {
    "collapsed": false
   },
   "id": "da4298593e096629"
  },
  {
   "cell_type": "code",
   "outputs": [
    {
     "name": "stdout",
     "output_type": "stream",
     "text": [
      "0\n",
      "0\n",
      "0\n",
      "1\n"
     ]
    }
   ],
   "source": [
    "from collections import Counter\n",
    "\n",
    "import sys\n",
    "\n",
    "input = sys.stdin.readline\n",
    "\n",
    "N = int(input())\n",
    "num_lst = [int(input()) for _ in range(N)]\n",
    "num_lst.sort()\n",
    "cnt = Counter(num_lst)\n",
    "tmp = cnt.most_common()\n",
    "\n",
    "print(round(sum(num_lst) / N))\n",
    "print(f'{num_lst[N // 2]}')\n",
    "\n",
    "if len(tmp) > 1:\n",
    "    if tmp[0][1] == tmp[1][1]:\n",
    "        print(tmp[1][0])\n",
    "    else:\n",
    "        print(tmp[0][0])\n",
    "else:\n",
    "    print(tmp[0][0])\n",
    "\n",
    "print(f'{num_lst[-1] - num_lst[0]}')"
   ],
   "metadata": {
    "collapsed": false,
    "ExecuteTime": {
     "end_time": "2024-07-08T07:01:30.724377800Z",
     "start_time": "2024-07-08T07:01:26.816814500Z"
    }
   },
   "id": "7be05e0b4d68406c",
   "execution_count": 29
  },
  {
   "cell_type": "markdown",
   "source": [
    "# 팩토리얼 0의 개수"
   ],
   "metadata": {
    "collapsed": false
   },
   "id": "28cbcf3feefaca60"
  },
  {
   "cell_type": "code",
   "outputs": [
    {
     "name": "stdout",
     "output_type": "stream",
     "text": [
      "2\n"
     ]
    }
   ],
   "source": [
    "def factorial(N):\n",
    "    F = 1\n",
    "    for i in range(1, N + 1):\n",
    "        F *= i\n",
    "    return F\n",
    "\n",
    "\n",
    "N = int(input())\n",
    "F_lst = list(str(factorial(N)))\n",
    "F_lst.reverse()\n",
    "\n",
    "a = 0\n",
    "for i in F_lst:\n",
    "    if i not in '0':\n",
    "        break\n",
    "    a += 1\n",
    "\n",
    "print(a)"
   ],
   "metadata": {
    "collapsed": false,
    "ExecuteTime": {
     "end_time": "2024-07-09T05:10:37.460401800Z",
     "start_time": "2024-07-09T05:10:35.615199600Z"
    }
   },
   "id": "48fbefc53fdb42db",
   "execution_count": 17
  },
  {
   "cell_type": "markdown",
   "source": [
    "# 소수 구하기"
   ],
   "metadata": {
    "collapsed": false
   },
   "id": "76aa11bfef47674d"
  },
  {
   "cell_type": "code",
   "outputs": [
    {
     "name": "stdout",
     "output_type": "stream",
     "text": [
      "3\n",
      "5\n",
      "7\n",
      "11\n",
      "13\n"
     ]
    }
   ],
   "source": [
    "def isPrime(num):\n",
    "    if num == 1:\n",
    "        return False\n",
    "    else:\n",
    "        for i in range(2, int(num ** 0.5) + 1):\n",
    "            if num % i == 0:\n",
    "                return False\n",
    "        return True\n",
    "\n",
    "\n",
    "M, N = map(int, input().split())\n",
    "\n",
    "for i in range(M, N + 1):\n",
    "    if isPrime(i):\n",
    "        print(i)"
   ],
   "metadata": {
    "collapsed": false,
    "ExecuteTime": {
     "end_time": "2024-07-09T05:25:29.925319200Z",
     "start_time": "2024-07-09T05:25:27.501437Z"
    }
   },
   "id": "291fd5af9855e987",
   "execution_count": 30
  },
  {
   "cell_type": "markdown",
   "source": [
    "# 프린터 큐"
   ],
   "metadata": {
    "collapsed": false
   },
   "id": "942bc15362c7d98d"
  },
  {
   "cell_type": "code",
   "outputs": [
    {
     "name": "stdout",
     "output_type": "stream",
     "text": [
      "1\n",
      "2\n",
      "5\n"
     ]
    }
   ],
   "source": [
    "N = int(input())\n",
    "\n",
    "\n",
    "def Q_table():\n",
    "    a, b = map(int, input().split(' '))\n",
    "    rank = list(map(int, input().split(' ')))\n",
    "    key_lst = [i for i in range(a)]\n",
    "    return key_lst, rank, b\n",
    "\n",
    "\n",
    "def sort_Q(key_lst, val_lst):\n",
    "    sorted_key_lst = []\n",
    "    sorted_val_lst = []\n",
    "\n",
    "    while key_lst:\n",
    "        if val_lst[0] < max(val_lst):\n",
    "            key_lst.append(key_lst.pop(0))\n",
    "            val_lst.append(val_lst.pop(0))\n",
    "        else:\n",
    "            sorted_key_lst.append(key_lst.pop(0))\n",
    "            sorted_val_lst.append(val_lst.pop(0))\n",
    "\n",
    "    return sorted_key_lst, sorted_val_lst\n",
    "\n",
    "\n",
    "for i in range(N):\n",
    "    key_lst, val_lst, b = Q_table()\n",
    "    sorted_key_lst, sorted_val_lst = sort_Q(key_lst, val_lst)\n",
    "    print(sorted_key_lst.index(b) + 1)"
   ],
   "metadata": {
    "collapsed": false,
    "ExecuteTime": {
     "end_time": "2024-07-09T06:06:34.132600500Z",
     "start_time": "2024-07-09T06:06:17.072896100Z"
    }
   },
   "id": "6d410e042ed48fb0",
   "execution_count": 52
  },
  {
   "cell_type": "markdown",
   "source": [
    "# 스택 수열"
   ],
   "metadata": {
    "collapsed": false
   },
   "id": "6b449c21f0c154e"
  },
  {
   "cell_type": "code",
   "outputs": [
    {
     "name": "stdout",
     "output_type": "stream",
     "text": [
      "+\n",
      "+\n",
      "+\n",
      "+\n",
      "-\n",
      "-\n",
      "+\n",
      "+\n",
      "-\n",
      "+\n",
      "+\n",
      "-\n",
      "-\n",
      "-\n",
      "-\n",
      "-\n"
     ]
    }
   ],
   "source": [
    "from collections import deque\n",
    "\n",
    "N = int(input())\n",
    "num_lst = [int(input()) for _ in range(N)]\n",
    "reversed_num_lst = list(reversed(num_lst))\n",
    "\n",
    "\n",
    "def push(a, right_lst):\n",
    "    return right_lst.appendleft(a)\n",
    "\n",
    "\n",
    "def pop(right_lst):\n",
    "    return right_lst.popleft()\n",
    "\n",
    "\n",
    "def recover_series(num_lst):\n",
    "    ans = ['-']\n",
    "    original_lst = deque([1])\n",
    "    recover = True\n",
    "    while num_lst:\n",
    "        while recover:\n",
    "            for i in num_lst:\n",
    "                if i in original_lst:\n",
    "                    continue\n",
    "                push(i, original_lst)\n",
    "                ans.append('-')\n",
    "                if max(original_lst) == max(num_lst):\n",
    "                    break\n",
    "\n",
    "            while max(original_lst) == max(num_lst):\n",
    "                if max(num_lst) != original_lst[0]:\n",
    "                    return ['NO']\n",
    "                num_lst.remove(max(num_lst))\n",
    "                pop(original_lst)\n",
    "                ans.append('+')\n",
    "                if not num_lst:\n",
    "                    recover = False\n",
    "                    break\n",
    "\n",
    "    return ans\n",
    "\n",
    "\n",
    "ans = recover_series(reversed_num_lst)\n",
    "for i in range(len(ans)):\n",
    "    print(ans[len(ans) - i - 1])"
   ],
   "metadata": {
    "collapsed": false,
    "ExecuteTime": {
     "end_time": "2024-07-09T13:55:08.255660100Z",
     "start_time": "2024-07-09T13:54:58.061865400Z"
    }
   },
   "id": "d2c7b53320dfc9e3",
   "execution_count": 56
  },
  {
   "cell_type": "code",
   "outputs": [
    {
     "name": "stdout",
     "output_type": "stream",
     "text": [
      "+\n",
      "+\n",
      "+\n",
      "+\n",
      "-\n",
      "-\n",
      "+\n",
      "+\n",
      "-\n",
      "+\n",
      "+\n",
      "-\n",
      "-\n",
      "-\n",
      "-\n",
      "-\n"
     ]
    }
   ],
   "source": [
    "n = int(input())\n",
    "stack = []\n",
    "answer = []\n",
    "flag = 0\n",
    "cur = 1\n",
    "\n",
    "for i in range(n):\n",
    "    num = int(input())\n",
    "    while cur <= num:\n",
    "        stack.append(cur)\n",
    "        answer.append(\"+\")\n",
    "        cur += 1\n",
    "\n",
    "    if stack[-1] == num:\n",
    "        stack.pop()\n",
    "        answer.append(\"-\")\n",
    "    else:\n",
    "        print(\"NO\")\n",
    "        flag = 1\n",
    "        break\n",
    "\n",
    "if flag == 0:\n",
    "    for i in answer:\n",
    "        print(i)"
   ],
   "metadata": {
    "collapsed": false,
    "ExecuteTime": {
     "end_time": "2024-07-09T13:57:45.578466100Z",
     "start_time": "2024-07-09T13:57:31.762944600Z"
    }
   },
   "id": "591c04accd9fdd8c",
   "execution_count": 57
  },
  {
   "cell_type": "markdown",
   "source": [
    "# 랜선 자르기"
   ],
   "metadata": {
    "collapsed": false
   },
   "id": "46bd2d42fdc22f55"
  },
  {
   "cell_type": "code",
   "outputs": [
    {
     "name": "stdout",
     "output_type": "stream",
     "text": [
      "200\n"
     ]
    }
   ],
   "source": [
    "# import sys\n",
    "# \n",
    "# input = sys.stdin.readline\n",
    "\n",
    "K, N = map(int, input().split(' '))\n",
    "K_lst = [int(input()) for _ in range(K)]\n",
    "\n",
    "start = 1\n",
    "end = sum(K_lst) // N + 1\n",
    "\n",
    "while (start <= end):\n",
    "    mid = (start + end) // 2\n",
    "    quotients = [element // mid for element in K_lst]\n",
    "    if sum(quotients) >= N:\n",
    "        start = mid + 1\n",
    "    else:\n",
    "        end = mid - 1\n",
    "print(end)"
   ],
   "metadata": {
    "collapsed": false,
    "ExecuteTime": {
     "end_time": "2024-07-09T14:52:30.739833700Z",
     "start_time": "2024-07-09T14:52:19.861119600Z"
    }
   },
   "id": "579b713344afe862",
   "execution_count": 3
  },
  {
   "cell_type": "markdown",
   "source": [
    "# 피보나치 수열\n",
    "이전 state만 보고 판단함으로 Dynamic Programming"
   ],
   "metadata": {
    "collapsed": false
   },
   "id": "13b60b07e72ef25a"
  },
  {
   "cell_type": "code",
   "outputs": [
    {
     "name": "stdout",
     "output_type": "stream",
     "text": [
      "3 5\n"
     ]
    }
   ],
   "source": [
    "N = int(input())\n",
    "\n",
    "\n",
    "def fibonacci(n):\n",
    "    global cnt\n",
    "    if n == 0:\n",
    "        return 0\n",
    "    elif n == 1:\n",
    "        return 1\n",
    "    else:\n",
    "        cnt += 1\n",
    "        return fibonacci(n - 1) + fibonacci(n - 2)\n",
    "\n",
    "\n",
    "for i in range(N):\n",
    "    cnt = 0\n",
    "    n = int(input())\n",
    "    cnt_1 = fibonacci(n)\n",
    "    print(cnt + 1 - cnt_1, cnt_1)"
   ],
   "metadata": {
    "collapsed": false,
    "ExecuteTime": {
     "end_time": "2024-07-10T05:39:40.275586400Z",
     "start_time": "2024-07-10T05:39:38.317164300Z"
    }
   },
   "id": "7061df0b5602622c",
   "execution_count": 43
  },
  {
   "cell_type": "code",
   "outputs": [
    {
     "name": "stdout",
     "output_type": "stream",
     "text": [
      "1 1\n",
      "1 2\n",
      "2 3\n"
     ]
    }
   ],
   "source": [
    "T = int(input())\n",
    "\n",
    "for _ in range(T):\n",
    "    N = int(input())\n",
    "    zero, one = 1, 0\n",
    "    for i in range(N):\n",
    "        zero, one = one, zero + one\n",
    "    print(zero, one)"
   ],
   "metadata": {
    "collapsed": false,
    "ExecuteTime": {
     "end_time": "2024-07-10T05:26:34.309047600Z",
     "start_time": "2024-07-10T05:26:30.314537500Z"
    }
   },
   "id": "885d0c855a5f0502",
   "execution_count": 39
  },
  {
   "cell_type": "markdown",
   "source": [
    "# 유기농 배추"
   ],
   "metadata": {
    "collapsed": false
   },
   "id": "89ecc8a45a09b3fe"
  },
  {
   "cell_type": "code",
   "outputs": [
    {
     "name": "stdout",
     "output_type": "stream",
     "text": [
      "2\n"
     ]
    }
   ],
   "source": [
    "def check_adjoin(coor_lst):\n",
    "    new_coor_lst = []\n",
    "    for coor in coor_lst:\n",
    "        directions = [(0, 1), (1, 0), (0, -1), (-1, 0)]\n",
    "        new_coords = [(coor[0] + d[0], coor[1] + d[1]) for d in directions]\n",
    "        result = [coor2 for coor2 in coor_lst if coor2 in new_coords]\n",
    "        result.append(coor)\n",
    "        new_coor_lst.append(result)\n",
    "    return new_coor_lst\n",
    "\n",
    "\n",
    "class UnionFind:\n",
    "    def __init__(self):\n",
    "        self.parent = {}\n",
    "\n",
    "    def find(self, item):\n",
    "        if self.parent[item] != item:\n",
    "            self.parent[item] = self.find(self.parent[item])\n",
    "        return self.parent[item]\n",
    "\n",
    "    def union(self, item1, item2):\n",
    "        root1 = self.find(item1)\n",
    "        root2 = self.find(item2)\n",
    "        if root1 != root2:\n",
    "            self.parent[root2] = root1\n",
    "\n",
    "    def add(self, item):\n",
    "        if item not in self.parent:\n",
    "            self.parent[item] = item\n",
    "\n",
    "\n",
    "def merge_overlapping_sublists(lists):\n",
    "    uf = UnionFind()\n",
    "\n",
    "    # 각 듀플을 Union-Find 구조에 추가\n",
    "    for sublist in lists:\n",
    "        for item in sublist:\n",
    "            uf.add(item)\n",
    "\n",
    "    # 서브 리스트 내의 듀플들을 병합\n",
    "    for sublist in lists:\n",
    "        first_item = sublist[0]\n",
    "        for item in sublist[1:]:\n",
    "            uf.union(first_item, item)\n",
    "\n",
    "    # 병합된 그룹을 찾기\n",
    "    groups = {}\n",
    "    for sublist in lists:\n",
    "        root = uf.find(sublist[0])\n",
    "        if root not in groups:\n",
    "            groups[root] = set()\n",
    "        for item in sublist:\n",
    "            groups[root].add(item)\n",
    "\n",
    "    # 결과 생성\n",
    "    merged_lists = [list(group) for group in groups.values()]\n",
    "\n",
    "    return merged_lists\n",
    "\n",
    "\n",
    "T = int(input())\n",
    "\n",
    "for i in range(T):\n",
    "    M, N, K = map(int, input().split())\n",
    "    coor_lst = [tuple(map(int, input().split(' '))) for _ in range(K)]\n",
    "    ans_lst = check_adjoin(coor_lst)\n",
    "    ans_lst.sort()\n",
    "    merged_lists = merge_overlapping_sublists(ans_lst)\n",
    "    print(len(merged_lists))"
   ],
   "metadata": {
    "collapsed": false,
    "ExecuteTime": {
     "end_time": "2024-07-11T09:54:10.150243800Z",
     "start_time": "2024-07-11T09:53:59.162748300Z"
    }
   },
   "id": "d5b24159ae74cf7d",
   "execution_count": 19
  },
  {
   "cell_type": "code",
   "outputs": [
    {
     "name": "stdout",
     "output_type": "stream",
     "text": [
      "2\n"
     ]
    }
   ],
   "source": [
    "T = int(input())\n",
    "\n",
    "\n",
    "def BFS(x, y):\n",
    "    queue = [(x, y)]\n",
    "    matrix[x][y] = 0\n",
    "\n",
    "    dx = [-1, 1, 0, 0]\n",
    "    dy = [0, 0, -1, 1]\n",
    "\n",
    "    while queue:\n",
    "        x, y = queue.pop(0)\n",
    "\n",
    "        for i in range(4):\n",
    "            nx = x + dx[i]\n",
    "            ny = y + dy[i]\n",
    "\n",
    "            if nx < 0 or nx >= M or ny < 0 or ny >= N:\n",
    "                continue\n",
    "\n",
    "            if matrix[nx][ny] == 1:\n",
    "                queue.append((nx, ny))\n",
    "                matrix[nx][ny] = 0\n",
    "\n",
    "\n",
    "for i in range(T):\n",
    "    M, N, K = map(int, input().split())\n",
    "    matrix = [[0] * (N) for _ in range(M)]\n",
    "    cnt = 0\n",
    "\n",
    "    for j in range(K):\n",
    "        x, y = map(int, input().split())\n",
    "        matrix[x][y] = 1\n",
    "\n",
    "    for a in range(M):\n",
    "        for b in range(N):\n",
    "            if matrix[a][b] == 1:\n",
    "                BFS(a, b)\n",
    "                cnt += 1\n",
    "\n",
    "    print(cnt)"
   ],
   "metadata": {
    "collapsed": false,
    "ExecuteTime": {
     "end_time": "2024-07-11T09:50:42.727105600Z",
     "start_time": "2024-07-11T09:50:29.439804300Z"
    }
   },
   "id": "3599dc526b6e3928",
   "execution_count": 16
  },
  {
   "cell_type": "code",
   "outputs": [
    {
     "name": "stdout",
     "output_type": "stream",
     "text": [
      "2\n"
     ]
    }
   ],
   "source": [
    "# import sys\n",
    "# sys.setrecursionlimit(10000)\n",
    "\n",
    "\n",
    "def dfs(x, y):\n",
    "    dx = [1, -1, 0, 0]\n",
    "    dy = [0, 0, 1, -1]\n",
    "\n",
    "    for i in range(4):\n",
    "        nx = x + dx[i]\n",
    "        ny = y + dy[i]\n",
    "\n",
    "        if (0 <= nx < N) and (0 <= ny < M):\n",
    "            if matrix[nx][ny] == 1:\n",
    "                matrix[nx][ny] = -1\n",
    "                dfs(nx, ny)\n",
    "\n",
    "\n",
    "T = int(input())\n",
    "for _ in range(T):\n",
    "    M, N, K = map(int, input().split())\n",
    "    matrix = [[0] * M for _ in range(N)]\n",
    "    cnt = 0\n",
    "\n",
    "    for _ in range(K):\n",
    "        m, n = map(int, input().split())\n",
    "        matrix[n][m] = 1\n",
    "\n",
    "    for i in range(N):\n",
    "        for j in range(M):\n",
    "            if matrix[i][j] == 1:\n",
    "                dfs(i, j)\n",
    "                cnt += 1\n",
    "\n",
    "    print(cnt)"
   ],
   "metadata": {
    "collapsed": false,
    "ExecuteTime": {
     "end_time": "2024-07-11T09:51:41.961665800Z",
     "start_time": "2024-07-11T09:51:31.210486600Z"
    }
   },
   "id": "a52474c2d112ea92",
   "execution_count": 18
  },
  {
   "cell_type": "markdown",
   "source": [
    "# Z"
   ],
   "metadata": {
    "collapsed": false
   },
   "id": "b448aae0bb5cf2d8"
  },
  {
   "cell_type": "code",
   "outputs": [
    {
     "name": "stdout",
     "output_type": "stream",
     "text": [
      "11\n"
     ]
    }
   ],
   "source": [
    "N, r, c = map(int, input().split(' '))\n",
    "\n",
    "\n",
    "def compute_Z(N, r, c):\n",
    "    if N == 0:\n",
    "        return 0\n",
    "    else:\n",
    "        return 2 * (r % 2) + (c % 2) + 4 * compute_Z(N - 1, r // 2, c // 2)\n",
    "\n",
    "\n",
    "print(compute_Z(N, r, c))"
   ],
   "metadata": {
    "collapsed": false,
    "ExecuteTime": {
     "end_time": "2024-07-13T14:29:04.836025400Z",
     "start_time": "2024-07-13T14:29:01.771184900Z"
    }
   },
   "id": "e2d4586dadbdc0b9",
   "execution_count": 8
  },
  {
   "cell_type": "markdown",
   "source": [
    "# 집합"
   ],
   "metadata": {
    "collapsed": false
   },
   "id": "2e01dd6cec607f58"
  },
  {
   "cell_type": "code",
   "outputs": [
    {
     "name": "stdout",
     "output_type": "stream",
     "text": [
      "0\n"
     ]
    }
   ],
   "source": [
    "# import sys\n",
    "# input = sys.stdin.readline\n",
    "\n",
    "T = int(input())\n",
    "S = set()\n",
    "\n",
    "\n",
    "def cal_set(order, number):\n",
    "    if order == 'add':\n",
    "        S.add(number)\n",
    "\n",
    "    elif order == 'remove':\n",
    "        S.discard(number)\n",
    "\n",
    "    elif order == 'check':\n",
    "        print(1 if number in S else 0)\n",
    "\n",
    "    elif order == 'toggle':\n",
    "        if number in S:\n",
    "            S.discard(number)\n",
    "        else:\n",
    "            S.add(number)\n",
    "\n",
    "\n",
    "for i in range(T):\n",
    "    order_lst = list(map(str, input().split(' ')))\n",
    "    # order_lst = sys.stdin.readline().strip().split()\n",
    "    if len(order_lst) == 1:\n",
    "        if order_lst[0] == 'all':\n",
    "            S = set([i for i in range(1, 21)])\n",
    "        else:\n",
    "            S = set()\n",
    "        continue\n",
    "\n",
    "    else:\n",
    "        order = order_lst[0]\n",
    "        number = order_lst[1]\n",
    "        cal_set(order, int(number))"
   ],
   "metadata": {
    "collapsed": false,
    "ExecuteTime": {
     "end_time": "2024-07-12T04:11:41.658728Z",
     "start_time": "2024-07-12T04:11:33.442967600Z"
    }
   },
   "id": "d45959f3340e9c1c",
   "execution_count": 17
  },
  {
   "cell_type": "markdown",
   "source": [
    "# 1로 만들기"
   ],
   "metadata": {
    "collapsed": false
   },
   "id": "cd0429ceda5ebd65"
  },
  {
   "cell_type": "code",
   "outputs": [],
   "source": [
    "def BFS(x, y):\n",
    "    queue = [(x, y)]\n",
    "    matrix[x][y] = 0\n",
    "\n",
    "    dx = [-1, 1, 0, 0]\n",
    "    dy = [0, 0, -1, 1]\n",
    "\n",
    "    while queue:\n",
    "        x, y = queue.pop(0)\n",
    "\n",
    "        for i in range(4):\n",
    "            nx = x + dx[i]\n",
    "            ny = y + dy[i]\n",
    "\n",
    "            if nx < 0 or nx >= M or ny < 0 or ny >= N:\n",
    "                continue\n",
    "\n",
    "            if matrix[nx][ny] == 1:\n",
    "                queue.append((nx, ny))\n",
    "                matrix[nx][ny] = 0"
   ],
   "metadata": {
    "collapsed": false
   },
   "id": "50cfd6ae0ae884ac",
   "execution_count": null
  },
  {
   "cell_type": "code",
   "outputs": [
    {
     "name": "stdout",
     "output_type": "stream",
     "text": [
      "3\n"
     ]
    }
   ],
   "source": [
    "from collections import deque\n",
    "\n",
    "\n",
    "def min_operations_to_one(n):\n",
    "    queue = deque([(n, 0)])\n",
    "    visited = set()\n",
    "\n",
    "    while queue:\n",
    "        current, operations = queue.popleft()\n",
    "\n",
    "        if current == 1:\n",
    "            return operations\n",
    "        if current in visited:\n",
    "            continue\n",
    "\n",
    "        visited.add(current)\n",
    "\n",
    "        if current % 3 == 0:\n",
    "            queue.append((current // 3, operations + 1))\n",
    "        if current % 2 == 0:\n",
    "            queue.append((current // 2, operations + 1))\n",
    "        queue.append((current - 1, operations + 1))\n",
    "\n",
    "    return -1\n",
    "\n",
    "\n",
    "n = int(input())\n",
    "print(min_operations_to_one(n))"
   ],
   "metadata": {
    "collapsed": false,
    "ExecuteTime": {
     "end_time": "2024-07-15T08:05:18.877966100Z",
     "start_time": "2024-07-15T08:05:17.784862600Z"
    }
   },
   "id": "7ecf562d7815730d",
   "execution_count": 1
  },
  {
   "cell_type": "markdown",
   "source": [
    "# 듣보잡"
   ],
   "metadata": {
    "collapsed": false
   },
   "id": "d5f84a9ff01278e9"
  },
  {
   "cell_type": "code",
   "outputs": [
    {
     "name": "stdout",
     "output_type": "stream",
     "text": [
      "2\n",
      "baesangwook\n",
      "ohhenrie\n"
     ]
    }
   ],
   "source": [
    "# import sys\n",
    "# input = sys.stdin.readline\n",
    "\n",
    "N, M = map(int, input().split(' '))\n",
    "A = set([str(input()).rstrip() for _ in range(N)])\n",
    "B = set([str(input()).rstrip() for _ in range(M)])\n",
    "\n",
    "result = sorted(list(A & B))\n",
    "print(len(result))\n",
    "print(*result, sep=\"\\n\")"
   ],
   "metadata": {
    "collapsed": false,
    "ExecuteTime": {
     "end_time": "2024-07-15T08:27:15.306795700Z",
     "start_time": "2024-07-15T08:26:45.584359300Z"
    }
   },
   "id": "e81b59e186283973",
   "execution_count": 2
  },
  {
   "cell_type": "markdown",
   "source": [
    "# 숨바꼭질"
   ],
   "metadata": {
    "collapsed": false
   },
   "id": "a419c19e42dcdb09"
  },
  {
   "cell_type": "code",
   "outputs": [
    {
     "name": "stdout",
     "output_type": "stream",
     "text": [
      "4\n"
     ]
    }
   ],
   "source": [
    "from collections import deque\n",
    "\n",
    "N, K = map(int, input().split())\n",
    "\n",
    "\n",
    "def min_iteration(N, K):\n",
    "    queue = deque([(N, 0)])\n",
    "    visited = [False] * 100001\n",
    "\n",
    "    while queue:\n",
    "        current, time = queue.popleft()\n",
    "\n",
    "        if current == K:\n",
    "            return time\n",
    "        if current < 0 or current > 100000 or visited[current]:\n",
    "            continue\n",
    "\n",
    "        visited[current] = True\n",
    "        next_positions = [current - 1, current + 1, current * 2]\n",
    "        for next_position in next_positions:\n",
    "            if 0 <= next_position <= 100000 and not visited[next_position]:\n",
    "                queue.append((next_position, time + 1))\n",
    "    return -1\n",
    "\n",
    "\n",
    "print(min_iteration(N, K))"
   ],
   "metadata": {
    "collapsed": false,
    "ExecuteTime": {
     "end_time": "2024-07-16T04:39:17.693625200Z",
     "start_time": "2024-07-16T04:39:15.092891500Z"
    }
   },
   "id": "5296376a925cc063",
   "execution_count": 25
  },
  {
   "cell_type": "markdown",
   "source": [
    "# 최소 힙"
   ],
   "metadata": {
    "collapsed": false
   },
   "id": "2410ece8fc4bdd47"
  },
  {
   "cell_type": "code",
   "outputs": [
    {
     "name": "stdout",
     "output_type": "stream",
     "text": [
      "0\n",
      "1\n",
      "2\n",
      "12345678\n",
      "0\n"
     ]
    }
   ],
   "source": [
    "import heapq\n",
    "import sys\n",
    "\n",
    "input = sys.stdin.readline\n",
    "\n",
    "num_lst = []\n",
    "N = int(input())\n",
    "\n",
    "for _ in range(N):\n",
    "    K = int(input())\n",
    "    if K != 0:\n",
    "        heapq.heappush(num_lst, K)\n",
    "    elif num_lst and K == 0:\n",
    "        print(heapq.heappop(num_lst))\n",
    "\n",
    "    else:\n",
    "        print(0)"
   ],
   "metadata": {
    "collapsed": false,
    "ExecuteTime": {
     "end_time": "2024-07-16T06:38:45.245799900Z",
     "start_time": "2024-07-16T06:38:28.576728500Z"
    }
   },
   "id": "c49a1224a9f76b7a",
   "execution_count": 4
  },
  {
   "cell_type": "markdown",
   "source": [
    "# 회의실 배정"
   ],
   "metadata": {
    "collapsed": false
   },
   "id": "5982a099ae2bdbdc"
  },
  {
   "cell_type": "code",
   "outputs": [],
   "source": [
    "T = int(input())\n",
    "\n",
    "num_lst = [tuple(map(int, input().split())) for i in range(T)]\n",
    "\n",
    "num_lst.sort(key=lambda x: x[0])\n",
    "num_lst.sort(key=lambda x: x[1])\n",
    "\n",
    "cnt = 1\n",
    "end = num_lst[0][1]\n",
    "for i in range(1, T):\n",
    "    if num_lst[i][0] >= end:\n",
    "        cnt += 1\n",
    "        end = num_lst[i][1]\n",
    "\n",
    "print(cnt)"
   ],
   "metadata": {
    "collapsed": false,
    "ExecuteTime": {
     "end_time": "2024-07-17T05:50:21.991311900Z",
     "start_time": "2024-07-17T05:49:54.645355600Z"
    }
   },
   "id": "7e0c4b72868c3349",
   "execution_count": 1
  },
  {
   "cell_type": "markdown",
   "source": [
    "# 바이러스"
   ],
   "metadata": {
    "collapsed": false
   },
   "id": "2728126880122790"
  },
  {
   "cell_type": "code",
   "outputs": [
    {
     "name": "stdout",
     "output_type": "stream",
     "text": [
      "4\n"
     ]
    }
   ],
   "source": [
    "# import sys\n",
    "# input = sys.stdin.readline\n",
    "\n",
    "N = int(input())\n",
    "T = int(input())\n",
    "pair_lst = [tuple(map(int, input().split())) for _ in range(T)]\n",
    "\n",
    "\n",
    "class UnionFind:\n",
    "    def __init__(self):\n",
    "        self.parent = {}\n",
    "\n",
    "    def find(self, item):\n",
    "        if self.parent[item] != item:\n",
    "            self.parent[item] = self.find(self.parent[item])\n",
    "        return self.parent[item]\n",
    "\n",
    "    def union(self, item1, item2):\n",
    "        root1 = self.find(item1)\n",
    "        root2 = self.find(item2)\n",
    "        if root1 != root2:\n",
    "            self.parent[root2] = root1\n",
    "\n",
    "    def add(self, item):\n",
    "        if item not in self.parent:\n",
    "            self.parent[item] = item\n",
    "\n",
    "\n",
    "def merge_overlapping_sublists(lists):\n",
    "    uf = UnionFind()\n",
    "\n",
    "    # 각 듀플을 Union-Find 구조에 추가\n",
    "    for sublist in lists:\n",
    "        for item in sublist:\n",
    "            uf.add(item)\n",
    "\n",
    "    # 서브 리스트 내의 듀플들을 병합\n",
    "    for sublist in lists:\n",
    "        first_item = sublist[0]\n",
    "        for item in sublist[1:]:\n",
    "            uf.union(first_item, item)\n",
    "\n",
    "    # 병합된 그룹을 찾기\n",
    "    groups = {}\n",
    "    for sublist in lists:\n",
    "        root = uf.find(sublist[0])\n",
    "        if root not in groups:\n",
    "            groups[root] = set()\n",
    "        for item in sublist:\n",
    "            groups[root].add(item)\n",
    "\n",
    "    # 결과 생성\n",
    "    merged_lists = [list(group) for group in groups.values()]\n",
    "\n",
    "    return merged_lists\n",
    "\n",
    "\n",
    "sublist_with_one = next((sublist for sublist in merge_overlapping_sublists(pair_lst) if 1 in sublist), None)\n",
    "\n",
    "if sublist_with_one:\n",
    "    print(len(sublist_with_one) - 1)\n",
    "else:\n",
    "    print(0)"
   ],
   "metadata": {
    "collapsed": false,
    "ExecuteTime": {
     "end_time": "2024-07-18T06:51:14.782402700Z",
     "start_time": "2024-07-18T06:50:50.918811700Z"
    }
   },
   "id": "b8be560bf927dfbb",
   "execution_count": 8
  },
  {
   "cell_type": "markdown",
   "source": [
    "# ATM"
   ],
   "metadata": {
    "collapsed": false
   },
   "id": "9ab5b4ad623c196a"
  },
  {
   "cell_type": "code",
   "outputs": [],
   "source": [
    "import sys\n",
    "\n",
    "input = sys.stdin.readline\n",
    "\n",
    "N = int(input())\n",
    "P_lst = list(map(int, input().split()))\n",
    "\n",
    "P_lst.sort()\n",
    "num = 0\n",
    "for i in range(N):\n",
    "    num += sum(P_lst[:i + 1])\n",
    "print(num)"
   ],
   "metadata": {
    "collapsed": false,
    "ExecuteTime": {
     "end_time": "2024-07-19T10:02:07.736181400Z",
     "start_time": "2024-07-19T10:02:03.675941400Z"
    }
   },
   "id": "83ed6a336db7d811",
   "execution_count": 3
  },
  {
   "cell_type": "markdown",
   "source": [
    "# 1, 2, 3 더하기"
   ],
   "metadata": {
    "collapsed": false
   },
   "id": "3226133cf9b6ba1f"
  },
  {
   "cell_type": "code",
   "outputs": [
    {
     "name": "stdout",
     "output_type": "stream",
     "text": [
      "7\n",
      "44\n",
      "274\n"
     ]
    }
   ],
   "source": [
    "import sys\n",
    "\n",
    "input = sys.stdin.readline\n",
    "\n",
    "cache = [0] * 11\n",
    "cache[1] = 1\n",
    "cache[2] = 2\n",
    "cache[3] = 4\n",
    "\n",
    "for i in range(4, 11):\n",
    "    cache[i] = sum(cache[i - 3:i])\n",
    "\n",
    "T = int(input())\n",
    "for _ in range(T):\n",
    "    print(cache[int(input())])"
   ],
   "metadata": {
    "collapsed": false,
    "ExecuteTime": {
     "end_time": "2024-07-21T04:51:59.634594500Z",
     "start_time": "2024-07-21T04:51:46.480527200Z"
    }
   },
   "id": "5f2e28e0e7764579",
   "execution_count": 4
  },
  {
   "cell_type": "markdown",
   "source": [
    "# 구간 합 구하기 4"
   ],
   "metadata": {
    "collapsed": false
   },
   "id": "d890f0f9abffc33d"
  },
  {
   "cell_type": "code",
   "outputs": [
    {
     "name": "stdout",
     "output_type": "stream",
     "text": [
      "12\n",
      "9\n",
      "1\n"
     ]
    }
   ],
   "source": [
    "# import sys\n",
    "# input = sys.stdin.readline\n",
    "\n",
    "N, M = map(int, input().split())\n",
    "num_lst = list(map(int, input().split()))\n",
    "cumsum_lst = [0]\n",
    "\n",
    "cumsum = 0\n",
    "for i in range(len(num_lst)):\n",
    "    cumsum += num_lst[i]\n",
    "    cumsum_lst.append(cumsum)\n",
    "for _ in range(M):\n",
    "    a, b = map(int, input().split())\n",
    "    print(cumsum_lst[b] - cumsum_lst[a - 1])"
   ],
   "metadata": {
    "collapsed": false,
    "ExecuteTime": {
     "end_time": "2024-07-23T05:49:19.653964Z",
     "start_time": "2024-07-23T05:49:04.738547600Z"
    }
   },
   "id": "15baa15fa75e288d",
   "execution_count": 12
  },
  {
   "cell_type": "markdown",
   "source": [
    "# 나무 자르기"
   ],
   "metadata": {
    "collapsed": false
   },
   "id": "872d5139760405a8"
  },
  {
   "cell_type": "code",
   "outputs": [
    {
     "name": "stdout",
     "output_type": "stream",
     "text": [
      "36\n"
     ]
    }
   ],
   "source": [
    "# import sys\n",
    "# input = sys.stdin.readline\n",
    "\n",
    "N, M = map(int, input().split())\n",
    "height_lst = list(map(int, input().split()))\n",
    "start = 1\n",
    "end = max(height_lst)\n",
    "result = 0\n",
    "\n",
    "while (start <= end):\n",
    "    mid = (start + end) // 2\n",
    "    quotients = [h - mid for h in height_lst if h - mid > 0]\n",
    "\n",
    "    if sum(quotients) >= M:\n",
    "        result = mid\n",
    "        start = mid + 1\n",
    "    else:\n",
    "        end = mid - 1\n",
    "\n",
    "print(result)"
   ],
   "metadata": {
    "collapsed": false,
    "ExecuteTime": {
     "end_time": "2024-07-24T05:02:42.170937900Z",
     "start_time": "2024-07-24T05:02:31.942745700Z"
    }
   },
   "id": "c7658a61451fa0d4",
   "execution_count": 34
  },
  {
   "cell_type": "markdown",
   "source": [
    "# 연결 요소의 갯수"
   ],
   "metadata": {
    "collapsed": false
   },
   "id": "21dca46a87ba1072"
  },
  {
   "cell_type": "code",
   "outputs": [
    {
     "name": "stdout",
     "output_type": "stream",
     "text": [
      "2\n"
     ]
    }
   ],
   "source": [
    "# import sys\n",
    "# input = sys.stdin.readline\n",
    "\n",
    "from collections import deque\n",
    "\n",
    "N, T = map(int, input().split())\n",
    "graph = [[] for _ in range(N + 1)]\n",
    "\n",
    "for i in range(T):\n",
    "    u, v = map(int, input().split())\n",
    "    graph[u].append(v)\n",
    "    graph[v].append(u)\n",
    "\n",
    "\n",
    "def bfs(graph, start, visited):\n",
    "    queue = deque([start])\n",
    "    visited[start] = True\n",
    "\n",
    "    while queue:\n",
    "        v = queue.popleft()\n",
    "\n",
    "        for i in graph[v]:\n",
    "            if not visited[i]:\n",
    "                queue.append(i)\n",
    "                visited[i] = True\n",
    "\n",
    "\n",
    "count = 0\n",
    "visited = [False] * (N + 1)\n",
    "for i in range(1, N + 1):\n",
    "    if not visited[i]:\n",
    "        bfs(graph, i, visited)\n",
    "        count += 1\n",
    "\n",
    "print(count)"
   ],
   "metadata": {
    "collapsed": false,
    "ExecuteTime": {
     "end_time": "2024-07-25T09:07:27.042331300Z",
     "start_time": "2024-07-25T09:07:17.303988700Z"
    }
   },
   "id": "89dd1358de5c7e15",
   "execution_count": 38
  },
  {
   "cell_type": "code",
   "outputs": [
    {
     "name": "stdout",
     "output_type": "stream",
     "text": [
      "2\n"
     ]
    }
   ],
   "source": [
    "# import sys\n",
    "# input = sys.stdin.readline\n",
    "\n",
    "N, T = map(int, input().split())\n",
    "graph = [[] for _ in range(N + 1)]\n",
    "\n",
    "for i in range(T):\n",
    "    u, v = map(int, input().split())\n",
    "    graph[u].append(v)\n",
    "    graph[v].append(u)\n",
    "\n",
    "\n",
    "def dfs(graph, v, visited):\n",
    "    visited[v] = True\n",
    "    for i in graph[v]:\n",
    "        if not visited[i]:\n",
    "            dfs(graph, i, visited)\n",
    "\n",
    "\n",
    "count = 0\n",
    "visited = [False] * (N + 1)\n",
    "for i in range(1, N + 1):\n",
    "    if not visited[i]:\n",
    "        dfs(graph, i, visited)\n",
    "        count += 1\n",
    "\n",
    "print(count)"
   ],
   "metadata": {
    "collapsed": false
   },
   "id": "7255778c2771150f",
   "execution_count": 38
  },
  {
   "cell_type": "markdown",
   "source": [
    "# 2xn 타일링"
   ],
   "metadata": {
    "collapsed": false
   },
   "id": "2541b392cc315ca1"
  },
  {
   "cell_type": "code",
   "outputs": [],
   "source": [
    "# import sys\n",
    "# input = sys.stdin.readline\n",
    "\n",
    "N = int(input())\n",
    "\n",
    "\n",
    "def combination(n, k):\n",
    "    a = 1\n",
    "    for i in range(n, n - k, -1):\n",
    "        a *= i\n",
    "    b = 1\n",
    "    for i in range(1, k + 1):\n",
    "        b *= i\n",
    "    return a // b\n",
    "\n",
    "\n",
    "i = 0\n",
    "ans = 0\n",
    "while (N - 2 * i) >= 0:\n",
    "    ans += combination(N - i, i)\n",
    "    i += 1\n",
    "\n",
    "print(ans % 10007)"
   ],
   "metadata": {
    "collapsed": false,
    "ExecuteTime": {
     "end_time": "2024-07-26T06:48:42.489369100Z",
     "start_time": "2024-07-26T06:48:40.795012800Z"
    }
   },
   "id": "81ccc9e4d1485e72",
   "execution_count": 19
  },
  {
   "cell_type": "code",
   "outputs": [
    {
     "name": "stdout",
     "output_type": "stream",
     "text": [
      "55\n"
     ]
    }
   ],
   "source": [
    "N = int(input())\n",
    "\n",
    "# 동적 계획법을 사용한 배열 초기화\n",
    "dp = [0] * (N + 1)\n",
    "\n",
    "# 기본 경우 설정\n",
    "dp[1] = 1\n",
    "dp[2] = 2\n",
    "\n",
    "# 점화식을 사용하여 dp 배열 채우기\n",
    "for i in range(3, N + 1):\n",
    "    dp[i] = dp[i - 1] + dp[i - 2]\n",
    "\n",
    "# 결과를 10,007로 나눈 나머지 출력\n",
    "print(dp[N] % 10007)"
   ],
   "metadata": {
    "collapsed": false,
    "ExecuteTime": {
     "end_time": "2024-07-26T06:57:56.140544700Z",
     "start_time": "2024-07-26T06:57:54.437494700Z"
    }
   },
   "id": "5d719f398f6e9fc8",
   "execution_count": 25
  },
  {
   "cell_type": "markdown",
   "source": [
    "# 좌표압축"
   ],
   "metadata": {
    "collapsed": false
   },
   "id": "ecac332583389565"
  },
  {
   "cell_type": "code",
   "outputs": [],
   "source": [
    "# import sys\n",
    "# input = sys.stdin.readline\n",
    "\n",
    "T = int(input())\n",
    "num_lst = list(map(int, input().split()))\n",
    "unique_lst = sorted(list(set(num_lst)))\n",
    "\n",
    "index_lst = [[] for _ in range(T)]\n",
    "for i, num in enumerate(unique_lst):\n",
    "    index_lst[i].append(num)\n",
    "\n",
    "compressed_lst = [idx for p in num_lst for idx, sub_lst in enumerate(index_lst) if p in sub_lst]\n",
    "print(' '.join(map(str, compressed_lst)))"
   ],
   "metadata": {
    "collapsed": false,
    "ExecuteTime": {
     "end_time": "2024-07-28T08:29:09.125562Z",
     "start_time": "2024-07-28T08:29:02.249094Z"
    }
   },
   "id": "7156b60f6071691a",
   "execution_count": 4
  },
  {
   "cell_type": "code",
   "outputs": [
    {
     "name": "stdout",
     "output_type": "stream",
     "text": [
      "2 3 0 3 1\n"
     ]
    }
   ],
   "source": [
    "# import sys\n",
    "# input = sys.stdin.readline\n",
    "\n",
    "T = int(input())\n",
    "num_lst = list(map(int, input().split()))\n",
    "unique_lst = sorted(set(num_lst))\n",
    "\n",
    "num_to_index = {num: i for i, num in enumerate(unique_lst)}\n",
    "compressed_lst = [num_to_index[num] for num in num_lst]\n",
    "print(' '.join(map(str, compressed_lst)))"
   ],
   "metadata": {
    "collapsed": false,
    "ExecuteTime": {
     "end_time": "2024-07-28T08:53:11.379115700Z",
     "start_time": "2024-07-28T08:53:03.166958400Z"
    }
   },
   "id": "dd359c958f2142e6",
   "execution_count": 3
  },
  {
   "cell_type": "markdown",
   "source": [
    "# 색종이 만들기"
   ],
   "metadata": {
    "collapsed": false
   },
   "id": "7f5914102f34dc3"
  },
  {
   "cell_type": "code",
   "outputs": [],
   "source": [
    "T = int(input())\n",
    "board = [list(map(int, input().split())) for _ in range(T)]"
   ],
   "metadata": {
    "collapsed": false,
    "ExecuteTime": {
     "end_time": "2024-07-28T09:03:13.545490Z",
     "start_time": "2024-07-28T09:02:29.349000400Z"
    }
   },
   "id": "d747e3f599c16955",
   "execution_count": 1
  },
  {
   "cell_type": "code",
   "outputs": [],
   "source": [
    "def DFS(x, y, n):\n",
    "    global white, blue\n",
    "    color = board[x][y]\n",
    "    same_color = True\n",
    "\n",
    "    for i in range(x, x + n):\n",
    "        for j in range(y, y + n):\n",
    "            if board[i][j] != color:\n",
    "                same_color = False\n",
    "                break\n",
    "        if not same_color:\n",
    "            break\n",
    "\n",
    "    if same_color:\n",
    "        if color == 0:\n",
    "            white += 1\n",
    "        else:\n",
    "            blue += 1\n",
    "    else:\n",
    "        half = n // 2\n",
    "        DFS(x, y, half)\n",
    "        DFS(x, y + half, half)\n",
    "        DFS(x + half, y, half)\n",
    "        DFS(x + half, y + half, half)\n",
    "\n",
    "\n",
    "white = 0\n",
    "blue = 0\n",
    "\n",
    "DFS(0, 0, T)\n",
    "\n",
    "print(white)\n",
    "print(blue)"
   ],
   "metadata": {
    "collapsed": false
   },
   "id": "5e06414765e13199",
   "execution_count": null
  },
  {
   "cell_type": "code",
   "outputs": [
    {
     "name": "stdout",
     "output_type": "stream",
     "text": [
      "deque([(0, 0, 8)])\n",
      "deque([(0, 0, 4), (0, 4, 4), (4, 0, 4), (4, 4, 4)])\n",
      "deque([(0, 4, 4), (4, 0, 4), (4, 4, 4), (0, 0, 2), (0, 2, 2), (2, 0, 2), (2, 2, 2)])\n",
      "deque([(4, 0, 4), (4, 4, 4), (0, 0, 2), (0, 2, 2), (2, 0, 2), (2, 2, 2), (0, 4, 2), (0, 6, 2), (2, 4, 2), (2, 6, 2)])\n",
      "deque([(4, 4, 4), (0, 0, 2), (0, 2, 2), (2, 0, 2), (2, 2, 2), (0, 4, 2), (0, 6, 2), (2, 4, 2), (2, 6, 2), (4, 0, 2), (4, 2, 2), (6, 0, 2), (6, 2, 2)])\n",
      "deque([(0, 0, 2), (0, 2, 2), (2, 0, 2), (2, 2, 2), (0, 4, 2), (0, 6, 2), (2, 4, 2), (2, 6, 2), (4, 0, 2), (4, 2, 2), (6, 0, 2), (6, 2, 2)])\n",
      "deque([(0, 2, 2), (2, 0, 2), (2, 2, 2), (0, 4, 2), (0, 6, 2), (2, 4, 2), (2, 6, 2), (4, 0, 2), (4, 2, 2), (6, 0, 2), (6, 2, 2)])\n",
      "deque([(2, 0, 2), (2, 2, 2), (0, 4, 2), (0, 6, 2), (2, 4, 2), (2, 6, 2), (4, 0, 2), (4, 2, 2), (6, 0, 2), (6, 2, 2)])\n",
      "deque([(2, 2, 2), (0, 4, 2), (0, 6, 2), (2, 4, 2), (2, 6, 2), (4, 0, 2), (4, 2, 2), (6, 0, 2), (6, 2, 2)])\n",
      "deque([(0, 4, 2), (0, 6, 2), (2, 4, 2), (2, 6, 2), (4, 0, 2), (4, 2, 2), (6, 0, 2), (6, 2, 2)])\n",
      "deque([(0, 6, 2), (2, 4, 2), (2, 6, 2), (4, 0, 2), (4, 2, 2), (6, 0, 2), (6, 2, 2)])\n",
      "deque([(2, 4, 2), (2, 6, 2), (4, 0, 2), (4, 2, 2), (6, 0, 2), (6, 2, 2)])\n",
      "deque([(2, 6, 2), (4, 0, 2), (4, 2, 2), (6, 0, 2), (6, 2, 2)])\n",
      "deque([(4, 0, 2), (4, 2, 2), (6, 0, 2), (6, 2, 2)])\n",
      "deque([(4, 2, 2), (6, 0, 2), (6, 2, 2), (4, 0, 1), (4, 1, 1), (5, 0, 1), (5, 1, 1)])\n",
      "deque([(6, 0, 2), (6, 2, 2), (4, 0, 1), (4, 1, 1), (5, 0, 1), (5, 1, 1)])\n",
      "deque([(6, 2, 2), (4, 0, 1), (4, 1, 1), (5, 0, 1), (5, 1, 1)])\n",
      "deque([(4, 0, 1), (4, 1, 1), (5, 0, 1), (5, 1, 1)])\n",
      "deque([(4, 1, 1), (5, 0, 1), (5, 1, 1)])\n",
      "deque([(5, 0, 1), (5, 1, 1)])\n",
      "deque([(5, 1, 1)])\n",
      "9\n",
      "7\n"
     ]
    }
   ],
   "source": [
    "from collections import deque\n",
    "\n",
    "\n",
    "def BFS():\n",
    "    global white, blue\n",
    "    queue = deque([(0, 0, T)])\n",
    "\n",
    "    while queue:\n",
    "        print(queue)\n",
    "        x, y, n = queue.popleft()\n",
    "        color = board[x][y]\n",
    "        same_color = True\n",
    "\n",
    "        for i in range(x, x + n):\n",
    "            for j in range(y, y + n):\n",
    "                if board[i][j] != color:\n",
    "                    same_color = False\n",
    "                    break\n",
    "            if not same_color:\n",
    "                break\n",
    "\n",
    "        if same_color:\n",
    "            if color == 0:\n",
    "                white += 1\n",
    "            else:\n",
    "                blue += 1\n",
    "        else:\n",
    "            half = n // 2\n",
    "            queue.append((x, y, half))\n",
    "            queue.append((x, y + half, half))\n",
    "            queue.append((x + half, y, half))\n",
    "            queue.append((x + half, y + half, half))\n",
    "\n",
    "\n",
    "white = 0\n",
    "blue = 0\n",
    "\n",
    "BFS()\n",
    "\n",
    "print(white)\n",
    "print(blue)"
   ],
   "metadata": {
    "collapsed": false,
    "ExecuteTime": {
     "end_time": "2024-07-28T09:22:44.155522800Z",
     "start_time": "2024-07-28T09:22:44.081461200Z"
    }
   },
   "id": "e06895f2cf29a976",
   "execution_count": 14
  },
  {
   "cell_type": "markdown",
   "source": [
    "# 채권가격"
   ],
   "metadata": {
    "collapsed": false
   },
   "id": "1e4e3b48e7cb0bad"
  },
  {
   "cell_type": "code",
   "outputs": [
    {
     "name": "stdout",
     "output_type": "stream",
     "text": [
      "The price of the bond: 9839.16원\n"
     ]
    }
   ],
   "source": [
    "def cal_bond_price(par, c, y, t, T, m):\n",
    "    '''\n",
    "    :param par: 액면가\n",
    "    :param c: 표면금리\n",
    "    :param y: YTM\n",
    "    :param t: 발행년도\n",
    "    :param T: 만기년도\n",
    "    :param m: 복리주기\n",
    "    :return: 채권가격\n",
    "    '''\n",
    "    price = 0\n",
    "    n = (T - t) * m\n",
    "    for i in range(1, n):\n",
    "        price += ((c / m) * par) / (1 + y / m) ** i\n",
    "\n",
    "    price += par / (1 + y / m) ** n\n",
    "    return price\n",
    "\n",
    "\n",
    "par = 10000\n",
    "c = 0.0325\n",
    "y = 0.033\n",
    "t = 2024\n",
    "T = 2029\n",
    "m = 2\n",
    "\n",
    "price = cal_bond_price(par, c, y, t, T, m)\n",
    "print(f\"The price of the bond: {price:.2f}원\")"
   ],
   "metadata": {
    "collapsed": false,
    "ExecuteTime": {
     "end_time": "2024-08-02T08:52:26.268151900Z",
     "start_time": "2024-08-02T08:52:26.179121400Z"
    }
   },
   "id": "206ab56c66a45563",
   "execution_count": 15
  },
  {
   "cell_type": "code",
   "outputs": [
    {
     "name": "stdout",
     "output_type": "stream",
     "text": [
      "The bond price is: 10144.09\n"
     ]
    }
   ],
   "source": [
    "def bond_price(face_value, coupon_rate, periods_per_year, years_to_maturity, market_rate, value_date, last_pay_date,\n",
    "               next_pay_date):\n",
    "    \"\"\"\n",
    "    Calculate the price of a fixed-rate bond.\n",
    "    \n",
    "    Parameters:\n",
    "    face_value (float): The face value of the bond\n",
    "    coupon_rate (float): The annual coupon rate of the bond\n",
    "    periods_per_year (int): Number of coupon payments per year\n",
    "    years_to_maturity (int): Number of years to maturity\n",
    "    market_rate (float): The annual market interest rate\n",
    "    value_date (datetime): The current date\n",
    "    last_pay_date (datetime): The last coupon payment date\n",
    "    next_pay_date (datetime): The next coupon payment date\n",
    "    \n",
    "    Returns:\n",
    "    float: The price of the bond\n",
    "    \"\"\"\n",
    "    import numpy as np\n",
    "    from datetime import datetime\n",
    "\n",
    "    # Calculate the number of periods\n",
    "    n = periods_per_year * years_to_maturity\n",
    "\n",
    "    # Calculate the coupon payment\n",
    "    coupon = face_value * coupon_rate / periods_per_year\n",
    "\n",
    "    # Calculate the discount factor alpha\n",
    "    alpha = (next_pay_date - value_date).days / (next_pay_date - last_pay_date).days\n",
    "\n",
    "    # Calculate the discount factor DF\n",
    "    r = market_rate / periods_per_year\n",
    "    DF = 1 / (1 + r) ** alpha\n",
    "\n",
    "    # Calculate the present value of coupon payments\n",
    "    coupon_pv = sum([coupon / (1 + r) ** t for t in range(1, n + 1)])\n",
    "\n",
    "    # Calculate the present value of the face value\n",
    "    face_value_pv = face_value / (1 + r) ** n\n",
    "\n",
    "    # Calculate the bond price\n",
    "    bond_price = DF * (coupon_pv + face_value_pv)\n",
    "\n",
    "    return bond_price\n",
    "\n",
    "\n",
    "# Example usage\n",
    "from datetime import datetime\n",
    "\n",
    "face_value = 10000\n",
    "coupon_rate = 0.0325\n",
    "periods_per_year = 2\n",
    "years_to_maturity = 10\n",
    "market_rate = 0.0304\n",
    "value_date = datetime(2024, 7, 29)\n",
    "last_pay_date = datetime(2024, 3, 10)\n",
    "next_pay_date = datetime(2024, 9, 10)\n",
    "\n",
    "price = bond_price(face_value, coupon_rate, periods_per_year, years_to_maturity, market_rate, value_date, last_pay_date,\n",
    "                   next_pay_date)\n",
    "print(f\"The bond price is: {price:.2f}\")\n"
   ],
   "metadata": {
    "collapsed": false,
    "ExecuteTime": {
     "end_time": "2024-08-08T13:20:38.103886700Z",
     "start_time": "2024-08-08T13:20:37.986974Z"
    }
   },
   "id": "430ba3217ec85828",
   "execution_count": 2
  },
  {
   "cell_type": "code",
   "outputs": [],
   "source": [
    "import numpy as np\n",
    "import pandas as pd\n",
    "\n",
    "df = pd.read_excel('table.xlsx')\n",
    "df['Coupon Rate'] = df['Coupon Rate(%)'] / 100\n",
    "\n",
    "n_bonds = len(df)\n",
    "C = np.zeros((n_bonds, n_bonds))\n",
    "\n",
    "for i in range(n_bonds):\n",
    "    maturity_index = int(df['Time to Maturity'][i] * 2) - 1\n",
    "    for j in range(maturity_index + 1):\n",
    "        if j == maturity_index:  # 만기 시에는 쿠폰 + 원금\n",
    "            C[i, j] = df['Coupon Rate'][i] * 100 + 100\n",
    "        else:  # 만기 전에는 쿠폰만\n",
    "            C[i, j] = df['Coupon Rate'][i] * 100\n",
    "\n",
    "P = np.array(df['Mid'])\n",
    "D = np.linalg.inv(C).dot(P)\n",
    "df['Discount Factor'] = pd.DataFrame(D)\n",
    "df['Spot Rate'] = -np.log(df['Discount Factor']) / df['Time to Maturity']\n",
    "\n",
    "C_df = pd.DataFrame(C, columns=[f'T{i + 1}' for i in range(n_bonds)], index=[f'Bond {i + 1}' for i in range(n_bonds)])\n",
    "D_df = pd.DataFrame(D, index=[f'T{i + 1}' for i in range(n_bonds)], columns=['Discount Factor'])\n",
    "C_df.to_csv('cash_flow.csv')\n",
    "pd.DataFrame(np.linalg.inv(C)).to_csv('inverse_cash_flow.csv')\n",
    "pd.DataFrame(P).to_csv('P.csv')\n",
    "pd.DataFrame(D).to_csv('D.csv')\n",
    "df['Spot Rate'].to_csv('spot.csv')"
   ],
   "metadata": {
    "collapsed": false,
    "ExecuteTime": {
     "end_time": "2024-08-17T02:05:45.101913300Z",
     "start_time": "2024-08-17T02:05:45.021601800Z"
    }
   },
   "id": "2e40a39d9a09a2fe",
   "execution_count": 19
  },
  {
   "cell_type": "code",
   "outputs": [
    {
     "data": {
      "text/plain": "<Figure size 4000x2800 with 0 Axes>"
     },
     "metadata": {},
     "output_type": "display_data"
    },
    {
     "data": {
      "text/plain": "<Figure size 4000x2800 with 2 Axes>",
      "image/png": "[encoded data removed]"
     },
     "metadata": {},
     "output_type": "display_data"
    }
   ],
   "source": [
    "import matplotlib.pyplot as plt\n",
    "\n",
    "plt.figure(figsize=(10, 7), dpi=400)\n",
    "\n",
    "# 왼쪽 축: Discount Factor\n",
    "fig, ax1 = plt.subplots(figsize=(10, 7), dpi=400)\n",
    "ax1.plot(df['Time to Maturity'], df['Discount Factor'], color='blue', marker='o', label='Discount Factor')\n",
    "ax1.set_xlabel('Time to Maturity')\n",
    "ax1.set_ylabel('Discount Factor', color='blue')\n",
    "ax1.tick_params(axis='y', labelcolor='blue')\n",
    "\n",
    "# 오른쪽 축: Spot Rate\n",
    "ax2 = ax1.twinx()\n",
    "ax2.plot(df['Time to Maturity'], df['Spot Rate'], color='orange', marker='o', label='Spot Rate')\n",
    "ax2.set_ylabel('Spot Rate', color='orange')\n",
    "ax2.tick_params(axis='y', labelcolor='orange')\n",
    "\n",
    "# 제목과 그래프 보여주기\n",
    "plt.title('Discount Factor and Spot Rate')\n",
    "fig.tight_layout()  # 그래프 요소 간 간격 조정\n",
    "plt.show()"
   ],
   "metadata": {
    "collapsed": false,
    "ExecuteTime": {
     "end_time": "2024-08-17T02:25:49.702647700Z",
     "start_time": "2024-08-17T02:25:48.752230100Z"
    }
   },
   "id": "bbeb91c0fb207520",
   "execution_count": 42
  },
  {
   "cell_type": "code",
   "outputs": [
    {
     "name": "stdout",
     "output_type": "stream",
     "text": [
      "The bond price is: 9262.2252\n"
     ]
    }
   ],
   "source": [
    "import numpy as np\n",
    "\n",
    "\n",
    "def bond_price_sc(spot_rates, coupon_rate, maturity):\n",
    "    price = 0.0\n",
    "    coupon = coupon_rate / 100.0\n",
    "    time_periods = np.arange(0.5, maturity + 0.5, 0.5)\n",
    "    for i, t in enumerate(time_periods):\n",
    "        df = 1 / (1 + spot_rates[i]) ** t\n",
    "        if t == maturity:\n",
    "            price += (coupon + 1) * df\n",
    "        else:\n",
    "            price += coupon * df\n",
    "\n",
    "    return price\n",
    "\n",
    "\n",
    "coupon_rate = 3.0\n",
    "maturity = 10\n",
    "par = 10000\n",
    "price = bond_price_sc(np.array(df['Spot Rate']), coupon_rate, maturity)\n",
    "print(f\"The bond price is: {par * price:.4f}\")"
   ],
   "metadata": {
    "collapsed": false,
    "ExecuteTime": {
     "end_time": "2024-08-17T02:31:33.354875700Z",
     "start_time": "2024-08-17T02:31:33.264728700Z"
    }
   },
   "id": "29d2e1c7b059c494",
   "execution_count": 46
  },
  {
   "cell_type": "code",
   "outputs": [],
   "source": [
    "import pandas as pd\n",
    "import numpy as np\n",
    "import math\n",
    "\n",
    "# txt 파일이 탭으로 구분된 경우\n",
    "df = pd.read_csv('data1.txt', delimiter='\\t')"
   ],
   "metadata": {
    "collapsed": false,
    "ExecuteTime": {
     "end_time": "2024-10-08T11:38:32.570914200Z",
     "start_time": "2024-10-08T11:38:32.420386300Z"
    }
   },
   "id": "d31160bcf0909273",
   "execution_count": 50
  },
  {
   "cell_type": "code",
   "outputs": [],
   "source": "lamda = 1 / df.mean()",
   "metadata": {
    "collapsed": false,
    "ExecuteTime": {
     "end_time": "2024-10-08T11:38:33.101553300Z",
     "start_time": "2024-10-08T11:38:32.995895800Z"
    }
   },
   "id": "afc92936a356cad7",
   "execution_count": 51
  },
  {
   "cell_type": "code",
   "outputs": [],
   "source": [
    "# 데이터를 구간으로 나누기 (bins는 자동으로 설정)\n",
    "bins = pd.cut(df.iloc[:, 0].values, 5)\n",
    "\n",
    "# 각 구간에 해당하는 데이터의 개수 세기\n",
    "bin_counts = bins.value_counts()"
   ],
   "metadata": {
    "collapsed": false,
    "ExecuteTime": {
     "end_time": "2024-10-08T11:38:33.526859200Z",
     "start_time": "2024-10-08T11:38:33.311301200Z"
    }
   },
   "id": "decfb018fd3de165",
   "execution_count": 52
  },
  {
   "cell_type": "code",
   "outputs": [
    {
     "data": {
      "text/plain": "CategoricalIndex([ (2.013, 11.378], (11.378, 20.696], (20.696, 30.014],\n                  (30.014, 39.332],  (39.332, 48.65]],\n                 categories=[(2.013, 11.378], (11.378, 20.696], (20.696, 30.014], (30.014, 39.332], (39.332, 48.65]], ordered=True, dtype='category')"
     },
     "execution_count": 53,
     "metadata": {},
     "output_type": "execute_result"
    }
   ],
   "source": [
    "bin_counts.index"
   ],
   "metadata": {
    "collapsed": false,
    "ExecuteTime": {
     "end_time": "2024-10-08T11:38:33.702860100Z",
     "start_time": "2024-10-08T11:38:33.626411500Z"
    }
   },
   "id": "1b0dab70cbbb24a8",
   "execution_count": 53
  },
  {
   "cell_type": "code",
   "outputs": [
    {
     "name": "stdout",
     "output_type": "stream",
     "text": [
      "구간 경계: [ 2.01341 11.378   20.696   30.014   39.332   48.65   ]\n",
      "구간 길이: [9.36459 9.318   9.318   9.318   9.318  ]\n"
     ]
    }
   ],
   "source": [
    "# 구간 경계 출력\n",
    "bin_edges = pd.cut(df.iloc[:, 0].values, 5, retbins=True)[1]\n",
    "print(\"구간 경계:\", bin_edges)\n",
    "\n",
    "# 구간 길이 계산\n",
    "bin_widths = np.diff(bin_edges)\n",
    "print(\"구간 길이:\", bin_widths)"
   ],
   "metadata": {
    "collapsed": false,
    "ExecuteTime": {
     "end_time": "2024-10-08T11:38:34.133277500Z",
     "start_time": "2024-10-08T11:38:33.992049500Z"
    }
   },
   "id": "a77bae476c4c4762",
   "execution_count": 54
  },
  {
   "cell_type": "code",
   "outputs": [
    {
     "data": {
      "text/plain": "array([ 2.01341, 11.378  , 20.696  , 30.014  , 39.332  , 48.65   ])"
     },
     "execution_count": 70,
     "metadata": {},
     "output_type": "execute_result"
    }
   ],
   "source": [
    "bin_edges"
   ],
   "metadata": {
    "collapsed": false,
    "ExecuteTime": {
     "end_time": "2024-10-08T11:46:15.027875600Z",
     "start_time": "2024-10-08T11:46:14.852191900Z"
    }
   },
   "id": "47f109b0f4d8a961",
   "execution_count": 70
  },
  {
   "cell_type": "code",
   "outputs": [
    {
     "name": "stdout",
     "output_type": "stream",
     "text": [
      "E: 19.6135\n",
      "X: 2.0795\n",
      "E: 8.6787\n",
      "X: 0.2012\n",
      "E: 3.8683\n",
      "X: 0.1949\n",
      "E: 1.7242\n",
      "X: 0.3042\n",
      "E: 0.7685\n",
      "X: 0.0697\n"
     ]
    }
   ],
   "source": [
    "X_lst = []\n",
    "for i in range(5):\n",
    "    E = 42 * ((1 - np.exp(-lamda * bin_edges[i + 1])) - (1 - np.exp(-lamda * bin_edges[i])))\n",
    "    print(f'E: {float(E.iloc[0]):.4f}')\n",
    "    X = (list(bin_counts)[i] - E) ** 2 / E\n",
    "    X_lst.append(X)\n",
    "    print(f'X: {float(X.iloc[0]):.4f}')"
   ],
   "metadata": {
    "collapsed": false,
    "ExecuteTime": {
     "end_time": "2024-10-08T11:55:15.337956500Z",
     "start_time": "2024-10-08T11:55:15.193537100Z"
    }
   },
   "id": "6c849df91809153f",
   "execution_count": 74
  },
  {
   "cell_type": "code",
   "outputs": [
    {
     "data": {
      "text/plain": "27.88    2.849491\ndtype: float64"
     },
     "execution_count": 73,
     "metadata": {},
     "output_type": "execute_result"
    }
   ],
   "source": [
    "sum(X_lst)"
   ],
   "metadata": {
    "collapsed": false,
    "ExecuteTime": {
     "end_time": "2024-10-08T11:54:26.436687900Z",
     "start_time": "2024-10-08T11:54:26.365846200Z"
    }
   },
   "id": "21adfae7e37c1b0b",
   "execution_count": 73
  },
  {
   "cell_type": "code",
   "outputs": [
    {
     "name": "stdout",
     "output_type": "stream",
     "text": [
      "확률 합: 1.000000\n"
     ]
    },
    {
     "data": {
      "text/plain": "<Figure size 640x480 with 1 Axes>",
      "image/png": "[encoded data removed]"
     },
     "metadata": {},
     "output_type": "display_data"
    }
   ],
   "source": [
    "import numpy as np\n",
    "import matplotlib.pyplot as plt\n",
    "from scipy.stats import poisson\n",
    "\n",
    "# 평균이 1/10인 포아송 분포의 람다값\n",
    "lambda_ = 1 / 10\n",
    "\n",
    "# 구간 정의 (k = 0부터 k_max까지)\n",
    "k_max = 30  # 최대 구간\n",
    "k_values = np.arange(0, k_max + 1)  # 0부터 k_max까지 정수 값\n",
    "\n",
    "# 각 k값에 대한 확률 계산\n",
    "poisson_probs = poisson.pmf(k_values, lambda_)\n",
    "\n",
    "# 확률 합 확인\n",
    "total_probability = poisson_probs.sum()\n",
    "print(f\"확률 합: {total_probability:.6f}\")  # 거의 1이어야 함\n",
    "\n",
    "# 결과 시각화\n",
    "plt.bar(k_values, poisson_probs, width=0.8, align='center', alpha=0.7, label=\"P(X=k)\")\n",
    "plt.xlabel('k (Number of Events)')\n",
    "plt.ylabel('Probability')\n",
    "plt.title('Poisson Distribution (λ=1/10)')\n",
    "plt.legend()\n",
    "plt.grid(axis='y', linestyle='--', alpha=0.7)\n",
    "plt.show()"
   ],
   "metadata": {
    "collapsed": false,
    "ExecuteTime": {
     "end_time": "2024-11-17T10:57:28.328774800Z",
     "start_time": "2024-11-17T10:57:26.719793800Z"
    }
   },
   "id": "211d7fbae687ac03",
   "execution_count": 19
  },
  {
   "cell_type": "code",
   "outputs": [],
   "source": "ex_df = pd.DataFrame(poisson_probs).reset_index()",
   "metadata": {
    "collapsed": false,
    "ExecuteTime": {
     "end_time": "2024-11-17T10:57:47.855963Z",
     "start_time": "2024-11-17T10:57:47.691004300Z"
    }
   },
   "id": "930193652d38c1e9",
   "execution_count": 20
  },
  {
   "cell_type": "code",
   "outputs": [
    {
     "data": {
      "text/plain": "0.9999999999999999"
     },
     "execution_count": 27,
     "metadata": {},
     "output_type": "execute_result"
    }
   ],
   "source": [
    "ex_df[0].sum()"
   ],
   "metadata": {
    "collapsed": false,
    "ExecuteTime": {
     "end_time": "2024-11-17T11:52:08.288808900Z",
     "start_time": "2024-11-17T11:52:08.180996Z"
    }
   },
   "id": "e942c4668f88b6c9",
   "execution_count": 27
  },
  {
   "metadata": {
    "ExecuteTime": {
     "end_time": "2025-03-13T03:44:29.192644Z",
     "start_time": "2025-03-13T03:44:27.954125Z"
    }
   },
   "cell_type": "code",
   "source": [
    "import numpy as np\n",
    "import seaborn as sns\n",
    "import matplotlib.pyplot as plt\n",
    "from sklearn.datasets import make_classification\n",
    "from sklearn.preprocessing import StandardScaler\n",
    "from sklearn.ensemble import RandomForestClassifier\n",
    "from sklearn.model_selection import train_test_split\n",
    "from sklearn.metrics import accuracy_score, confusion_matrix\n",
    "\n",
    "\n",
    "X, y = make_classification(n_samples=500, n_features=10, n_classes=2, random_state=42)\n",
    "X_train, X_val, y_train, y_val = train_test_split(X, y, test_size=0.2, random_state=42)\n",
    "\n",
    "# 데이터 정규화\n",
    "scaler = StandardScaler()\n",
    "X_train_norm = scaler.fit_transform(X_train)\n",
    "X_val_norm = scaler.transform(X_val)\n",
    "\n",
    "# 하이퍼파라미터 튜닝을 위한 변수 초기화\n",
    "best_rf = None\n",
    "best_rf_acc = 0  # Accuracy는 높을수록 좋음\n",
    "best_rf_hyperparameter = None\n",
    "n_estimators = [50, 100, 150]\n",
    "max_depths = [50, 75, 100]\n",
    "\n",
    "i = 0\n",
    "for estimator in n_estimators:\n",
    "    i += 1\n",
    "    print(f\"Iteration {i}: Testing n_estimators={estimator}\")\n",
    "\n",
    "    for depth in max_depths:\n",
    "        rf = RandomForestClassifier(max_depth=depth, n_estimators=estimator, random_state=42)\n",
    "        rf.fit(X_train_norm, y_train)\n",
    "        y_pred = rf.predict(X_val_norm)\n",
    "        acc = accuracy_score(y_val, y_pred)\n",
    "\n",
    "        # 최적의 모델인지 확인\n",
    "        if acc > best_rf_acc:\n",
    "            best_rf = rf\n",
    "            best_rf_acc = acc\n",
    "            best_rf_hyperparameter = {'n_estimators': estimator,\n",
    "                                      'max_depth': depth}\n",
    "\n",
    "# 최적의 하이퍼파라미터 출력\n",
    "print(\"Best Hyperparameters for Random Forest Classification: \", best_rf_hyperparameter)\n",
    "print(\"Best Accuracy for Random Forest Classification: \", best_rf_acc)\n",
    "\n",
    "# Confusion Matrix 시각화\n",
    "y_pred = best_rf.predict(X_val_norm)\n",
    "cm = confusion_matrix(y_val, y_pred)\n",
    "\n",
    "plt.figure(figsize=(6, 5))\n",
    "sns.heatmap(cm, annot=True, fmt='d', cmap='Blues', xticklabels=['Class 0', 'Class 1'],\n",
    "            yticklabels=['Class 0', 'Class 1'])\n",
    "plt.xlabel('Predicted Label')\n",
    "plt.ylabel('True Label')\n",
    "plt.title('Confusion Matrix for Best Random Forest Model')\n",
    "plt.show()\n"
   ],
   "id": "5988b414156ab7d",
   "outputs": [
    {
     "name": "stdout",
     "output_type": "stream",
     "text": [
      "Iteration 1: Testing n_estimators=50\n",
      "Iteration 2: Testing n_estimators=100\n",
      "Iteration 3: Testing n_estimators=150\n",
      "Best Hyperparameters for Random Forest Classification:  {'n_estimators': 100, 'max_depth': 50}\n",
      "Best Accuracy for Random Forest Classification:  0.94\n"
     ]
    },
    {
     "data": {
      "text/plain": [
       "<Figure size 600x500 with 2 Axes>"
      ],
      "image/png": "[encoded data removed]"
     },
     "metadata": {},
     "output_type": "display_data"
    }
   ],
   "execution_count": 1
  },
  {
   "metadata": {
    "ExecuteTime": {
     "end_time": "2025-03-31T00:16:33.266769Z",
     "start_time": "2025-03-31T00:16:31.088093Z"
    }
   },
   "cell_type": "code",
   "source": [
    "import torch\n",
    "print(torch.cuda.is_available())  # True여야 정상\n",
    "print(torch.version.cuda)         # 11.3 expected\n",
    "# import signatory"
   ],
   "id": "2e1cc0551aad991a",
   "outputs": [
    {
     "name": "stdout",
     "output_type": "stream",
     "text": [
      "True\n",
      "11.3\n"
     ]
    }
   ],
   "execution_count": 1
  }
 ],
 "metadata": {
  "kernelspec": {
   "display_name": "Python 3 (ipykernel)",
   "language": "python",
   "name": "python3"
  },
  "language_info": {
   "codemirror_mode": {
    "name": "ipython",
    "version": 3
   },
   "file_extension": ".py",
   "mimetype": "text/x-python",
   "name": "python",
   "nbconvert_exporter": "python",
   "pygments_lexer": "ipython3",
   "version": "3.11.5"
  }
 },
 "nbformat": 4,
 "nbformat_minor": 5
}
