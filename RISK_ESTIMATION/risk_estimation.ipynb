{
 "cells": [
  {
   "cell_type": "code",
   "id": "initial_id",
   "metadata": {
    "collapsed": true,
    "ExecuteTime": {
     "end_time": "2025-04-07T07:15:53.294537Z",
     "start_time": "2025-04-07T07:15:52.866456Z"
    }
   },
   "source": [
    "import gc\n",
    "import numpy as np\n",
    "import pandas as pd\n",
    "\n",
    "gc.collect()"
   ],
   "outputs": [
    {
     "data": {
      "text/plain": [
       "0"
      ]
     },
     "execution_count": 2,
     "metadata": {},
     "output_type": "execute_result"
    }
   ],
   "execution_count": 2
  },
  {
   "metadata": {
    "ExecuteTime": {
     "end_time": "2025-04-07T07:40:08.383262Z",
     "start_time": "2025-04-07T07:40:08.367537Z"
    }
   },
   "cell_type": "code",
   "source": "return_df = pd.read_csv('./general_results/result.csv', index_col=0).fillna(0)",
   "id": "83c79d5d9105acaf",
   "outputs": [],
   "execution_count": 10
  },
  {
   "metadata": {
    "ExecuteTime": {
     "end_time": "2025-04-07T07:40:28.362200Z",
     "start_time": "2025-04-07T07:40:28.346411Z"
    }
   },
   "cell_type": "code",
   "source": "return_df",
   "id": "57ba553926421766",
   "outputs": [
    {
     "data": {
      "text/plain": [
       "                            0   S&P 500\n",
       "2010-07-02 00:00:00  0.000000  0.000000\n",
       "2010-07-06 00:00:00  0.000000  0.000000\n",
       "2010-07-07 00:00:00  0.000000  0.000000\n",
       "2010-07-08 00:00:00  0.000000  0.000000\n",
       "2010-07-09 00:00:00  0.000000  0.000000\n",
       "...                       ...       ...\n",
       "2025-03-17 00:00:00  0.042407  0.006396\n",
       "2025-03-18 00:00:00  0.003949 -0.010711\n",
       "2025-03-19 00:00:00 -0.026934  0.010741\n",
       "2025-03-20 00:00:00  0.002069 -0.002187\n",
       "2025-03-21 00:00:00  0.000689  0.000000\n",
       "\n",
       "[3703 rows x 2 columns]"
      ],
      "text/html": [
       "<div>\n",
       "<style scoped>\n",
       "    .dataframe tbody tr th:only-of-type {\n",
       "        vertical-align: middle;\n",
       "    }\n",
       "\n",
       "    .dataframe tbody tr th {\n",
       "        vertical-align: top;\n",
       "    }\n",
       "\n",
       "    .dataframe thead th {\n",
       "        text-align: right;\n",
       "    }\n",
       "</style>\n",
       "<table border=\"1\" class=\"dataframe\">\n",
       "  <thead>\n",
       "    <tr style=\"text-align: right;\">\n",
       "      <th></th>\n",
       "      <th>0</th>\n",
       "      <th>S&amp;P 500</th>\n",
       "    </tr>\n",
       "  </thead>\n",
       "  <tbody>\n",
       "    <tr>\n",
       "      <th>2010-07-02 00:00:00</th>\n",
       "      <td>0.000000</td>\n",
       "      <td>0.000000</td>\n",
       "    </tr>\n",
       "    <tr>\n",
       "      <th>2010-07-06 00:00:00</th>\n",
       "      <td>0.000000</td>\n",
       "      <td>0.000000</td>\n",
       "    </tr>\n",
       "    <tr>\n",
       "      <th>2010-07-07 00:00:00</th>\n",
       "      <td>0.000000</td>\n",
       "      <td>0.000000</td>\n",
       "    </tr>\n",
       "    <tr>\n",
       "      <th>2010-07-08 00:00:00</th>\n",
       "      <td>0.000000</td>\n",
       "      <td>0.000000</td>\n",
       "    </tr>\n",
       "    <tr>\n",
       "      <th>2010-07-09 00:00:00</th>\n",
       "      <td>0.000000</td>\n",
       "      <td>0.000000</td>\n",
       "    </tr>\n",
       "    <tr>\n",
       "      <th>...</th>\n",
       "      <td>...</td>\n",
       "      <td>...</td>\n",
       "    </tr>\n",
       "    <tr>\n",
       "      <th>2025-03-17 00:00:00</th>\n",
       "      <td>0.042407</td>\n",
       "      <td>0.006396</td>\n",
       "    </tr>\n",
       "    <tr>\n",
       "      <th>2025-03-18 00:00:00</th>\n",
       "      <td>0.003949</td>\n",
       "      <td>-0.010711</td>\n",
       "    </tr>\n",
       "    <tr>\n",
       "      <th>2025-03-19 00:00:00</th>\n",
       "      <td>-0.026934</td>\n",
       "      <td>0.010741</td>\n",
       "    </tr>\n",
       "    <tr>\n",
       "      <th>2025-03-20 00:00:00</th>\n",
       "      <td>0.002069</td>\n",
       "      <td>-0.002187</td>\n",
       "    </tr>\n",
       "    <tr>\n",
       "      <th>2025-03-21 00:00:00</th>\n",
       "      <td>0.000689</td>\n",
       "      <td>0.000000</td>\n",
       "    </tr>\n",
       "  </tbody>\n",
       "</table>\n",
       "<p>3703 rows × 2 columns</p>\n",
       "</div>"
      ]
     },
     "execution_count": 12,
     "metadata": {},
     "output_type": "execute_result"
    }
   ],
   "execution_count": 12
  },
  {
   "metadata": {
    "ExecuteTime": {
     "end_time": "2025-04-07T07:42:27.483419Z",
     "start_time": "2025-04-07T07:42:27.467622Z"
    }
   },
   "cell_type": "code",
   "source": [
    "for col in return_df.columns:\n",
    "    print(col)\n",
    "    cl = 5  # confidence level 5%\n",
    "    VaR = np.percentile(return_df[col], cl)\n",
    "    ES = return_df[col][return_df[col] <= VaR].mean()\n",
    "\n",
    "    print(f\"Monte Carlo VaR (5%): {VaR:.4f}\")\n",
    "    print(f\"Monte Carlo ES (5%): {ES:.4f}\\n\")"
   ],
   "id": "6094bf958653e933",
   "outputs": [
    {
     "name": "stdout",
     "output_type": "stream",
     "text": [
      "0\n",
      "Monte Carlo VaR (5%): -0.0229\n",
      "Monte Carlo ES (5%): -0.0374\n",
      "\n",
      "S&P 500\n",
      "Monte Carlo VaR (5%): -0.0165\n",
      "Monte Carlo ES (5%): -0.0264\n",
      "\n"
     ]
    }
   ],
   "execution_count": 15
  },
  {
   "metadata": {
    "ExecuteTime": {
     "end_time": "2025-04-06T09:22:57.907198Z",
     "start_time": "2025-04-06T09:22:57.888769Z"
    }
   },
   "cell_type": "code",
   "source": [
    "# returns: (time, assets) 형태의 과거 수익률 데이터\n",
    "returns = dual_ret\n",
    "\n",
    "# 1. 과거 수익률의 평균/공분산 계산\n",
    "mean_returns = returns.mean()\n",
    "cov_returns = returns.cov()\n",
    "\n",
    "# 2. MC 샘플링\n",
    "n_simulations = 10000\n",
    "n_assets = returns.shape[1]\n",
    "\n",
    "# 다변량 정규분포에서 샘플링\n",
    "simulated_returns = np.random.multivariate_normal(mean_returns, cov_returns, n_simulations)\n",
    "\n",
    "# 3. 포트폴리오 수익률 계산\n",
    "# (여기서는 equal weight, 즉 각 자산 10%씩 투자한다고 가정)\n",
    "weights = np.ones(n_assets) / n_assets\n",
    "portfolio_returns = simulated_returns @ weights\n",
    "\n",
    "# 4. VaR, ES 계산\n",
    "cl = 5  # confidence level 5%\n",
    "VaR = np.percentile(portfolio_returns, cl)\n",
    "ES = portfolio_returns[portfolio_returns <= VaR].mean()\n",
    "\n",
    "print(f\"Monte Carlo VaR (5%): {VaR:.4f}\")\n",
    "print(f\"Monte Carlo ES (5%): {ES:.4f}\")"
   ],
   "id": "397f6850d342c996",
   "outputs": [
    {
     "name": "stdout",
     "output_type": "stream",
     "text": [
      "Monte Carlo VaR (5%): -0.0276\n",
      "Monte Carlo ES (5%): -0.0350\n"
     ]
    }
   ],
   "execution_count": 44
  },
  {
   "metadata": {
    "ExecuteTime": {
     "end_time": "2025-04-06T10:36:20.818842Z",
     "start_time": "2025-04-06T10:36:20.799306Z"
    }
   },
   "cell_type": "code",
   "source": [
    "# 설정\n",
    "n_assets = len(returns.columns)\n",
    "n_days = len(returns.index)\n",
    "n_simulations = 100\n",
    "\n",
    "mu = returns.mean()\n",
    "sigma = returns.std()\n",
    "corr_matrix = returns.corr()\n",
    "cov_matrix = np.outer(sigma, sigma) * corr_matrix\n",
    "L = np.linalg.cholesky(cov_matrix)\n",
    "\n",
    "Z = np.random.normal(size=(n_days, n_assets))  # 표준 정규분포 난수\n",
    "correlated_random = (L @ Z.T).T  # 상관된 난수 만들기\n",
    "\n",
    "# 수익률 생성\n",
    "returns = np.array(mu / n_days) + (correlated_random / np.sqrt(n_days))  # 드리프트 + 변동성\n",
    "\n",
    "# 가격 경로 생성\n",
    "price_paths = (1 + returns).cumprod(axis=0)"
   ],
   "id": "d2f617a4ef1ea76e",
   "outputs": [],
   "execution_count": 126
  }
 ],
 "metadata": {
  "kernelspec": {
   "display_name": "Python 3",
   "language": "python",
   "name": "python3"
  },
  "language_info": {
   "codemirror_mode": {
    "name": "ipython",
    "version": 2
   },
   "file_extension": ".py",
   "mimetype": "text/x-python",
   "name": "python",
   "nbconvert_exporter": "python",
   "pygments_lexer": "ipython2",
   "version": "2.7.6"
  }
 },
 "nbformat": 4,
 "nbformat_minor": 5
}
