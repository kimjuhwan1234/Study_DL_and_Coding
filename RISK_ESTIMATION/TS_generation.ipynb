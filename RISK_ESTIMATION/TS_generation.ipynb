{
 "cells": [
  {
   "cell_type": "code",
   "execution_count": 1,
   "id": "1aa943b524320997",
   "metadata": {
    "ExecuteTime": {
     "end_time": "2025-05-21T03:17:43.608534Z",
     "start_time": "2025-05-21T03:17:42.040818Z"
    }
   },
   "outputs": [
    {
     "name": "stderr",
     "output_type": "stream",
     "text": [
      "/opt/miniconda3/envs/research/lib/python3.9/site-packages/tqdm/auto.py:21: TqdmWarning: IProgress not found. Please update jupyter and ipywidgets. See https://ipywidgets.readthedocs.io/en/stable/user_install.html\n",
      "  from .autonotebook import tqdm as notebook_tqdm\n"
     ]
    },
    {
     "data": {
      "text/plain": [
       "0"
      ]
     },
     "execution_count": 1,
     "metadata": {},
     "output_type": "execute_result"
    }
   ],
   "source": [
    "import gc\n",
    "import argparse\n",
    "from os import path as pt\n",
    "import os\n",
    "\n",
    "import torch\n",
    "import numpy as np\n",
    "import pandas as pd\n",
    "import matplotlib.pyplot as plt\n",
    "\n",
    "from lib import ALGOS\n",
    "from lib.utils import pickle_it\n",
    "from lib.algos.base import BaseConfig\n",
    "from lib.data import get_data2\n",
    "from hyperparameters import SIGCWGAN_CONFIGS\n",
    "from lib.plot import savefig, create_summary\n",
    "\n",
    "gc.collect()"
   ]
  },
  {
   "cell_type": "code",
   "execution_count": 3,
   "id": "b5d9f73aae70a099",
   "metadata": {
    "ExecuteTime": {
     "end_time": "2025-05-21T03:17:43.624510Z",
     "start_time": "2025-05-21T03:17:43.608534Z"
    }
   },
   "outputs": [],
   "source": [
    "def get_algo_config(dataset, data_params):\n",
    "    \"\"\" Get the algorithms parameters. \"\"\"\n",
    "    key = dataset\n",
    "    if dataset == 'VAR':\n",
    "        key += str(data_params['dim'])\n",
    "    elif dataset == 'STOCKS':\n",
    "        key += '_' + '_'.join(data_params['assets'])\n",
    "    return SIGCWGAN_CONFIGS[key]\n",
    "\n",
    "\n",
    "def set_seed(seed):\n",
    "    torch.manual_seed(seed)\n",
    "    np.random.seed(seed)\n",
    "\n",
    "\n",
    "def get_algo(algo_id, base_config, dataset, data_params, x_real):\n",
    "    if algo_id == 'SigCWGAN':\n",
    "        algo_config = get_algo_config(dataset, data_params)\n",
    "        algo = ALGOS[algo_id](x_real=x_real, config=algo_config, base_config=base_config)\n",
    "    else:\n",
    "        algo = ALGOS[algo_id](x_real=x_real, base_config=base_config)\n",
    "    return algo\n",
    "\n",
    "\n",
    "# def run(algo_id, base_config, dataset, data_params={}):\n",
    "#     \"\"\" Create the experiment directory, calibrate algorithm, store relevant parameters. \"\"\"\n",
    "#     experiment_directory = f'./numerical_results/{dataset}/stock/seed=0/SigCWGAN'\n",
    "#\n",
    "#     df_2 = get_dataset_configuration()\n",
    "#     x_real = get_data2(df_2.values.reshape(1, -1, 10), base_config.p, base_config.q)\n",
    "#     x_real = x_real.to(base_config.device)\n",
    "#     ind_train = int(x_real.shape[0] * 0.8)\n",
    "#     x_real_train, x_real_test = x_real[:ind_train], x_real[ind_train:]  #train_test_split(x_real, train_size = 0.8)\n",
    "#\n",
    "#     algo = get_algo(algo_id, base_config, dataset, data_params, x_real_train)\n",
    "#     # Train the algorithm\n",
    "#     algo.fit()\n",
    "#     # create summary\n",
    "#     create_summary(dataset, base_config.device, algo.G, base_config.p, base_config.q, x_real_test)\n",
    "#     savefig('summary.png', experiment_directory)\n",
    "#     x_fake = create_summary(dataset, base_config.device, algo.G, base_config.p, 8000, x_real_test, one=True)\n",
    "#     print(x_fake.shape)\n",
    "#     savefig('summary_long.png', experiment_directory)\n",
    "#     plt.plot(x_fake.cpu().numpy()[0, :2000])\n",
    "#     savefig('long_path.png', experiment_directory)\n",
    "#     # Pickle generator weights, real path and hyperparameters.\n",
    "#     pickle_it(x_real, pt.join(pt.dirname(experiment_directory), 'x_real.torch'))\n",
    "#     pickle_it(x_real_test, pt.join(pt.dirname(experiment_directory), 'x_real_test.torch'))\n",
    "#     pickle_it(x_real_train, pt.join(pt.dirname(experiment_directory), 'x_real_train.torch'))\n",
    "#     pickle_it(algo.training_loss, pt.join(experiment_directory, 'training_loss.pkl'))\n",
    "#     pickle_it(algo.G.to('cpu').state_dict(), pt.join(experiment_directory, 'G_weights.torch'))\n",
    "#     # Log some results at the end of training\n",
    "#     algo.plot_losses()\n",
    "#     savefig('losses.png', experiment_directory)\n",
    "\n",
    "\n",
    "def get_dataset_configuration():\n",
    "    price_df = pd.read_csv('./data/sp500.csv')\n",
    "    price_df.set_index('datadate', inplace=True)\n",
    "    df_0 = price_df[['AAPL', 'DIS', 'XOM', 'INTC', 'MSFT', 'AMZN', 'NVDA', 'CRM', 'GOOGL', 'TSLA']]\n",
    "    df_1 = df_0.dropna(axis=0)\n",
    "    df_2 = df_1.pct_change().dropna()\n",
    "    return df_2"
   ]
  },
  {
   "cell_type": "code",
   "execution_count": 4,
   "id": "e66f94a6e769be6f",
   "metadata": {
    "ExecuteTime": {
     "end_time": "2025-05-21T03:17:54.543366Z",
     "start_time": "2025-05-21T03:17:52.859888Z"
    }
   },
   "outputs": [
    {
     "data": {
      "text/plain": [
       "'cuda:0'"
      ]
     },
     "execution_count": 4,
     "metadata": {},
     "output_type": "execute_result"
    }
   ],
   "source": [
    "parser = argparse.ArgumentParser()\n",
    "# Meta parameters\n",
    "parser.add_argument('-base_dir', default='./numerical_results', type=str)\n",
    "parser.add_argument('-use_cuda', default=1, action='store_true')\n",
    "parser.add_argument('-device', default=0, type=int)\n",
    "parser.add_argument('-num_seeds', default=1, type=int)\n",
    "parser.add_argument('-initial_seed', default=0, type=int)\n",
    "#parser.add_argument('-datasets', default=['ARCH', 'STOCKS', 'ECG', 'VAR', ], nargs=\"+\")\n",
    "parser.add_argument('-datasets', default=['STOCKS', 'ARCH', 'VAR', ], nargs=\"+\")\n",
    "parser.add_argument('-algos', default=['SigCWGAN', 'GMMN', 'RCGAN', 'TimeGAN', 'RCWGAN', 'CWGAN', ], nargs=\"+\")\n",
    "\n",
    "# Algo hyperparameters\n",
    "parser.add_argument('-batch_size', default=64, type=int)\n",
    "parser.add_argument('-p', default=20, type=int)\n",
    "parser.add_argument('-q', default=5, type=int)\n",
    "parser.add_argument('-hidden_dims', default=5 * (128,), type=tuple)\n",
    "parser.add_argument('-total_steps', default=2500, type=int)\n",
    "\n",
    "args, unknown = parser.parse_known_args()\n",
    "\n",
    "set_seed(0)\n",
    "\n",
    "base_config = BaseConfig(\n",
    "    device='cuda:{}'.format(args.device) if args.use_cuda and torch.cuda.is_available() else 'cpu',\n",
    "    batch_size=args.batch_size,\n",
    "    hidden_dims=args.hidden_dims,\n",
    "    seed=0,\n",
    "    p=args.p,\n",
    "    q=args.q,\n",
    "    total_steps=args.total_steps,\n",
    "    mc_samples=1000,\n",
    ")\n",
    "\n",
    "data_params = {'dim': 10}\n",
    "base_config.device"
   ]
  },
  {
   "cell_type": "code",
   "execution_count": 5,
   "id": "4be84c4825acf04c",
   "metadata": {
    "ExecuteTime": {
     "end_time": "2025-05-21T03:30:03.631652Z",
     "start_time": "2025-05-21T03:17:56.447350Z"
    }
   },
   "outputs": [
    {
     "name": "stdout",
     "output_type": "stream",
     "text": [
      "3703\n"
     ]
    },
    {
     "ename": "KeyboardInterrupt",
     "evalue": "",
     "output_type": "error",
     "traceback": [
      "\u001b[0;31m---------------------------------------------------------------------------\u001b[0m",
      "\u001b[0;31mKeyboardInterrupt\u001b[0m                         Traceback (most recent call last)",
      "Cell \u001b[0;32mIn[5], line 10\u001b[0m\n\u001b[1;32m      7\u001b[0m ind_train \u001b[38;5;241m=\u001b[39m \u001b[38;5;28mint\u001b[39m(x_real\u001b[38;5;241m.\u001b[39mshape[\u001b[38;5;241m0\u001b[39m] \u001b[38;5;241m*\u001b[39m \u001b[38;5;241m0.8\u001b[39m)\n\u001b[1;32m      8\u001b[0m x_real_train, x_real_test \u001b[38;5;241m=\u001b[39m x_real[:ind_train], x_real[ind_train:]  \u001b[38;5;66;03m#train_test_split(x_real, train_size = 0.8)\u001b[39;00m\n\u001b[0;32m---> 10\u001b[0m algo \u001b[38;5;241m=\u001b[39m \u001b[43mget_algo\u001b[49m\u001b[43m(\u001b[49m\u001b[38;5;124;43m'\u001b[39;49m\u001b[38;5;124;43mSigCWGAN\u001b[39;49m\u001b[38;5;124;43m'\u001b[39;49m\u001b[43m,\u001b[49m\u001b[43m \u001b[49m\u001b[43mbase_config\u001b[49m\u001b[43m,\u001b[49m\u001b[43m \u001b[49m\u001b[38;5;124;43m'\u001b[39;49m\u001b[38;5;124;43mVAR\u001b[39;49m\u001b[38;5;124;43m'\u001b[39;49m\u001b[43m,\u001b[49m\u001b[43m \u001b[49m\u001b[43mdata_params\u001b[49m\u001b[43m,\u001b[49m\u001b[43m \u001b[49m\u001b[43mx_real_train\u001b[49m\u001b[43m)\u001b[49m\n\u001b[1;32m     11\u001b[0m \u001b[38;5;66;03m# Train the algorithm\u001b[39;00m\n\u001b[1;32m     12\u001b[0m algo\u001b[38;5;241m.\u001b[39mfit()\n",
      "Cell \u001b[0;32mIn[3], line 19\u001b[0m, in \u001b[0;36mget_algo\u001b[0;34m(algo_id, base_config, dataset, data_params, x_real)\u001b[0m\n\u001b[1;32m     17\u001b[0m \u001b[38;5;28;01mif\u001b[39;00m algo_id \u001b[38;5;241m==\u001b[39m \u001b[38;5;124m'\u001b[39m\u001b[38;5;124mSigCWGAN\u001b[39m\u001b[38;5;124m'\u001b[39m:\n\u001b[1;32m     18\u001b[0m     algo_config \u001b[38;5;241m=\u001b[39m get_algo_config(dataset, data_params)\n\u001b[0;32m---> 19\u001b[0m     algo \u001b[38;5;241m=\u001b[39m \u001b[43mALGOS\u001b[49m\u001b[43m[\u001b[49m\u001b[43malgo_id\u001b[49m\u001b[43m]\u001b[49m\u001b[43m(\u001b[49m\u001b[43mx_real\u001b[49m\u001b[38;5;241;43m=\u001b[39;49m\u001b[43mx_real\u001b[49m\u001b[43m,\u001b[49m\u001b[43m \u001b[49m\u001b[43mconfig\u001b[49m\u001b[38;5;241;43m=\u001b[39;49m\u001b[43malgo_config\u001b[49m\u001b[43m,\u001b[49m\u001b[43m \u001b[49m\u001b[43mbase_config\u001b[49m\u001b[38;5;241;43m=\u001b[39;49m\u001b[43mbase_config\u001b[49m\u001b[43m)\u001b[49m\n\u001b[1;32m     20\u001b[0m \u001b[38;5;28;01melse\u001b[39;00m:\n\u001b[1;32m     21\u001b[0m     algo \u001b[38;5;241m=\u001b[39m ALGOS[algo_id](x_real\u001b[38;5;241m=\u001b[39mx_real, base_config\u001b[38;5;241m=\u001b[39mbase_config)\n",
      "File \u001b[0;32m/home/GitHub/Study/Study_DL_and_Coding/RISK_ESTIMATION/lib/algos/sigcwgan.py:62\u001b[0m, in \u001b[0;36mSigCWGAN.__init__\u001b[0;34m(self, base_config, config, x_real)\u001b[0m\n\u001b[1;32m     60\u001b[0m \u001b[38;5;28mself\u001b[39m\u001b[38;5;241m.\u001b[39mx_past \u001b[38;5;241m=\u001b[39m x_real[:, :\u001b[38;5;28mself\u001b[39m\u001b[38;5;241m.\u001b[39mp]\n\u001b[1;32m     61\u001b[0m x_future \u001b[38;5;241m=\u001b[39m x_real[:, \u001b[38;5;28mself\u001b[39m\u001b[38;5;241m.\u001b[39mp:]\n\u001b[0;32m---> 62\u001b[0m \u001b[38;5;28mself\u001b[39m\u001b[38;5;241m.\u001b[39msigs_pred \u001b[38;5;241m=\u001b[39m \u001b[43mcalibrate_sigw1_metric\u001b[49m\u001b[43m(\u001b[49m\u001b[43mconfig\u001b[49m\u001b[43m,\u001b[49m\u001b[43m \u001b[49m\u001b[43mx_future\u001b[49m\u001b[43m,\u001b[49m\u001b[43m \u001b[49m\u001b[38;5;28;43mself\u001b[39;49m\u001b[38;5;241;43m.\u001b[39;49m\u001b[43mx_past\u001b[49m\u001b[43m)\u001b[49m\n\u001b[1;32m     64\u001b[0m \u001b[38;5;28mself\u001b[39m\u001b[38;5;241m.\u001b[39mG_optimizer \u001b[38;5;241m=\u001b[39m optim\u001b[38;5;241m.\u001b[39mAdam(\u001b[38;5;28mself\u001b[39m\u001b[38;5;241m.\u001b[39mG\u001b[38;5;241m.\u001b[39mparameters(), lr\u001b[38;5;241m=\u001b[39m\u001b[38;5;241m1e-2\u001b[39m)\n\u001b[1;32m     65\u001b[0m \u001b[38;5;28mself\u001b[39m\u001b[38;5;241m.\u001b[39mG_scheduler \u001b[38;5;241m=\u001b[39m optim\u001b[38;5;241m.\u001b[39mlr_scheduler\u001b[38;5;241m.\u001b[39mStepLR(\u001b[38;5;28mself\u001b[39m\u001b[38;5;241m.\u001b[39mG_optimizer, step_size\u001b[38;5;241m=\u001b[39m\u001b[38;5;241m100\u001b[39m, gamma\u001b[38;5;241m=\u001b[39m\u001b[38;5;241m0.9\u001b[39m)\n",
      "File \u001b[0;32m/home/GitHub/Study/Study_DL_and_Coding/RISK_ESTIMATION/lib/algos/sigcwgan.py:36\u001b[0m, in \u001b[0;36mcalibrate_sigw1_metric\u001b[0;34m(config, x_future, x_past)\u001b[0m\n\u001b[1;32m     34\u001b[0m X, Y \u001b[38;5;241m=\u001b[39m to_numpy(sigs_past), to_numpy(sigs_future)\n\u001b[1;32m     35\u001b[0m lm \u001b[38;5;241m=\u001b[39m LinearRegression()\n\u001b[0;32m---> 36\u001b[0m \u001b[43mlm\u001b[49m\u001b[38;5;241;43m.\u001b[39;49m\u001b[43mfit\u001b[49m\u001b[43m(\u001b[49m\u001b[43mX\u001b[49m\u001b[43m,\u001b[49m\u001b[43m \u001b[49m\u001b[43mY\u001b[49m\u001b[43m)\u001b[49m\n\u001b[1;32m     37\u001b[0m sigs_pred \u001b[38;5;241m=\u001b[39m torch\u001b[38;5;241m.\u001b[39mfrom_numpy(lm\u001b[38;5;241m.\u001b[39mpredict(X))\u001b[38;5;241m.\u001b[39mfloat()\u001b[38;5;241m.\u001b[39mto(x_future\u001b[38;5;241m.\u001b[39mdevice)\n\u001b[1;32m     38\u001b[0m \u001b[38;5;28;01mreturn\u001b[39;00m sigs_pred\n",
      "File \u001b[0;32m/opt/miniconda3/envs/research/lib/python3.9/site-packages/sklearn/base.py:1389\u001b[0m, in \u001b[0;36m_fit_context.<locals>.decorator.<locals>.wrapper\u001b[0;34m(estimator, *args, **kwargs)\u001b[0m\n\u001b[1;32m   1382\u001b[0m     estimator\u001b[38;5;241m.\u001b[39m_validate_params()\n\u001b[1;32m   1384\u001b[0m \u001b[38;5;28;01mwith\u001b[39;00m config_context(\n\u001b[1;32m   1385\u001b[0m     skip_parameter_validation\u001b[38;5;241m=\u001b[39m(\n\u001b[1;32m   1386\u001b[0m         prefer_skip_nested_validation \u001b[38;5;129;01mor\u001b[39;00m global_skip_validation\n\u001b[1;32m   1387\u001b[0m     )\n\u001b[1;32m   1388\u001b[0m ):\n\u001b[0;32m-> 1389\u001b[0m     \u001b[38;5;28;01mreturn\u001b[39;00m \u001b[43mfit_method\u001b[49m\u001b[43m(\u001b[49m\u001b[43mestimator\u001b[49m\u001b[43m,\u001b[49m\u001b[43m \u001b[49m\u001b[38;5;241;43m*\u001b[39;49m\u001b[43margs\u001b[49m\u001b[43m,\u001b[49m\u001b[43m \u001b[49m\u001b[38;5;241;43m*\u001b[39;49m\u001b[38;5;241;43m*\u001b[39;49m\u001b[43mkwargs\u001b[49m\u001b[43m)\u001b[49m\n",
      "File \u001b[0;32m/opt/miniconda3/envs/research/lib/python3.9/site-packages/sklearn/linear_model/_base.py:682\u001b[0m, in \u001b[0;36mLinearRegression.fit\u001b[0;34m(self, X, y, sample_weight)\u001b[0m\n\u001b[1;32m    679\u001b[0m \u001b[38;5;28;01melse\u001b[39;00m:\n\u001b[1;32m    680\u001b[0m     \u001b[38;5;66;03m# cut-off ratio for small singular values\u001b[39;00m\n\u001b[1;32m    681\u001b[0m     cond \u001b[38;5;241m=\u001b[39m \u001b[38;5;28mmax\u001b[39m(X\u001b[38;5;241m.\u001b[39mshape) \u001b[38;5;241m*\u001b[39m np\u001b[38;5;241m.\u001b[39mfinfo(X\u001b[38;5;241m.\u001b[39mdtype)\u001b[38;5;241m.\u001b[39meps\n\u001b[0;32m--> 682\u001b[0m     \u001b[38;5;28mself\u001b[39m\u001b[38;5;241m.\u001b[39mcoef_, _, \u001b[38;5;28mself\u001b[39m\u001b[38;5;241m.\u001b[39mrank_, \u001b[38;5;28mself\u001b[39m\u001b[38;5;241m.\u001b[39msingular_ \u001b[38;5;241m=\u001b[39m \u001b[43mlinalg\u001b[49m\u001b[38;5;241;43m.\u001b[39;49m\u001b[43mlstsq\u001b[49m\u001b[43m(\u001b[49m\u001b[43mX\u001b[49m\u001b[43m,\u001b[49m\u001b[43m \u001b[49m\u001b[43my\u001b[49m\u001b[43m,\u001b[49m\u001b[43m \u001b[49m\u001b[43mcond\u001b[49m\u001b[38;5;241;43m=\u001b[39;49m\u001b[43mcond\u001b[49m\u001b[43m)\u001b[49m\n\u001b[1;32m    683\u001b[0m     \u001b[38;5;28mself\u001b[39m\u001b[38;5;241m.\u001b[39mcoef_ \u001b[38;5;241m=\u001b[39m \u001b[38;5;28mself\u001b[39m\u001b[38;5;241m.\u001b[39mcoef_\u001b[38;5;241m.\u001b[39mT\n\u001b[1;32m    685\u001b[0m \u001b[38;5;28;01mif\u001b[39;00m y\u001b[38;5;241m.\u001b[39mndim \u001b[38;5;241m==\u001b[39m \u001b[38;5;241m1\u001b[39m:\n",
      "File \u001b[0;32m/opt/miniconda3/envs/research/lib/python3.9/site-packages/scipy/linalg/_basic.py:1270\u001b[0m, in \u001b[0;36mlstsq\u001b[0;34m(a, b, cond, overwrite_a, overwrite_b, check_finite, lapack_driver)\u001b[0m\n\u001b[1;32m   1268\u001b[0m \u001b[38;5;28;01mif\u001b[39;00m real_data:\n\u001b[1;32m   1269\u001b[0m     lwork, iwork \u001b[38;5;241m=\u001b[39m _compute_lwork(lapack_lwork, m, n, nrhs, cond)\n\u001b[0;32m-> 1270\u001b[0m     x, s, rank, info \u001b[38;5;241m=\u001b[39m \u001b[43mlapack_func\u001b[49m\u001b[43m(\u001b[49m\u001b[43ma1\u001b[49m\u001b[43m,\u001b[49m\u001b[43m \u001b[49m\u001b[43mb1\u001b[49m\u001b[43m,\u001b[49m\u001b[43m \u001b[49m\u001b[43mlwork\u001b[49m\u001b[43m,\u001b[49m\n\u001b[1;32m   1271\u001b[0m \u001b[43m                                   \u001b[49m\u001b[43miwork\u001b[49m\u001b[43m,\u001b[49m\u001b[43m \u001b[49m\u001b[43mcond\u001b[49m\u001b[43m,\u001b[49m\u001b[43m \u001b[49m\u001b[38;5;28;43;01mFalse\u001b[39;49;00m\u001b[43m,\u001b[49m\u001b[43m \u001b[49m\u001b[38;5;28;43;01mFalse\u001b[39;49;00m\u001b[43m)\u001b[49m\n\u001b[1;32m   1272\u001b[0m \u001b[38;5;28;01melse\u001b[39;00m:  \u001b[38;5;66;03m# complex data\u001b[39;00m\n\u001b[1;32m   1273\u001b[0m     lwork, rwork, iwork \u001b[38;5;241m=\u001b[39m _compute_lwork(lapack_lwork, m, n,\n\u001b[1;32m   1274\u001b[0m                                          nrhs, cond)\n",
      "\u001b[0;31mKeyboardInterrupt\u001b[0m: "
     ]
    }
   ],
   "source": [
    "experiment_directory = f'./numerical_results/VAR/stock/seed=0/SigCWGAN'\n",
    "os.makedirs(experiment_directory, exist_ok=True)\n",
    "df_2 = get_dataset_configuration()\n",
    "print(len(df_2))\n",
    "x_real = get_data2(df_2.values.reshape(1, -1, 10), base_config.p, base_config.q)\n",
    "x_real = x_real.to(base_config.device)\n",
    "ind_train = int(x_real.shape[0] * 0.8)\n",
    "x_real_train, x_real_test = x_real[:ind_train], x_real[ind_train:]  #train_test_split(x_real, train_size = 0.8)\n",
    "\n",
    "algo = get_algo('SigCWGAN', base_config, 'VAR', data_params, x_real_train)\n",
    "# Train the algorithm\n",
    "algo.fit()\n",
    "# create summary\n",
    "create_summary('VAR', base_config.device, algo.G, base_config.p, base_config.q, x_real_test)\n",
    "savefig('summary.png', experiment_directory)\n",
    "x_fake = create_summary('VAR', base_config.device, algo.G, base_config.p, 8000, x_real_test, one=True)\n",
    "print(x_fake.shape)\n",
    "savefig('summary_long.png', experiment_directory)\n",
    "plt.plot(x_fake.cpu().numpy()[0, :2000])\n",
    "savefig('long_path.png', experiment_directory)\n",
    "# Pickle generator weights, real path and hyperp arameters.\n",
    "pickle_it(x_real, pt.join(pt.dirname(experiment_directory), 'x_real.torch'))\n",
    "pickle_it(x_real_test, pt.join(pt.dirname(experiment_directory), 'x_real_test.torch'))\n",
    "pickle_it(x_real_train, pt.join(pt.dirname(experiment_directory), 'x_real_train.torch'))\n",
    "pickle_it(algo.training_loss, pt.join(experiment_directory, 'training_loss.pkl'))\n",
    "pickle_it(algo.G.to('cpu').state_dict(), pt.join(experiment_directory, 'G_weights.torch'))\n",
    "# Log some results at the end of training\n",
    "algo.plot_losses()\n",
    "savefig('losses.png', experiment_directory)"
   ]
  },
  {
   "cell_type": "code",
   "execution_count": 6,
   "id": "9d1d79f0f8535469",
   "metadata": {
    "ExecuteTime": {
     "end_time": "2025-05-21T04:09:33.728942Z",
     "start_time": "2025-05-21T04:09:33.715104Z"
    }
   },
   "outputs": [
    {
     "ename": "NameError",
     "evalue": "name 'algo' is not defined",
     "output_type": "error",
     "traceback": [
      "\u001b[0;31m---------------------------------------------------------------------------\u001b[0m",
      "\u001b[0;31mNameError\u001b[0m                                 Traceback (most recent call last)",
      "Cell \u001b[0;32mIn[6], line 1\u001b[0m\n\u001b[0;32m----> 1\u001b[0m pickle_it(\u001b[43malgo\u001b[49m\u001b[38;5;241m.\u001b[39mG\u001b[38;5;241m.\u001b[39mto(\u001b[38;5;124m'\u001b[39m\u001b[38;5;124mcpu\u001b[39m\u001b[38;5;124m'\u001b[39m)\u001b[38;5;241m.\u001b[39mstate_dict(), pt\u001b[38;5;241m.\u001b[39mjoin(experiment_directory, \u001b[38;5;124m'\u001b[39m\u001b[38;5;124mG_weights2.torch\u001b[39m\u001b[38;5;124m'\u001b[39m))\n",
      "\u001b[0;31mNameError\u001b[0m: name 'algo' is not defined"
     ]
    }
   ],
   "source": [
    "pickle_it(algo.G.to('cpu').state_dict(), pt.join(experiment_directory, 'G_weights2.torch'))"
   ]
  },
  {
   "cell_type": "code",
   "execution_count": 7,
   "id": "11922f574381747f",
   "metadata": {
    "ExecuteTime": {
     "end_time": "2025-05-01T03:59:58.688373Z",
     "start_time": "2025-05-01T03:59:58.672585Z"
    }
   },
   "outputs": [],
   "source": [
    "def get_dataset_configuration2(path):\n",
    "    price_df = pd.read_parquet(path)\n",
    "    df_0 = price_df[\n",
    "        ['prccd', 'cshtrd', 'absacc', 'acc', 'aeavol', 'agr', 'baspread', 'beta', 'cashpr', 'cfp', 'chmom', 'chtx',\n",
    "         'ear', 'retvol', 'tb', 'turn']]\n",
    "    df_1 = df_0.dropna(axis=0)\n",
    "    return df_1"
   ]
  },
  {
   "cell_type": "code",
   "execution_count": 8,
   "id": "549c37058d4b40d3",
   "metadata": {
    "ExecuteTime": {
     "end_time": "2025-05-01T04:07:11.223159Z",
     "start_time": "2025-05-01T03:59:58.704456Z"
    }
   },
   "outputs": [
    {
     "ename": "KeyError",
     "evalue": "'__index_level_0__'",
     "output_type": "error",
     "traceback": [
      "\u001b[0;31m---------------------------------------------------------------------------\u001b[0m",
      "\u001b[0;31mKeyError\u001b[0m                                  Traceback (most recent call last)",
      "Cell \u001b[0;32mIn[8], line 7\u001b[0m\n\u001b[1;32m      5\u001b[0m experiment_directory \u001b[38;5;241m=\u001b[39m \u001b[38;5;124mf\u001b[39m\u001b[38;5;124m'\u001b[39m\u001b[38;5;124m./numerical_results/\u001b[39m\u001b[38;5;132;01m{\u001b[39;00mcompany\u001b[38;5;132;01m}\u001b[39;00m\u001b[38;5;124m/stock/seed=0/SigCWGAN\u001b[39m\u001b[38;5;124m'\u001b[39m\n\u001b[1;32m      6\u001b[0m os\u001b[38;5;241m.\u001b[39mmakedirs(experiment_directory, exist_ok\u001b[38;5;241m=\u001b[39m\u001b[38;5;28;01mTrue\u001b[39;00m)\n\u001b[0;32m----> 7\u001b[0m df_2 \u001b[38;5;241m=\u001b[39m \u001b[43mget_dataset_configuration2\u001b[49m\u001b[43m(\u001b[49m\u001b[43mos\u001b[49m\u001b[38;5;241;43m.\u001b[39;49m\u001b[43mpath\u001b[49m\u001b[38;5;241;43m.\u001b[39;49m\u001b[43mjoin\u001b[49m\u001b[43m(\u001b[49m\u001b[43mROOT_DIR\u001b[49m\u001b[43m,\u001b[49m\u001b[43m \u001b[49m\u001b[43mtic\u001b[49m\u001b[43m)\u001b[49m\u001b[43m)\u001b[49m\n\u001b[1;32m      8\u001b[0m \u001b[38;5;28mprint\u001b[39m(\u001b[38;5;28mlen\u001b[39m(df_2))\n\u001b[1;32m      9\u001b[0m x_real \u001b[38;5;241m=\u001b[39m get_data2(df_2\u001b[38;5;241m.\u001b[39mvalues\u001b[38;5;241m.\u001b[39mreshape(\u001b[38;5;241m1\u001b[39m, \u001b[38;5;241m-\u001b[39m\u001b[38;5;241m1\u001b[39m, \u001b[38;5;241m16\u001b[39m), base_config\u001b[38;5;241m.\u001b[39mp, base_config\u001b[38;5;241m.\u001b[39mq)\n",
      "Cell \u001b[0;32mIn[7], line 2\u001b[0m, in \u001b[0;36mget_dataset_configuration2\u001b[0;34m(path)\u001b[0m\n\u001b[1;32m      1\u001b[0m \u001b[38;5;28;01mdef\u001b[39;00m\u001b[38;5;250m \u001b[39m\u001b[38;5;21mget_dataset_configuration2\u001b[39m(path):\n\u001b[0;32m----> 2\u001b[0m     price_df \u001b[38;5;241m=\u001b[39m \u001b[43mpd\u001b[49m\u001b[38;5;241;43m.\u001b[39;49m\u001b[43mread_parquet\u001b[49m\u001b[43m(\u001b[49m\u001b[43mpath\u001b[49m\u001b[43m)\u001b[49m\n\u001b[1;32m      3\u001b[0m     df_0 \u001b[38;5;241m=\u001b[39m price_df[\n\u001b[1;32m      4\u001b[0m         [\u001b[38;5;124m'\u001b[39m\u001b[38;5;124mprccd\u001b[39m\u001b[38;5;124m'\u001b[39m, \u001b[38;5;124m'\u001b[39m\u001b[38;5;124mcshtrd\u001b[39m\u001b[38;5;124m'\u001b[39m, \u001b[38;5;124m'\u001b[39m\u001b[38;5;124mabsacc\u001b[39m\u001b[38;5;124m'\u001b[39m, \u001b[38;5;124m'\u001b[39m\u001b[38;5;124macc\u001b[39m\u001b[38;5;124m'\u001b[39m, \u001b[38;5;124m'\u001b[39m\u001b[38;5;124maeavol\u001b[39m\u001b[38;5;124m'\u001b[39m, \u001b[38;5;124m'\u001b[39m\u001b[38;5;124magr\u001b[39m\u001b[38;5;124m'\u001b[39m, \u001b[38;5;124m'\u001b[39m\u001b[38;5;124mbaspread\u001b[39m\u001b[38;5;124m'\u001b[39m, \u001b[38;5;124m'\u001b[39m\u001b[38;5;124mbeta\u001b[39m\u001b[38;5;124m'\u001b[39m, \u001b[38;5;124m'\u001b[39m\u001b[38;5;124mcashpr\u001b[39m\u001b[38;5;124m'\u001b[39m, \u001b[38;5;124m'\u001b[39m\u001b[38;5;124mcfp\u001b[39m\u001b[38;5;124m'\u001b[39m, \u001b[38;5;124m'\u001b[39m\u001b[38;5;124mchmom\u001b[39m\u001b[38;5;124m'\u001b[39m, \u001b[38;5;124m'\u001b[39m\u001b[38;5;124mchtx\u001b[39m\u001b[38;5;124m'\u001b[39m,\n\u001b[1;32m      5\u001b[0m          \u001b[38;5;124m'\u001b[39m\u001b[38;5;124mear\u001b[39m\u001b[38;5;124m'\u001b[39m, \u001b[38;5;124m'\u001b[39m\u001b[38;5;124mretvol\u001b[39m\u001b[38;5;124m'\u001b[39m, \u001b[38;5;124m'\u001b[39m\u001b[38;5;124mtb\u001b[39m\u001b[38;5;124m'\u001b[39m, \u001b[38;5;124m'\u001b[39m\u001b[38;5;124mturn\u001b[39m\u001b[38;5;124m'\u001b[39m]]\n\u001b[1;32m      6\u001b[0m     df_1 \u001b[38;5;241m=\u001b[39m df_0\u001b[38;5;241m.\u001b[39mdropna(axis\u001b[38;5;241m=\u001b[39m\u001b[38;5;241m0\u001b[39m)\n",
      "File \u001b[0;32m/opt/miniconda3/envs/research/lib/python3.9/site-packages/pandas/io/parquet.py:669\u001b[0m, in \u001b[0;36mread_parquet\u001b[0;34m(path, engine, columns, storage_options, use_nullable_dtypes, dtype_backend, filesystem, filters, **kwargs)\u001b[0m\n\u001b[1;32m    666\u001b[0m     use_nullable_dtypes \u001b[38;5;241m=\u001b[39m \u001b[38;5;28;01mFalse\u001b[39;00m\n\u001b[1;32m    667\u001b[0m check_dtype_backend(dtype_backend)\n\u001b[0;32m--> 669\u001b[0m \u001b[38;5;28;01mreturn\u001b[39;00m \u001b[43mimpl\u001b[49m\u001b[38;5;241;43m.\u001b[39;49m\u001b[43mread\u001b[49m\u001b[43m(\u001b[49m\n\u001b[1;32m    670\u001b[0m \u001b[43m    \u001b[49m\u001b[43mpath\u001b[49m\u001b[43m,\u001b[49m\n\u001b[1;32m    671\u001b[0m \u001b[43m    \u001b[49m\u001b[43mcolumns\u001b[49m\u001b[38;5;241;43m=\u001b[39;49m\u001b[43mcolumns\u001b[49m\u001b[43m,\u001b[49m\n\u001b[1;32m    672\u001b[0m \u001b[43m    \u001b[49m\u001b[43mfilters\u001b[49m\u001b[38;5;241;43m=\u001b[39;49m\u001b[43mfilters\u001b[49m\u001b[43m,\u001b[49m\n\u001b[1;32m    673\u001b[0m \u001b[43m    \u001b[49m\u001b[43mstorage_options\u001b[49m\u001b[38;5;241;43m=\u001b[39;49m\u001b[43mstorage_options\u001b[49m\u001b[43m,\u001b[49m\n\u001b[1;32m    674\u001b[0m \u001b[43m    \u001b[49m\u001b[43muse_nullable_dtypes\u001b[49m\u001b[38;5;241;43m=\u001b[39;49m\u001b[43muse_nullable_dtypes\u001b[49m\u001b[43m,\u001b[49m\n\u001b[1;32m    675\u001b[0m \u001b[43m    \u001b[49m\u001b[43mdtype_backend\u001b[49m\u001b[38;5;241;43m=\u001b[39;49m\u001b[43mdtype_backend\u001b[49m\u001b[43m,\u001b[49m\n\u001b[1;32m    676\u001b[0m \u001b[43m    \u001b[49m\u001b[43mfilesystem\u001b[49m\u001b[38;5;241;43m=\u001b[39;49m\u001b[43mfilesystem\u001b[49m\u001b[43m,\u001b[49m\n\u001b[1;32m    677\u001b[0m \u001b[43m    \u001b[49m\u001b[38;5;241;43m*\u001b[39;49m\u001b[38;5;241;43m*\u001b[39;49m\u001b[43mkwargs\u001b[49m\u001b[43m,\u001b[49m\n\u001b[1;32m    678\u001b[0m \u001b[43m\u001b[49m\u001b[43m)\u001b[49m\n",
      "File \u001b[0;32m/opt/miniconda3/envs/research/lib/python3.9/site-packages/pandas/io/parquet.py:404\u001b[0m, in \u001b[0;36mFastParquetImpl.read\u001b[0;34m(self, path, columns, filters, storage_options, filesystem, **kwargs)\u001b[0m\n\u001b[1;32m    401\u001b[0m     path \u001b[38;5;241m=\u001b[39m handles\u001b[38;5;241m.\u001b[39mhandle\n\u001b[1;32m    403\u001b[0m \u001b[38;5;28;01mtry\u001b[39;00m:\n\u001b[0;32m--> 404\u001b[0m     parquet_file \u001b[38;5;241m=\u001b[39m \u001b[38;5;28;43mself\u001b[39;49m\u001b[38;5;241;43m.\u001b[39;49m\u001b[43mapi\u001b[49m\u001b[38;5;241;43m.\u001b[39;49m\u001b[43mParquetFile\u001b[49m\u001b[43m(\u001b[49m\u001b[43mpath\u001b[49m\u001b[43m,\u001b[49m\u001b[43m \u001b[49m\u001b[38;5;241;43m*\u001b[39;49m\u001b[38;5;241;43m*\u001b[39;49m\u001b[43mparquet_kwargs\u001b[49m\u001b[43m)\u001b[49m\n\u001b[1;32m    405\u001b[0m     \u001b[38;5;28;01mreturn\u001b[39;00m parquet_file\u001b[38;5;241m.\u001b[39mto_pandas(columns\u001b[38;5;241m=\u001b[39mcolumns, filters\u001b[38;5;241m=\u001b[39mfilters, \u001b[38;5;241m*\u001b[39m\u001b[38;5;241m*\u001b[39mkwargs)\n\u001b[1;32m    406\u001b[0m \u001b[38;5;28;01mfinally\u001b[39;00m:\n",
      "File \u001b[0;32m/opt/miniconda3/envs/research/lib/python3.9/site-packages/fastparquet/api.py:135\u001b[0m, in \u001b[0;36mParquetFile.__init__\u001b[0;34m(self, fn, verify, open_with, root, sep, fs, pandas_nulls, dtypes)\u001b[0m\n\u001b[1;32m    132\u001b[0m \u001b[38;5;28;01melif\u001b[39;00m \u001b[38;5;28mhasattr\u001b[39m(fn, \u001b[38;5;124m'\u001b[39m\u001b[38;5;124mread\u001b[39m\u001b[38;5;124m'\u001b[39m):\n\u001b[1;32m    133\u001b[0m     \u001b[38;5;66;03m# file-like\u001b[39;00m\n\u001b[1;32m    134\u001b[0m     \u001b[38;5;28mself\u001b[39m\u001b[38;5;241m.\u001b[39mfn \u001b[38;5;241m=\u001b[39m \u001b[38;5;28;01mNone\u001b[39;00m\n\u001b[0;32m--> 135\u001b[0m     \u001b[38;5;28;43mself\u001b[39;49m\u001b[38;5;241;43m.\u001b[39;49m\u001b[43m_parse_header\u001b[49m\u001b[43m(\u001b[49m\u001b[43mfn\u001b[49m\u001b[43m,\u001b[49m\u001b[43m \u001b[49m\u001b[43mverify\u001b[49m\u001b[43m)\u001b[49m\n\u001b[1;32m    136\u001b[0m     \u001b[38;5;28;01mif\u001b[39;00m \u001b[38;5;28mself\u001b[39m\u001b[38;5;241m.\u001b[39mfile_scheme \u001b[38;5;129;01mnot\u001b[39;00m \u001b[38;5;129;01min\u001b[39;00m [\u001b[38;5;124m'\u001b[39m\u001b[38;5;124msimple\u001b[39m\u001b[38;5;124m'\u001b[39m, \u001b[38;5;124m'\u001b[39m\u001b[38;5;124mempty\u001b[39m\u001b[38;5;124m'\u001b[39m]:\n\u001b[1;32m    137\u001b[0m         \u001b[38;5;28;01mraise\u001b[39;00m \u001b[38;5;167;01mValueError\u001b[39;00m(\u001b[38;5;124m'\u001b[39m\u001b[38;5;124mCannot use file-like input \u001b[39m\u001b[38;5;124m'\u001b[39m\n\u001b[1;32m    138\u001b[0m                          \u001b[38;5;124m'\u001b[39m\u001b[38;5;124mwith multi-file data\u001b[39m\u001b[38;5;124m'\u001b[39m)\n",
      "File \u001b[0;32m/opt/miniconda3/envs/research/lib/python3.9/site-packages/fastparquet/api.py:236\u001b[0m, in \u001b[0;36mParquetFile._parse_header\u001b[0;34m(self, f, verify)\u001b[0m\n\u001b[1;32m    234\u001b[0m             chunk[\u001b[38;5;241m1\u001b[39m] \u001b[38;5;241m=\u001b[39m s\u001b[38;5;241m.\u001b[39mdecode()\n\u001b[1;32m    235\u001b[0m \u001b[38;5;28mself\u001b[39m\u001b[38;5;241m.\u001b[39mfmd \u001b[38;5;241m=\u001b[39m fmd\n\u001b[0;32m--> 236\u001b[0m \u001b[38;5;28;43mself\u001b[39;49m\u001b[38;5;241;43m.\u001b[39;49m\u001b[43m_set_attrs\u001b[49m\u001b[43m(\u001b[49m\u001b[43m)\u001b[49m\n",
      "File \u001b[0;32m/opt/miniconda3/envs/research/lib/python3.9/site-packages/fastparquet/api.py:250\u001b[0m, in \u001b[0;36mParquetFile._set_attrs\u001b[0;34m(self)\u001b[0m\n\u001b[1;32m    245\u001b[0m \u001b[38;5;28mself\u001b[39m\u001b[38;5;241m.\u001b[39mselfmade \u001b[38;5;241m=\u001b[39m (\n\u001b[1;32m    246\u001b[0m     \u001b[38;5;124mb\u001b[39m\u001b[38;5;124m\"\u001b[39m\u001b[38;5;124mfastparquet\u001b[39m\u001b[38;5;124m\"\u001b[39m \u001b[38;5;129;01min\u001b[39;00m \u001b[38;5;28mself\u001b[39m\u001b[38;5;241m.\u001b[39mcreated_by \u001b[38;5;28;01mif\u001b[39;00m \u001b[38;5;28mself\u001b[39m\u001b[38;5;241m.\u001b[39mcreated_by \u001b[38;5;129;01mis\u001b[39;00m \u001b[38;5;129;01mnot\u001b[39;00m \u001b[38;5;28;01mNone\u001b[39;00m\n\u001b[1;32m    247\u001b[0m     \u001b[38;5;28;01melse\u001b[39;00m \u001b[38;5;28;01mFalse\u001b[39;00m\n\u001b[1;32m    248\u001b[0m )\n\u001b[1;32m    249\u001b[0m \u001b[38;5;28mself\u001b[39m\u001b[38;5;241m.\u001b[39m_read_partitions()\n\u001b[0;32m--> 250\u001b[0m \u001b[38;5;28;43mself\u001b[39;49m\u001b[38;5;241;43m.\u001b[39;49m\u001b[43m_dtypes\u001b[49m\u001b[43m(\u001b[49m\u001b[43m)\u001b[49m\n",
      "File \u001b[0;32m/opt/miniconda3/envs/research/lib/python3.9/site-packages/fastparquet/api.py:965\u001b[0m, in \u001b[0;36mParquetFile._dtypes\u001b[0;34m(self, categories)\u001b[0m\n\u001b[1;32m    962\u001b[0m \u001b[38;5;28;01mif\u001b[39;00m dt\u001b[38;5;241m.\u001b[39mkind \u001b[38;5;241m==\u001b[39m \u001b[38;5;124m\"\u001b[39m\u001b[38;5;124mM\u001b[39m\u001b[38;5;124m\"\u001b[39m:\n\u001b[1;32m    963\u001b[0m     \u001b[38;5;28;01mif\u001b[39;00m \u001b[38;5;28mself\u001b[39m\u001b[38;5;241m.\u001b[39mpandas_metadata \u001b[38;5;129;01mand\u001b[39;00m PANDAS_VERSION\u001b[38;5;241m.\u001b[39mmajor \u001b[38;5;241m>\u001b[39m\u001b[38;5;241m=\u001b[39m \u001b[38;5;241m2\u001b[39m:\n\u001b[1;32m    964\u001b[0m         \u001b[38;5;66;03m# get original resolution when pandas supports non-ns\u001b[39;00m\n\u001b[0;32m--> 965\u001b[0m         dt \u001b[38;5;241m=\u001b[39m \u001b[43mmd\u001b[49m\u001b[43m[\u001b[49m\u001b[43mcol\u001b[49m\u001b[43m]\u001b[49m[\u001b[38;5;124m\"\u001b[39m\u001b[38;5;124mnumpy_type\u001b[39m\u001b[38;5;124m\"\u001b[39m]\n\u001b[1;32m    966\u001b[0m     \u001b[38;5;28;01mif\u001b[39;00m tz \u001b[38;5;129;01mis\u001b[39;00m \u001b[38;5;129;01mnot\u001b[39;00m \u001b[38;5;28;01mNone\u001b[39;00m \u001b[38;5;129;01mand\u001b[39;00m tz\u001b[38;5;241m.\u001b[39mget(col, \u001b[38;5;28;01mFalse\u001b[39;00m):\n\u001b[1;32m    967\u001b[0m         z \u001b[38;5;241m=\u001b[39m dataframe\u001b[38;5;241m.\u001b[39mtz_to_dt_tz(tz[col])\n",
      "\u001b[0;31mKeyError\u001b[0m: '__index_level_0__'"
     ]
    }
   ],
   "source": [
    "ROOT_DIR = './data/monthly_pricewithcharacteristics'\n",
    "for tic in os.listdir(ROOT_DIR):\n",
    "    \"\"\" Create the experiment directory, calibrate algorithm, store relevant parameters. \"\"\"\n",
    "    company = tic.split('.')[0]\n",
    "    experiment_directory = f'./numerical_results/{company}/stock/seed=0/SigCWGAN'\n",
    "    os.makedirs(experiment_directory, exist_ok=True)\n",
    "    df_2 = get_dataset_configuration2(os.path.join(ROOT_DIR, tic))\n",
    "    print(len(df_2))\n",
    "    x_real = get_data2(df_2.values.reshape(1, -1, 16), base_config.p, base_config.q)\n",
    "    x_real = x_real.to(base_config.device)\n",
    "    ind_train = int(x_real.shape[0] * 0.8)\n",
    "    x_real_train, x_real_test = x_real[:ind_train], x_real[ind_train:]  #train_test_split(x_real, train_size = 0.8)\n",
    "\n",
    "    algo = get_algo('SigCWGAN', base_config, 'VAR', data_params, x_real_train)\n",
    "    # Train the algorithm\n",
    "    algo.fit()\n",
    "    # create summary\n",
    "    create_summary(company, base_config.device, algo.G, base_config.p, base_config.q, x_real_test)\n",
    "    savefig('summary.png', experiment_directory)\n",
    "    x_fake = create_summary(company, base_config.device, algo.G, base_config.p, 8000, x_real_test, one=True)\n",
    "    print(x_fake.shape)\n",
    "    savefig('summary_long.png', experiment_directory)\n",
    "    plt.plot(x_fake.cpu().numpy()[0, :2000])\n",
    "    savefig('long_path.png', experiment_directory)\n",
    "    # Pickle generator weights, real path and hyperparameters.\n",
    "    pickle_it(x_real, pt.join(pt.dirname(experiment_directory), 'x_real.torch'))\n",
    "    pickle_it(x_real_test, pt.join(pt.dirname(experiment_directory), 'x_real_test.torch'))\n",
    "    pickle_it(x_real_train, pt.join(pt.dirname(experiment_directory), 'x_real_train.torch'))\n",
    "    pickle_it(algo.training_loss, pt.join(experiment_directory, 'training_loss.pkl'))\n",
    "    pickle_it(algo.G.to('cpu').state_dict(), pt.join(experiment_directory, 'G_weights.torch'))\n",
    "    # Log some results at the end of training\n",
    "    algo.plot_losses()\n",
    "    savefig('losses.png', experiment_directory)"
   ]
  }
 ],
 "metadata": {
  "kernelspec": {
   "display_name": "research",
   "language": "python",
   "name": "python3"
  },
  "language_info": {
   "codemirror_mode": {
    "name": "ipython",
    "version": 3
   },
   "file_extension": ".py",
   "mimetype": "text/x-python",
   "name": "python",
   "nbconvert_exporter": "python",
   "pygments_lexer": "ipython3",
   "version": "3.9.23"
  }
 },
 "nbformat": 4,
 "nbformat_minor": 5
}
