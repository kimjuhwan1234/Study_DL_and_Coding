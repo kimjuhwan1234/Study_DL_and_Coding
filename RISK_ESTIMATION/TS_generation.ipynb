{
 "cells": [
  {
   "cell_type": "code",
   "id": "initial_id",
   "metadata": {
    "collapsed": true,
    "ExecuteTime": {
     "end_time": "2025-04-16T06:51:43.797517Z",
     "start_time": "2025-04-16T06:51:42.144376Z"
    }
   },
   "source": [
    "import gc\n",
    "import torch\n",
    "import argparse\n",
    "import numpy as np\n",
    "import pandas as pd\n",
    "import matplotlib.pyplot as plt\n",
    "from lib import ALGOS\n",
    "from os import path as pt\n",
    "from lib.utils import pickle_it\n",
    "from lib.algos.base import BaseConfig\n",
    "from lib.data import get_data, get_data2\n",
    "from hyperparameters import SIGCWGAN_CONFIGS\n",
    "from lib.plot import savefig, create_summary\n",
    "\n",
    "gc.collect()"
   ],
   "outputs": [
    {
     "data": {
      "text/plain": [
       "0"
      ]
     },
     "execution_count": 1,
     "metadata": {},
     "output_type": "execute_result"
    }
   ],
   "execution_count": 1
  },
  {
   "metadata": {
    "ExecuteTime": {
     "end_time": "2025-04-16T06:51:43.813266Z",
     "start_time": "2025-04-16T06:51:43.801715Z"
    }
   },
   "cell_type": "code",
   "source": [
    "def get_algo_config(dataset, data_params):\n",
    "    \"\"\" Get the algorithms parameters. \"\"\"\n",
    "    key = dataset\n",
    "    if dataset == 'VAR':\n",
    "        key += str(data_params['dim'])\n",
    "    elif dataset == 'STOCKS':\n",
    "        key += '_' + '_'.join(data_params['assets'])\n",
    "    return SIGCWGAN_CONFIGS[key]\n",
    "\n",
    "\n",
    "def set_seed(seed):\n",
    "    torch.manual_seed(seed)\n",
    "    np.random.seed(seed)\n",
    "\n",
    "\n",
    "def get_algo(algo_id, base_config, dataset, data_params, x_real):\n",
    "    if algo_id == 'SigCWGAN':\n",
    "        algo_config = get_algo_config(dataset, data_params)\n",
    "        algo = ALGOS[algo_id](x_real=x_real, config=algo_config, base_config=base_config)\n",
    "    else:\n",
    "        algo = ALGOS[algo_id](x_real=x_real, base_config=base_config)\n",
    "    return algo\n",
    "\n",
    "\n",
    "def run(algo_id, base_config, dataset, data_params={}):\n",
    "    \"\"\" Create the experiment directory, calibrate algorithm, store relevant parameters. \"\"\"\n",
    "    experiment_directory = f'./numerical_results/{dataset}/stock/seed=0/SigCWGAN'\n",
    "\n",
    "    df_2 = get_dataset_configuration()\n",
    "    x_real = get_data2(df_2.values.reshape(1, -1, 10), base_config.p, base_config.q)\n",
    "    x_real = x_real.to(base_config.device)\n",
    "    ind_train = int(x_real.shape[0] * 0.8)\n",
    "    x_real_train, x_real_test = x_real[:ind_train], x_real[ind_train:]  #train_test_split(x_real, train_size = 0.8)\n",
    "\n",
    "    algo = get_algo(algo_id, base_config, dataset, data_params, x_real_train)\n",
    "    # Train the algorithm\n",
    "    algo.fit()\n",
    "    # create summary\n",
    "    create_summary(dataset, base_config.device, algo.G, base_config.p, base_config.q, x_real_test)\n",
    "    savefig('summary.png', experiment_directory)\n",
    "    x_fake = create_summary(dataset, base_config.device, algo.G, base_config.p, 8000, x_real_test, one=True)\n",
    "    savefig('summary_long.png', experiment_directory)\n",
    "    plt.plot(x_fake.cpu().numpy()[0, :2000])\n",
    "    savefig('long_path.png', experiment_directory)\n",
    "    # Pickle generator weights, real path and hyperparameters.\n",
    "    pickle_it(x_real, pt.join(pt.dirname(experiment_directory), 'x_real.torch'))\n",
    "    pickle_it(x_real_test, pt.join(pt.dirname(experiment_directory), 'x_real_test.torch'))\n",
    "    pickle_it(x_real_train, pt.join(pt.dirname(experiment_directory), 'x_real_train.torch'))\n",
    "    pickle_it(algo.training_loss, pt.join(experiment_directory, 'training_loss.pkl'))\n",
    "    pickle_it(algo.G.to('cpu').state_dict(), pt.join(experiment_directory, 'G_weights.torch'))\n",
    "    # Log some results at the end of training\n",
    "    algo.plot_losses()\n",
    "    savefig('losses.png', experiment_directory)\n",
    "\n",
    "\n",
    "def get_dataset_configuration():\n",
    "    price_df = pd.read_csv('./data/sp500.csv')\n",
    "    price_df.set_index('datadate', inplace=True)\n",
    "    df_0 = price_df[['AAPL', 'DIS', 'XOM', 'INTC', 'MSFT', 'AMZN', 'NVDA', 'CRM', 'GOOGL', 'TSLA']]\n",
    "    df_1 = df_0.dropna(axis=0)\n",
    "    df_2 = df_1.pct_change().applymap(lambda x: np.log1p(x)).dropna()\n",
    "    return df_2"
   ],
   "id": "2446235fa7adb4d4",
   "outputs": [],
   "execution_count": 2
  },
  {
   "metadata": {
    "ExecuteTime": {
     "end_time": "2025-04-16T06:51:43.893077Z",
     "start_time": "2025-04-16T06:51:43.862814Z"
    }
   },
   "cell_type": "code",
   "source": [
    "parser = argparse.ArgumentParser()\n",
    "# Meta parameters\n",
    "parser.add_argument('-base_dir', default='./numerical_results', type=str)\n",
    "parser.add_argument('-use_cuda', default=1, action='store_true')\n",
    "parser.add_argument('-device', default=0, type=int)\n",
    "parser.add_argument('-num_seeds', default=1, type=int)\n",
    "parser.add_argument('-initial_seed', default=0, type=int)\n",
    "#parser.add_argument('-datasets', default=['ARCH', 'STOCKS', 'ECG', 'VAR', ], nargs=\"+\")\n",
    "parser.add_argument('-datasets', default=['STOCKS', 'ARCH', 'VAR', ], nargs=\"+\")\n",
    "parser.add_argument('-algos', default=['SigCWGAN', 'GMMN', 'RCGAN', 'TimeGAN', 'RCWGAN', 'CWGAN', ], nargs=\"+\")\n",
    "\n",
    "# Algo hyperparameters\n",
    "parser.add_argument('-batch_size', default=200, type=int)\n",
    "parser.add_argument('-p', default=3, type=int)\n",
    "parser.add_argument('-q', default=3, type=int)\n",
    "parser.add_argument('-hidden_dims', default=4 * (64,), type=tuple)\n",
    "parser.add_argument('-total_steps', default=1000, type=int)\n",
    "\n",
    "args, unknown = parser.parse_known_args()\n",
    "\n",
    "set_seed(0)\n",
    "\n",
    "base_config = BaseConfig(\n",
    "    device='cuda:{}'.format(args.device) if args.use_cuda and torch.cuda.is_available() else 'cpu',\n",
    "    batch_size=args.batch_size,\n",
    "    hidden_dims=args.hidden_dims,\n",
    "    seed=0,\n",
    "    p=args.p,\n",
    "    q=args.q,\n",
    "    total_steps=args.total_steps,\n",
    "    mc_samples=1000,\n",
    ")\n",
    "\n",
    "data_params = {'dim': 10}\n",
    "base_config.device"
   ],
   "id": "f8ee0802dbc01f4a",
   "outputs": [
    {
     "data": {
      "text/plain": [
       "'cuda:0'"
      ]
     },
     "execution_count": 3,
     "metadata": {},
     "output_type": "execute_result"
    }
   ],
   "execution_count": 3
  },
  {
   "metadata": {
    "ExecuteTime": {
     "end_time": "2025-04-16T07:12:43.740233Z",
     "start_time": "2025-04-16T06:51:43.909104Z"
    }
   },
   "cell_type": "code",
   "source": [
    "run(\n",
    "    algo_id='SigCWGAN',\n",
    "    base_config=base_config,\n",
    "    data_params=data_params,\n",
    "    dataset='VAR',\n",
    ")"
   ],
   "id": "97749a53e81f9877",
   "outputs": [
    {
     "name": "stderr",
     "output_type": "stream",
     "text": [
      "100%|███████████████████████████████████████| 1000/1000 [20:43<00:00,  1.24s/it]\n"
     ]
    }
   ],
   "execution_count": 4
  }
 ],
 "metadata": {
  "kernelspec": {
   "display_name": "Python 3",
   "language": "python",
   "name": "python3"
  },
  "language_info": {
   "codemirror_mode": {
    "name": "ipython",
    "version": 2
   },
   "file_extension": ".py",
   "mimetype": "text/x-python",
   "name": "python",
   "nbconvert_exporter": "python",
   "pygments_lexer": "ipython2",
   "version": "2.7.6"
  }
 },
 "nbformat": 4,
 "nbformat_minor": 5
}
