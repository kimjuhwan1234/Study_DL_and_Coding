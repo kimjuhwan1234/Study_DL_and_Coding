{
 "cells": [
  {
   "cell_type": "code",
   "id": "initial_id",
   "metadata": {
    "collapsed": true,
    "ExecuteTime": {
     "end_time": "2025-04-27T11:18:46.154387Z",
     "start_time": "2025-04-27T11:18:44.736406Z"
    }
   },
   "source": [
    "import gc\n",
    "import torch\n",
    "import argparse\n",
    "import numpy as np\n",
    "import pandas as pd\n",
    "import matplotlib.pyplot as plt\n",
    "from lib import ALGOS\n",
    "from os import path as pt\n",
    "from lib.utils import pickle_it\n",
    "from lib.algos.base import BaseConfig\n",
    "from lib.data import get_data, get_data2\n",
    "from hyperparameters import SIGCWGAN_CONFIGS\n",
    "from lib.plot import savefig, create_summary\n",
    "\n",
    "gc.collect()"
   ],
   "outputs": [
    {
     "data": {
      "text/plain": [
       "0"
      ]
     },
     "execution_count": 1,
     "metadata": {},
     "output_type": "execute_result"
    }
   ],
   "execution_count": 1
  },
  {
   "metadata": {
    "ExecuteTime": {
     "end_time": "2025-04-27T11:18:46.169652Z",
     "start_time": "2025-04-27T11:18:46.158112Z"
    }
   },
   "cell_type": "code",
   "source": [
    "def get_algo_config(dataset, data_params):\n",
    "    \"\"\" Get the algorithms parameters. \"\"\"\n",
    "    key = dataset\n",
    "    if dataset == 'VAR':\n",
    "        key += str(data_params['dim'])\n",
    "    elif dataset == 'STOCKS':\n",
    "        key += '_' + '_'.join(data_params['assets'])\n",
    "    return SIGCWGAN_CONFIGS[key]\n",
    "\n",
    "\n",
    "def set_seed(seed):\n",
    "    torch.manual_seed(seed)\n",
    "    np.random.seed(seed)\n",
    "\n",
    "\n",
    "def get_algo(algo_id, base_config, dataset, data_params, x_real):\n",
    "    if algo_id == 'SigCWGAN':\n",
    "        algo_config = get_algo_config(dataset, data_params)\n",
    "        algo = ALGOS[algo_id](x_real=x_real, config=algo_config, base_config=base_config)\n",
    "    else:\n",
    "        algo = ALGOS[algo_id](x_real=x_real, base_config=base_config)\n",
    "    return algo\n",
    "\n",
    "\n",
    "def run(algo_id, base_config, dataset, data_params={}):\n",
    "    \"\"\" Create the experiment directory, calibrate algorithm, store relevant parameters. \"\"\"\n",
    "    experiment_directory = f'./numerical_results/{dataset}/stock/seed=0/SigCWGAN'\n",
    "\n",
    "    df_2 = get_dataset_configuration()\n",
    "    x_real = get_data2(df_2.values.reshape(1, -1, 10), base_config.p, base_config.q)\n",
    "    x_real = x_real.to(base_config.device)\n",
    "    ind_train = int(x_real.shape[0] * 0.8)\n",
    "    x_real_train, x_real_test = x_real[:ind_train], x_real[ind_train:]  #train_test_split(x_real, train_size = 0.8)\n",
    "\n",
    "    algo = get_algo(algo_id, base_config, dataset, data_params, x_real_train)\n",
    "    # Train the algorithm\n",
    "    algo.fit()\n",
    "    # create summary\n",
    "    create_summary(dataset, base_config.device, algo.G, base_config.p, base_config.q, x_real_test)\n",
    "    savefig('summary.png', experiment_directory)\n",
    "    x_fake = create_summary(dataset, base_config.device, algo.G, base_config.p, 8000, x_real_test, one=True)\n",
    "    savefig('summary_long.png', experiment_directory)\n",
    "    plt.plot(x_fake.cpu().numpy()[0, :2000])\n",
    "    savefig('long_path.png', experiment_directory)\n",
    "    # Pickle generator weights, real path and hyperparameters.\n",
    "    pickle_it(x_real, pt.join(pt.dirname(experiment_directory), 'x_real.torch'))\n",
    "    pickle_it(x_real_test, pt.join(pt.dirname(experiment_directory), 'x_real_test.torch'))\n",
    "    pickle_it(x_real_train, pt.join(pt.dirname(experiment_directory), 'x_real_train.torch'))\n",
    "    pickle_it(algo.training_loss, pt.join(experiment_directory, 'training_loss.pkl'))\n",
    "    pickle_it(algo.G.to('cpu').state_dict(), pt.join(experiment_directory, 'G_weights.torch'))\n",
    "    # Log some results at the end of training\n",
    "    algo.plot_losses()\n",
    "    savefig('losses.png', experiment_directory)\n",
    "\n",
    "\n",
    "def get_dataset_configuration():\n",
    "    price_df = pd.read_csv('./data/sp500.csv')\n",
    "    price_df.set_index('datadate', inplace=True)\n",
    "    df_0 = price_df[['AAPL', 'DIS', 'XOM', 'INTC', 'MSFT', 'AMZN', 'NVDA', 'CRM', 'GOOGL', 'TSLA']]\n",
    "    df_1 = df_0.dropna(axis=0)\n",
    "    df_2 = df_1.pct_change().dropna()\n",
    "    return df_2"
   ],
   "id": "2446235fa7adb4d4",
   "outputs": [],
   "execution_count": 2
  },
  {
   "metadata": {
    "ExecuteTime": {
     "end_time": "2025-04-27T11:18:49.178711Z",
     "start_time": "2025-04-27T11:18:49.152580Z"
    }
   },
   "cell_type": "code",
   "source": [
    "parser = argparse.ArgumentParser()\n",
    "# Meta parameters\n",
    "parser.add_argument('-base_dir', default='./numerical_results', type=str)\n",
    "parser.add_argument('-use_cuda', default=1, action='store_true')\n",
    "parser.add_argument('-device', default=0, type=int)\n",
    "parser.add_argument('-num_seeds', default=1, type=int)\n",
    "parser.add_argument('-initial_seed', default=0, type=int)\n",
    "#parser.add_argument('-datasets', default=['ARCH', 'STOCKS', 'ECG', 'VAR', ], nargs=\"+\")\n",
    "parser.add_argument('-datasets', default=['STOCKS', 'ARCH', 'VAR', ], nargs=\"+\")\n",
    "parser.add_argument('-algos', default=['SigCWGAN', 'GMMN', 'RCGAN', 'TimeGAN', 'RCWGAN', 'CWGAN', ], nargs=\"+\")\n",
    "\n",
    "# Algo hyperparameters\n",
    "parser.add_argument('-batch_size', default=200, type=int)\n",
    "parser.add_argument('-p', default=3, type=int)\n",
    "parser.add_argument('-q', default=3, type=int)\n",
    "parser.add_argument('-hidden_dims', default=5 * (64,), type=tuple)\n",
    "parser.add_argument('-total_steps', default=1000, type=int)\n",
    "\n",
    "args, unknown = parser.parse_known_args()\n",
    "\n",
    "set_seed(0)\n",
    "\n",
    "base_config = BaseConfig(\n",
    "    device='cuda:{}'.format(args.device) if args.use_cuda and torch.cuda.is_available() else 'cpu',\n",
    "    batch_size=args.batch_size,\n",
    "    hidden_dims=args.hidden_dims,\n",
    "    seed=0,\n",
    "    p=args.p,\n",
    "    q=args.q,\n",
    "    total_steps=args.total_steps,\n",
    "    mc_samples=1000,\n",
    ")\n",
    "\n",
    "data_params = {'dim': 10}\n",
    "base_config.device"
   ],
   "id": "f8ee0802dbc01f4a",
   "outputs": [
    {
     "data": {
      "text/plain": [
       "'cuda:0'"
      ]
     },
     "execution_count": 3,
     "metadata": {},
     "output_type": "execute_result"
    }
   ],
   "execution_count": 3
  },
  {
   "metadata": {
    "ExecuteTime": {
     "end_time": "2025-04-27T11:19:19.221818Z",
     "start_time": "2025-04-27T11:18:52.614639Z"
    }
   },
   "cell_type": "code",
   "source": [
    "run(\n",
    "    algo_id='SigCWGAN',\n",
    "    base_config=base_config,\n",
    "    data_params=data_params,\n",
    "    dataset='VAR',\n",
    ")"
   ],
   "id": "97749a53e81f9877",
   "outputs": [
    {
     "name": "stderr",
     "output_type": "stream",
     "text": [
      "  0%|                                          | 2/1000 [00:05<41:44,  2.51s/it]\n"
     ]
    },
    {
     "ename": "KeyboardInterrupt",
     "evalue": "",
     "output_type": "error",
     "traceback": [
      "\u001B[1;31m---------------------------------------------------------------------------\u001B[0m",
      "\u001B[1;31mKeyboardInterrupt\u001B[0m                         Traceback (most recent call last)",
      "Cell \u001B[1;32mIn[4], line 1\u001B[0m\n\u001B[1;32m----> 1\u001B[0m \u001B[43mrun\u001B[49m\u001B[43m(\u001B[49m\n\u001B[0;32m      2\u001B[0m \u001B[43m    \u001B[49m\u001B[43malgo_id\u001B[49m\u001B[38;5;241;43m=\u001B[39;49m\u001B[38;5;124;43m'\u001B[39;49m\u001B[38;5;124;43mSigCWGAN\u001B[39;49m\u001B[38;5;124;43m'\u001B[39;49m\u001B[43m,\u001B[49m\n\u001B[0;32m      3\u001B[0m \u001B[43m    \u001B[49m\u001B[43mbase_config\u001B[49m\u001B[38;5;241;43m=\u001B[39;49m\u001B[43mbase_config\u001B[49m\u001B[43m,\u001B[49m\n\u001B[0;32m      4\u001B[0m \u001B[43m    \u001B[49m\u001B[43mdata_params\u001B[49m\u001B[38;5;241;43m=\u001B[39;49m\u001B[43mdata_params\u001B[49m\u001B[43m,\u001B[49m\n\u001B[0;32m      5\u001B[0m \u001B[43m    \u001B[49m\u001B[43mdataset\u001B[49m\u001B[38;5;241;43m=\u001B[39;49m\u001B[38;5;124;43m'\u001B[39;49m\u001B[38;5;124;43mVAR\u001B[39;49m\u001B[38;5;124;43m'\u001B[39;49m\u001B[43m,\u001B[49m\n\u001B[0;32m      6\u001B[0m \u001B[43m)\u001B[49m\n",
      "Cell \u001B[1;32mIn[2], line 37\u001B[0m, in \u001B[0;36mrun\u001B[1;34m(algo_id, base_config, dataset, data_params)\u001B[0m\n\u001B[0;32m     35\u001B[0m algo \u001B[38;5;241m=\u001B[39m get_algo(algo_id, base_config, dataset, data_params, x_real_train)\n\u001B[0;32m     36\u001B[0m \u001B[38;5;66;03m# Train the algorithm\u001B[39;00m\n\u001B[1;32m---> 37\u001B[0m \u001B[43malgo\u001B[49m\u001B[38;5;241;43m.\u001B[39;49m\u001B[43mfit\u001B[49m\u001B[43m(\u001B[49m\u001B[43m)\u001B[49m\n\u001B[0;32m     38\u001B[0m \u001B[38;5;66;03m# create summary\u001B[39;00m\n\u001B[0;32m     39\u001B[0m create_summary(dataset, base_config\u001B[38;5;241m.\u001B[39mdevice, algo\u001B[38;5;241m.\u001B[39mG, base_config\u001B[38;5;241m.\u001B[39mp, base_config\u001B[38;5;241m.\u001B[39mq, x_real_test)\n",
      "File \u001B[1;32m~\\바탕 화면\\Dokumen\\GitHub\\Study\\Study_DL_and_Coding\\RISK_ESTIMATION\\lib\\algos\\base.py:60\u001B[0m, in \u001B[0;36mBaseAlgo.fit\u001B[1;34m(self)\u001B[0m\n\u001B[0;32m     58\u001B[0m     \u001B[38;5;28mself\u001B[39m\u001B[38;5;241m.\u001B[39mbatch_size \u001B[38;5;241m=\u001B[39m \u001B[38;5;28mself\u001B[39m\u001B[38;5;241m.\u001B[39mx_real\u001B[38;5;241m.\u001B[39mshape[\u001B[38;5;241m0\u001B[39m]\n\u001B[0;32m     59\u001B[0m \u001B[38;5;28;01mfor\u001B[39;00m _ \u001B[38;5;129;01min\u001B[39;00m tqdm(\u001B[38;5;28mrange\u001B[39m(\u001B[38;5;28mself\u001B[39m\u001B[38;5;241m.\u001B[39mtotal_steps), ncols\u001B[38;5;241m=\u001B[39m\u001B[38;5;241m80\u001B[39m):  \u001B[38;5;66;03m# sig_pred, x_past, x_real\u001B[39;00m\n\u001B[1;32m---> 60\u001B[0m     \u001B[38;5;28;43mself\u001B[39;49m\u001B[38;5;241;43m.\u001B[39;49m\u001B[43mstep\u001B[49m\u001B[43m(\u001B[49m\u001B[43m)\u001B[49m\n",
      "File \u001B[1;32m~\\바탕 화면\\Dokumen\\GitHub\\Study\\Study_DL_and_Coding\\RISK_ESTIMATION\\lib\\algos\\sigcwgan.py:80\u001B[0m, in \u001B[0;36mSigCWGAN.step\u001B[1;34m(self)\u001B[0m\n\u001B[0;32m     78\u001B[0m sigs_fake_ce, x_fake \u001B[38;5;241m=\u001B[39m sample_sig_fake(\u001B[38;5;28mself\u001B[39m\u001B[38;5;241m.\u001B[39mG, \u001B[38;5;28mself\u001B[39m\u001B[38;5;241m.\u001B[39mq, \u001B[38;5;28mself\u001B[39m\u001B[38;5;241m.\u001B[39msig_config, x_past)\n\u001B[0;32m     79\u001B[0m loss \u001B[38;5;241m=\u001B[39m sigcwgan_loss(sigs_pred, sigs_fake_ce)\n\u001B[1;32m---> 80\u001B[0m \u001B[43mloss\u001B[49m\u001B[38;5;241;43m.\u001B[39;49m\u001B[43mbackward\u001B[49m\u001B[43m(\u001B[49m\u001B[43m)\u001B[49m\n\u001B[0;32m     81\u001B[0m total_norm \u001B[38;5;241m=\u001B[39m torch\u001B[38;5;241m.\u001B[39mnn\u001B[38;5;241m.\u001B[39mutils\u001B[38;5;241m.\u001B[39mclip_grad_norm_(\u001B[38;5;28mself\u001B[39m\u001B[38;5;241m.\u001B[39mG\u001B[38;5;241m.\u001B[39mparameters(), \u001B[38;5;241m10\u001B[39m)\n\u001B[0;32m     82\u001B[0m \u001B[38;5;28mself\u001B[39m\u001B[38;5;241m.\u001B[39mtraining_loss[\u001B[38;5;124m'\u001B[39m\u001B[38;5;124mloss\u001B[39m\u001B[38;5;124m'\u001B[39m]\u001B[38;5;241m.\u001B[39mappend(loss\u001B[38;5;241m.\u001B[39mitem())\n",
      "File \u001B[1;32m~\\miniconda3\\envs\\myenv\\lib\\site-packages\\torch\\_tensor.py:255\u001B[0m, in \u001B[0;36mTensor.backward\u001B[1;34m(self, gradient, retain_graph, create_graph, inputs)\u001B[0m\n\u001B[0;32m    246\u001B[0m \u001B[38;5;28;01mif\u001B[39;00m has_torch_function_unary(\u001B[38;5;28mself\u001B[39m):\n\u001B[0;32m    247\u001B[0m     \u001B[38;5;28;01mreturn\u001B[39;00m handle_torch_function(\n\u001B[0;32m    248\u001B[0m         Tensor\u001B[38;5;241m.\u001B[39mbackward,\n\u001B[0;32m    249\u001B[0m         (\u001B[38;5;28mself\u001B[39m,),\n\u001B[1;32m   (...)\u001B[0m\n\u001B[0;32m    253\u001B[0m         create_graph\u001B[38;5;241m=\u001B[39mcreate_graph,\n\u001B[0;32m    254\u001B[0m         inputs\u001B[38;5;241m=\u001B[39minputs)\n\u001B[1;32m--> 255\u001B[0m \u001B[43mtorch\u001B[49m\u001B[38;5;241;43m.\u001B[39;49m\u001B[43mautograd\u001B[49m\u001B[38;5;241;43m.\u001B[39;49m\u001B[43mbackward\u001B[49m\u001B[43m(\u001B[49m\u001B[38;5;28;43mself\u001B[39;49m\u001B[43m,\u001B[49m\u001B[43m \u001B[49m\u001B[43mgradient\u001B[49m\u001B[43m,\u001B[49m\u001B[43m \u001B[49m\u001B[43mretain_graph\u001B[49m\u001B[43m,\u001B[49m\u001B[43m \u001B[49m\u001B[43mcreate_graph\u001B[49m\u001B[43m,\u001B[49m\u001B[43m \u001B[49m\u001B[43minputs\u001B[49m\u001B[38;5;241;43m=\u001B[39;49m\u001B[43minputs\u001B[49m\u001B[43m)\u001B[49m\n",
      "File \u001B[1;32m~\\miniconda3\\envs\\myenv\\lib\\site-packages\\torch\\autograd\\__init__.py:147\u001B[0m, in \u001B[0;36mbackward\u001B[1;34m(tensors, grad_tensors, retain_graph, create_graph, grad_variables, inputs)\u001B[0m\n\u001B[0;32m    144\u001B[0m \u001B[38;5;28;01mif\u001B[39;00m retain_graph \u001B[38;5;129;01mis\u001B[39;00m \u001B[38;5;28;01mNone\u001B[39;00m:\n\u001B[0;32m    145\u001B[0m     retain_graph \u001B[38;5;241m=\u001B[39m create_graph\n\u001B[1;32m--> 147\u001B[0m \u001B[43mVariable\u001B[49m\u001B[38;5;241;43m.\u001B[39;49m\u001B[43m_execution_engine\u001B[49m\u001B[38;5;241;43m.\u001B[39;49m\u001B[43mrun_backward\u001B[49m\u001B[43m(\u001B[49m\n\u001B[0;32m    148\u001B[0m \u001B[43m    \u001B[49m\u001B[43mtensors\u001B[49m\u001B[43m,\u001B[49m\u001B[43m \u001B[49m\u001B[43mgrad_tensors_\u001B[49m\u001B[43m,\u001B[49m\u001B[43m \u001B[49m\u001B[43mretain_graph\u001B[49m\u001B[43m,\u001B[49m\u001B[43m \u001B[49m\u001B[43mcreate_graph\u001B[49m\u001B[43m,\u001B[49m\u001B[43m \u001B[49m\u001B[43minputs\u001B[49m\u001B[43m,\u001B[49m\n\u001B[0;32m    149\u001B[0m \u001B[43m    \u001B[49m\u001B[43mallow_unreachable\u001B[49m\u001B[38;5;241;43m=\u001B[39;49m\u001B[38;5;28;43;01mTrue\u001B[39;49;00m\u001B[43m,\u001B[49m\u001B[43m \u001B[49m\u001B[43maccumulate_grad\u001B[49m\u001B[38;5;241;43m=\u001B[39;49m\u001B[38;5;28;43;01mTrue\u001B[39;49;00m\u001B[43m)\u001B[49m\n",
      "\u001B[1;31mKeyboardInterrupt\u001B[0m: "
     ]
    }
   ],
   "execution_count": 4
  }
 ],
 "metadata": {
  "kernelspec": {
   "display_name": "Python 3",
   "language": "python",
   "name": "python3"
  },
  "language_info": {
   "codemirror_mode": {
    "name": "ipython",
    "version": 2
   },
   "file_extension": ".py",
   "mimetype": "text/x-python",
   "name": "python",
   "nbconvert_exporter": "python",
   "pygments_lexer": "ipython2",
   "version": "2.7.6"
  }
 },
 "nbformat": 4,
 "nbformat_minor": 5
}
