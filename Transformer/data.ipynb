{
 "cells": [
  {
   "metadata": {
    "ExecuteTime": {
     "end_time": "2025-03-18T07:39:14.562466Z",
     "start_time": "2025-03-18T07:39:10.454869Z"
    }
   },
   "cell_type": "code",
   "source": [
    "import warnings\n",
    "from dataset import IMDBDataset\n",
    "from datasets import load_dataset\n",
    "from transformers import AutoTokenizer\n",
    "from torch.utils.data import DataLoader, random_split\n",
    "warnings.filterwarnings(\"ignore\")"
   ],
   "id": "4012afe7b944c7dd",
   "outputs": [],
   "execution_count": 1
  },
  {
   "metadata": {
    "ExecuteTime": {
     "end_time": "2025-03-18T07:39:35.105678Z",
     "start_time": "2025-03-18T07:39:14.571370Z"
    }
   },
   "cell_type": "code",
   "source": [
    "# load data\n",
    "dataset = load_dataset(\"imdb\")\n",
    "tokenizer = AutoTokenizer.from_pretrained(\"bert-base-uncased\")\n",
    "\n",
    "\n",
    "def tokenize_function(examples):\n",
    "    return tokenizer(examples[\"text\"], padding=\"max_length\", truncation=True, max_length=128)\n",
    "\n",
    "\n",
    "# 데이터셋 변환\n",
    "tokenized_datasets = dataset.map(tokenize_function, batched=True)\n",
    "train_dataset = IMDBDataset(tokenized_datasets[\"train\"])\n",
    "test_dataset = IMDBDataset(tokenized_datasets[\"test\"])\n",
    "\n",
    "train_size = int(0.8 * len(train_dataset))  # 80% for training\n",
    "val_size = len(train_dataset) - train_size  # 20% for validation\n",
    "train_data, val_data = random_split(train_dataset, [train_size, val_size])\n",
    "\n",
    "batch_size = 16\n",
    "train_dataloader = DataLoader(train_data, batch_size=batch_size, shuffle=True)\n",
    "val_dataloader = DataLoader(val_data, batch_size=batch_size, shuffle=True)\n",
    "test_dataloader = DataLoader(test_dataset, batch_size=batch_size, shuffle=False)"
   ],
   "id": "f7b836e86f38d065",
   "outputs": [
    {
     "data": {
      "text/plain": [
       "Map:   0%|          | 0/25000 [00:00<?, ? examples/s]"
      ],
      "application/vnd.jupyter.widget-view+json": {
       "version_major": 2,
       "version_minor": 0,
       "model_id": "eaf56d6c93e547219eaf16dc70d2ed7f"
      }
     },
     "metadata": {},
     "output_type": "display_data"
    }
   ],
   "execution_count": 2
  },
  {
   "metadata": {
    "ExecuteTime": {
     "end_time": "2025-03-18T07:39:35.227041Z",
     "start_time": "2025-03-18T07:39:35.211031Z"
    }
   },
   "cell_type": "code",
   "source": "next(iter(train_dataloader))[0].shape",
   "id": "93821c9af8a236af",
   "outputs": [
    {
     "data": {
      "text/plain": [
       "torch.Size([16, 128])"
      ]
     },
     "execution_count": 3,
     "metadata": {},
     "output_type": "execute_result"
    }
   ],
   "execution_count": 3
  },
  {
   "metadata": {
    "ExecuteTime": {
     "end_time": "2025-03-18T07:39:35.259753Z",
     "start_time": "2025-03-18T07:39:35.244408Z"
    }
   },
   "cell_type": "code",
   "source": "next(iter(train_dataloader))[0]",
   "id": "a716d0fb6f53705a",
   "outputs": [
    {
     "data": {
      "text/plain": [
       "tensor([[  101, 24905, 17988,  ...,     0,     0,     0],\n",
       "        [  101,  3437,  1024,  ...,  2084,  1996,   102],\n",
       "        [  101,  5954,  2003,  ..., 24324,  2007,   102],\n",
       "        ...,\n",
       "        [  101,  2129,  2515,  ...,  2035,  1996,   102],\n",
       "        [  101,  1996,  5436,  ...,  2038,  2196,   102],\n",
       "        [  101,  2070,  2111,  ...,  4103,  1005,   102]])"
      ]
     },
     "execution_count": 4,
     "metadata": {},
     "output_type": "execute_result"
    }
   ],
   "execution_count": 4
  },
  {
   "metadata": {
    "ExecuteTime": {
     "end_time": "2025-03-18T07:39:35.313381Z",
     "start_time": "2025-03-18T07:39:35.300562Z"
    }
   },
   "cell_type": "code",
   "source": "next(iter(train_dataloader))[1].shape",
   "id": "93a76ccc43cf25a8",
   "outputs": [
    {
     "data": {
      "text/plain": [
       "torch.Size([16, 128])"
      ]
     },
     "execution_count": 5,
     "metadata": {},
     "output_type": "execute_result"
    }
   ],
   "execution_count": 5
  },
  {
   "metadata": {
    "ExecuteTime": {
     "end_time": "2025-03-18T07:39:35.492429Z",
     "start_time": "2025-03-18T07:39:35.474344Z"
    }
   },
   "cell_type": "code",
   "source": "next(iter(train_dataloader))[1]",
   "id": "1412a77d163c6995",
   "outputs": [
    {
     "data": {
      "text/plain": [
       "tensor([[1, 1, 1,  ..., 1, 1, 1],\n",
       "        [1, 1, 1,  ..., 0, 0, 0],\n",
       "        [1, 1, 1,  ..., 1, 1, 1],\n",
       "        ...,\n",
       "        [1, 1, 1,  ..., 1, 1, 1],\n",
       "        [1, 1, 1,  ..., 1, 1, 1],\n",
       "        [1, 1, 1,  ..., 1, 1, 1]])"
      ]
     },
     "execution_count": 6,
     "metadata": {},
     "output_type": "execute_result"
    }
   ],
   "execution_count": 6
  },
  {
   "metadata": {
    "ExecuteTime": {
     "end_time": "2025-03-18T07:39:35.511592Z",
     "start_time": "2025-03-18T07:39:35.498945Z"
    }
   },
   "cell_type": "code",
   "source": "next(iter(train_dataloader))[2].shape",
   "id": "ce7b8ce6f80bd6b9",
   "outputs": [
    {
     "data": {
      "text/plain": [
       "torch.Size([16])"
      ]
     },
     "execution_count": 7,
     "metadata": {},
     "output_type": "execute_result"
    }
   ],
   "execution_count": 7
  },
  {
   "metadata": {
    "ExecuteTime": {
     "end_time": "2025-03-18T07:39:35.811353Z",
     "start_time": "2025-03-18T07:39:35.795998Z"
    }
   },
   "cell_type": "code",
   "source": "next(iter(train_dataloader))[2]",
   "id": "62373627ece6c8d",
   "outputs": [
    {
     "data": {
      "text/plain": [
       "tensor([1, 1, 1, 0, 1, 1, 0, 0, 0, 0, 0, 1, 0, 1, 0, 1])"
      ]
     },
     "execution_count": 8,
     "metadata": {},
     "output_type": "execute_result"
    }
   ],
   "execution_count": 8
  }
 ],
 "metadata": {
  "kernelspec": {
   "display_name": "Python 3",
   "language": "python",
   "name": "python3"
  },
  "language_info": {
   "codemirror_mode": {
    "name": "ipython",
    "version": 2
   },
   "file_extension": ".py",
   "mimetype": "text/x-python",
   "name": "python",
   "nbconvert_exporter": "python",
   "pygments_lexer": "ipython2",
   "version": "2.7.6"
  }
 },
 "nbformat": 4,
 "nbformat_minor": 5
}
