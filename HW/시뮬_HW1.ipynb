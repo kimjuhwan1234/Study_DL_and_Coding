{
 "cells": [
  {
   "cell_type": "markdown",
   "id": "82aab5eeac96216",
   "metadata": {},
   "source": [
    "# INE 9104 - Spring 2025\n",
    "### Homework 1\n",
    "### due Friday Mar/21"
   ]
  },
  {
   "cell_type": "markdown",
   "id": "d127c8cdeb47ee17",
   "metadata": {},
   "source": [
    " # 1.\n",
    " Usethe linear congruential method to generate a sequence of three two-digit random\n",
    " integers and corresponding random numbers. Let X0 = 27, a = 8, c = 47, and\n",
    " m=100."
   ]
  },
  {
   "cell_type": "code",
   "execution_count": 1,
   "id": "ce9c9f2a0f898ee6",
   "metadata": {
    "ExecuteTime": {
     "end_time": "2025-03-20T03:49:06.845300Z",
     "start_time": "2025-03-20T03:49:06.837345Z"
    }
   },
   "outputs": [],
   "source": [
    "def linear_congruential_method(n):\n",
    "    if n == 0:\n",
    "        return 27\n",
    "    else:\n",
    "        return (8 * linear_congruential_method(n - 1) + 47) % 100"
   ]
  },
  {
   "cell_type": "code",
   "execution_count": 2,
   "id": "c7cd240f84a67967",
   "metadata": {
    "ExecuteTime": {
     "end_time": "2025-03-20T03:49:06.853497Z",
     "start_time": "2025-03-20T03:49:06.845300Z"
    }
   },
   "outputs": [
    {
     "name": "stdout",
     "output_type": "stream",
     "text": [
      "0.27\n",
      "0.63\n",
      "0.51\n",
      "0.55\n",
      "0.87\n",
      "0.43\n",
      "0.91\n",
      "0.75\n",
      "0.47\n",
      "0.23\n"
     ]
    }
   ],
   "source": [
    "for i in range(10):\n",
    "    print(linear_congruential_method(i) / 100)"
   ]
  },
  {
   "cell_type": "markdown",
   "id": "b1a89f469f5ecc0d",
   "metadata": {},
   "source": [
    "# 2.\n",
    "Consider the multiplicative congruential generator (the linear congruential method\n",
    " with c = 0) under the following circumstances:\n",
    " (a) X0 = 7,a = 11,m = 16\n",
    " (b) X0 = 8,a = 11,m = 16\n",
    " (c) X0 = 7,a = 7,m =16\n",
    " (d) X0 = 8,a = 7,m =16\n",
    " Generate enough values in each case to complete a cycle. What inferences can be\n",
    " drawn? Is the full period achieved?"
   ]
  },
  {
   "cell_type": "code",
   "execution_count": 3,
   "id": "70a7d54c9c9c051a",
   "metadata": {
    "ExecuteTime": {
     "end_time": "2025-03-20T03:49:06.951778Z",
     "start_time": "2025-03-20T03:49:06.948423Z"
    }
   },
   "outputs": [],
   "source": [
    "def linear_congruential_method1(n):\n",
    "    if n == 0:\n",
    "        return 7\n",
    "    else:\n",
    "        return (11 * linear_congruential_method(n - 1)) % 16"
   ]
  },
  {
   "cell_type": "code",
   "execution_count": 4,
   "id": "6cdf76a758ced27a",
   "metadata": {
    "ExecuteTime": {
     "end_time": "2025-03-20T03:49:06.956316Z",
     "start_time": "2025-03-20T03:49:06.951778Z"
    }
   },
   "outputs": [],
   "source": [
    "def linear_congruential_method2(n):\n",
    "    if n == 0:\n",
    "        return 8\n",
    "    else:\n",
    "        return (11 * linear_congruential_method(n - 1)) % 16"
   ]
  },
  {
   "cell_type": "code",
   "execution_count": 5,
   "id": "98ca7ba86aa9d7bb",
   "metadata": {
    "ExecuteTime": {
     "end_time": "2025-03-20T03:49:06.963171Z",
     "start_time": "2025-03-20T03:49:06.960149Z"
    }
   },
   "outputs": [],
   "source": [
    "def linear_congruential_method3(n):\n",
    "    if n == 0:\n",
    "        return 7\n",
    "    else:\n",
    "        return (7 * linear_congruential_method(n - 1)) % 16"
   ]
  },
  {
   "cell_type": "code",
   "execution_count": 6,
   "id": "62fe09f52e0bbe8e",
   "metadata": {
    "ExecuteTime": {
     "end_time": "2025-03-20T03:49:06.971010Z",
     "start_time": "2025-03-20T03:49:06.967678Z"
    }
   },
   "outputs": [],
   "source": [
    "def linear_congruential_method4(n):\n",
    "    if n == 0:\n",
    "        return 8\n",
    "    else:\n",
    "        return (7 * linear_congruential_method(n - 1)) % 16"
   ]
  },
  {
   "cell_type": "code",
   "execution_count": 7,
   "id": "3d0023a1a0ec10dc",
   "metadata": {
    "ExecuteTime": {
     "end_time": "2025-03-20T03:49:06.978270Z",
     "start_time": "2025-03-20T03:49:06.975015Z"
    }
   },
   "outputs": [],
   "source": [
    "def find_cycle(sequence):\n",
    "    \"\"\"주기를 자동으로 찾는 함수 (Floyd’s cycle detection)\"\"\"\n",
    "    n = len(sequence)\n",
    "    for cycle_length in range(1, n // 2 + 1):  # 가능한 주기 길이를 순차적으로 검사\n",
    "        if sequence[:cycle_length] == sequence[cycle_length:2 * cycle_length]:\n",
    "            return cycle_length\n",
    "    return -1  # 주기가 없을 경우"
   ]
  },
  {
   "cell_type": "code",
   "execution_count": 8,
   "id": "6627af76edf9b888",
   "metadata": {
    "ExecuteTime": {
     "end_time": "2025-03-20T03:49:06.988545Z",
     "start_time": "2025-03-20T03:49:06.983372Z"
    }
   },
   "outputs": [
    {
     "name": "stdout",
     "output_type": "stream",
     "text": [
      "반복 주기: 20\n",
      "사이클: [9, 5, 1, 13, 13, 9, 9, 9, 5, 13, 5, 5, 13, 1, 13, 5, 1, 1, 9, 1]\n",
      "\n",
      "반복 주기: 20\n",
      "사이클: [9, 5, 1, 13, 13, 9, 9, 9, 5, 13, 5, 5, 13, 1, 13, 5, 1, 1, 9, 1]\n",
      "\n",
      "반복 주기: 20\n",
      "사이클: [13, 9, 5, 1, 1, 13, 13, 13, 9, 1, 9, 9, 1, 5, 1, 9, 5, 5, 13, 5]\n",
      "\n",
      "반복 주기: 20\n",
      "사이클: [13, 9, 5, 1, 1, 13, 13, 13, 9, 1, 9, 9, 1, 5, 1, 9, 5, 5, 13, 5]\n",
      "\n"
     ]
    }
   ],
   "source": [
    "cycle_dict = {}\n",
    "cycle_dict[1] = [linear_congruential_method1(a) for a in range(1, 100)]\n",
    "cycle_dict[2] = [linear_congruential_method2(a) for a in range(1, 100)]\n",
    "cycle_dict[3] = [linear_congruential_method3(a) for a in range(1, 100)]\n",
    "cycle_dict[4] = [linear_congruential_method4(a) for a in range(1, 100)]\n",
    "\n",
    "for i in range(1, 5):\n",
    "    cycle_length = find_cycle(cycle_dict[i])\n",
    "    if cycle_length != -1:\n",
    "        print(f\"반복 주기: {cycle_length}\")\n",
    "        print(f\"사이클: {cycle_dict[i][:cycle_length]}\\n\")\n",
    "    else:\n",
    "        print(\"반복되는 주기를 찾을 수 없음\")"
   ]
  },
  {
   "cell_type": "markdown",
   "id": "cb959046332e66a3",
   "metadata": {},
   "source": [
    "# 3.\n",
    "The weekly demand X for a slow-moving item has been found to be approximated\n",
    " well by a geometric distribution on the range {1,2,...}\n",
    " with mean weekly demand\n",
    " of 3.5 items (the pmf of X is Pr(X = k) = (1−p)k−1p for (k = 1,2,...)). Develop\n",
    " a step-by-step procedure for generating X with the inverse transform method and\n",
    " generate 10 values of X demand per week (You may use MATLAB or EXCEL)."
   ]
  },
  {
   "cell_type": "code",
   "execution_count": 9,
   "id": "e1b32ffe3ea63807",
   "metadata": {
    "ExecuteTime": {
     "end_time": "2025-03-20T03:49:07.132778Z",
     "start_time": "2025-03-20T03:49:07.060072Z"
    }
   },
   "outputs": [
    {
     "name": "stdout",
     "output_type": "stream",
     "text": [
      "[ 1  4  4 16  1  2  2  3  1  3]\n"
     ]
    }
   ],
   "source": [
    "import numpy as np\n",
    "\n",
    "p = 1 / 3.5  # 평균이 3.5이므로 p = 1/3.5\n",
    "U = np.random.uniform(0, 1, 10)\n",
    "X = np.round(np.log(1 - U) / np.log(1 - p)).astype(int)\n",
    "print(X)"
   ]
  },
  {
   "cell_type": "markdown",
   "id": "dbe5a2f5fb1b575c",
   "metadata": {},
   "source": [
    "# 4.\n",
    "A machine is taken out of production either if it fails or after 5 hours,\n",
    " whichever comes first. By running similar machines until failure, it has\n",
    " been found that time to failure X has the Weibull distribution with\n",
    " the cdf F(x) = 1−e(x/α)β where α = 8 and β = 0.75 (thelocation parameter is set\n",
    " to ν = 0). The time until the machine is taken out of production can\n",
    " be represented as Y. Develop a step-by-step procedure for generating Y\n",
    " with the inverse transform method and generate 10 values of Y (You may use MAT\n",
    "LAB or EXCEL)."
   ]
  },
  {
   "cell_type": "code",
   "execution_count": 10,
   "id": "14a6acffca3f325d",
   "metadata": {
    "ExecuteTime": {
     "end_time": "2025-03-20T03:49:07.224870Z",
     "start_time": "2025-03-20T03:49:07.221004Z"
    }
   },
   "outputs": [
    {
     "name": "stdout",
     "output_type": "stream",
     "text": [
      "[5.         0.62418813 1.11432334 5.         5.         0.33692267\n",
      " 0.83159943 5.         5.         5.        ]\n"
     ]
    }
   ],
   "source": [
    "# Weibull 분포의 매개변수\n",
    "alpha = 8\n",
    "beta = 0.75\n",
    "U = np.random.uniform(0, 1, 10)\n",
    "X = alpha * (-np.log(1 - U)) ** (1 / beta)\n",
    "Y = np.minimum(X, 5)  # 최대 5시간 제한 적용\n",
    "print(Y)"
   ]
  },
  {
   "metadata": {
    "ExecuteTime": {
     "end_time": "2025-03-26T04:50:17.200247Z",
     "start_time": "2025-03-26T04:50:15.833596Z"
    }
   },
   "cell_type": "code",
   "source": [
    "import numpy as np\n",
    "\n",
    "num_coins = 1000\n",
    "num_tosses = 10\n",
    "num_trials = 10000\n",
    "\n",
    "success_count = 0\n",
    "\n",
    "for _ in range(num_trials):\n",
    "    tosses = np.random.binomial(n=1, p=0.5, size=(num_coins, num_tosses))\n",
    "    heads_count = np.sum(tosses, axis=1)\n",
    "    if np.any(heads_count == 10):\n",
    "        success_count += 1\n",
    "\n",
    "estimated_prob = success_count / num_trials\n",
    "print(f\"Estimated probability: {estimated_prob:.4f}\")"
   ],
   "id": "8ebb241eda7728b6",
   "outputs": [
    {
     "name": "stdout",
     "output_type": "stream",
     "text": [
      "Estimated probability: 0.6179\n"
     ]
    }
   ],
   "execution_count": 48
  }
 ],
 "metadata": {
  "kernelspec": {
   "display_name": "Python 3 (ipykernel)",
   "language": "python",
   "name": "python3"
  },
  "language_info": {
   "codemirror_mode": {
    "name": "ipython",
    "version": 3
   },
   "file_extension": ".py",
   "mimetype": "text/x-python",
   "name": "python",
   "nbconvert_exporter": "python",
   "pygments_lexer": "ipython3",
   "version": "3.12.7"
  }
 },
 "nbformat": 4,
 "nbformat_minor": 5
}
