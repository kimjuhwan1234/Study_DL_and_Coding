{
 "cells": [
  {
   "metadata": {
    "ExecuteTime": {
     "end_time": "2025-03-26T07:47:19.391458Z",
     "start_time": "2025-03-26T07:47:17.939635Z"
    }
   },
   "cell_type": "code",
   "source": [
    "import numpy as np\n",
    "\n",
    "num_coins = 1000\n",
    "num_tosses = 10\n",
    "num_trials = 10000\n",
    "\n",
    "success_count = 0\n",
    "\n",
    "for _ in range(num_trials):\n",
    "    tosses = np.random.binomial(n=1, p=0.5, size=(num_coins, num_tosses))\n",
    "    heads_count = np.sum(tosses, axis=1)\n",
    "    if np.any(heads_count == 10):\n",
    "        success_count += 1\n",
    "\n",
    "estimated_prob = success_count / num_trials\n",
    "print(f\"Estimated probability: {estimated_prob:.4f}\")"
   ],
   "id": "8ebb241eda7728b6",
   "outputs": [
    {
     "name": "stdout",
     "output_type": "stream",
     "text": [
      "Estimated probability: 0.6154\n"
     ]
    }
   ],
   "execution_count": 1
  },
  {
   "metadata": {
    "ExecuteTime": {
     "end_time": "2025-03-26T07:47:19.682909Z",
     "start_time": "2025-03-26T07:47:19.448866Z"
    }
   },
   "cell_type": "code",
   "source": [
    "from scipy.optimize import root_scalar\n",
    "\n",
    "def dlogL(psi):\n",
    "    return 125 / (2 + psi) - 38 / (1 - psi) + 34 / psi\n",
    "\n",
    "# Find root in (0, 1)\n",
    "res = root_scalar(dlogL, bracket=[0.01, 0.99])\n",
    "print(f\"Estimated ψ: {res.root:.4f}\")\n"
   ],
   "id": "260f24e815703101",
   "outputs": [
    {
     "name": "stdout",
     "output_type": "stream",
     "text": [
      "Estimated ψ: 0.6268\n"
     ]
    }
   ],
   "execution_count": 2
  },
  {
   "metadata": {
    "ExecuteTime": {
     "end_time": "2025-03-26T07:47:19.794058Z",
     "start_time": "2025-03-26T07:47:19.790002Z"
    }
   },
   "cell_type": "code",
   "source": [
    "def em_multinomial(y1, y2, y3, y4, n, max_iter=100, tol=1e-6):\n",
    "    psi = 0.5  # 초기값\n",
    "    for _ in range(max_iter):\n",
    "        prev_psi = psi\n",
    "\n",
    "        # E-step\n",
    "        expected_y12 = y1 * (psi / (2 + psi))\n",
    "\n",
    "        # M-step\n",
    "        psi = (y4 + expected_y12) / (n - (y2 + y3))\n",
    "\n",
    "        if abs(psi - prev_psi) < tol:\n",
    "            break\n",
    "    return psi\n",
    "\n",
    "print(f\"{em_multinomial(125, 18, 20, 34, 187):.4f}\")"
   ],
   "id": "584760bf56006f70",
   "outputs": [
    {
     "name": "stdout",
     "output_type": "stream",
     "text": [
      "0.3545\n"
     ]
    }
   ],
   "execution_count": 3
  }
 ],
 "metadata": {
  "kernelspec": {
   "display_name": "Python 3 (ipykernel)",
   "language": "python",
   "name": "python3"
  },
  "language_info": {
   "codemirror_mode": {
    "name": "ipython",
    "version": 3
   },
   "file_extension": ".py",
   "mimetype": "text/x-python",
   "name": "python",
   "nbconvert_exporter": "python",
   "pygments_lexer": "ipython3",
   "version": "3.12.7"
  }
 },
 "nbformat": 4,
 "nbformat_minor": 5
}
